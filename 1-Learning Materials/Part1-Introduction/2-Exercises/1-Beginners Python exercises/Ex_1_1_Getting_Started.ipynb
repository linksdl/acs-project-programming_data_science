{
 "cells": [
  {
   "cell_type": "markdown",
   "metadata": {},
   "source": [
    "# Getting Started with Python\n",
    "\n",
    "This notebook will walk you through some very simple python code. \n",
    "You'll learn to work with strings and basic aritmetic, and how to change what code is executed based on simple conditions.\n",
    "\n",
    "It's important that you use this notebook interactively. Read the text and then read the code cells. Think about what you expect the code to do. Then run the cell (by pressing shift and enter) to find out. Then change the inputs to the functions in that cell and run it again to check you understand what the function is for and that it behaves in the way you expect."
   ]
  },
  {
   "cell_type": "markdown",
   "metadata": {},
   "source": [
    "## Strings\n",
    "\n",
    "### Hello World!\n",
    "The classic first program is Hello World, a program to output a string. \n",
    "A string is just a sequence of letters and other characters.\n",
    "In python we use quote marks (') to indicate where a string begins and ends.\n",
    "Run the cell below. \n",
    "\n",
    "Then try changing the text to make it output something different and run the cell again.\n",
    "\n",
    "You can use double quotes(\") instead of single quotes (') and it will work exactly the same - try replacing 'Hello World!' with \"Hello World!\"\n",
    "What happens if you don't use quote marks at all?"
   ]
  },
  {
   "cell_type": "code",
   "execution_count": 3,
   "metadata": {},
   "outputs": [
    {
     "ename": "SyntaxError",
     "evalue": "invalid syntax (<ipython-input-3-17ced41ef42c>, line 3)",
     "output_type": "error",
     "traceback": [
      "\u001b[0;36m  File \u001b[0;32m\"<ipython-input-3-17ced41ef42c>\"\u001b[0;36m, line \u001b[0;32m3\u001b[0m\n\u001b[0;31m    print(Hello world!)\u001b[0m\n\u001b[0m                    ^\u001b[0m\n\u001b[0;31mSyntaxError\u001b[0m\u001b[0;31m:\u001b[0m invalid syntax\n"
     ]
    }
   ],
   "source": [
    "print('Hello World!')\n",
    "print(\"Hello World!\")\n",
    "# print(Hello world!)"
   ]
  },
  {
   "cell_type": "markdown",
   "metadata": {},
   "source": [
    "### Whoops\n",
    "When you run the next cell it will cause an error. \n",
    "That's because the backslash character \\\\ has another purpose in python strings.\n",
    "If you want to print \\\\ you have to write \\\\\\\\ - try replacing 'Hello World\\\\' with 'Hello World\\\\\\\\' and run the cell again. "
   ]
  },
  {
   "cell_type": "code",
   "execution_count": 6,
   "metadata": {},
   "outputs": [
    {
     "name": "stdout",
     "output_type": "stream",
     "text": [
      "Hello World\\\n"
     ]
    }
   ],
   "source": [
    "print('Hello World\\\\')"
   ]
  },
  {
   "cell_type": "markdown",
   "metadata": {},
   "source": [
    "### Escape Characters\n",
    "The backslash is used to help write special characters. \n",
    "For example, quote marks or tabs or newlines. \n",
    "Look up 'python escape characters' online to learn more, and run the cell below to see some more examples."
   ]
  },
  {
   "cell_type": "code",
   "execution_count": 7,
   "metadata": {},
   "outputs": [
    {
     "name": "stdout",
     "output_type": "stream",
     "text": [
      "Hello \n",
      " World!\n",
      "Hello\b World!\n",
      "Hello\tWorld!\n",
      "Hello @ World!\n"
     ]
    }
   ],
   "source": [
    "print('Hello \\n World!')\n",
    "\n",
    "print('Hello\\b World!')\n",
    "\n",
    "print('Hello\\tWorld!')\n",
    "\n",
    "print('Hello \\100 World!')"
   ]
  },
  {
   "cell_type": "markdown",
   "metadata": {},
   "source": [
    "### Comments\n",
    "Reading code is hard. It is very important to make notes as you go along to explain what your code is meant to achieve. For example, in the previous cell we used some special characters. To make that code easier to understand we can add comments that explain those characters. Python uses the hash character # to indicate comments. Any line starting with # is ignored by the python interpreter. Even if the rest of the line contains valid python code, it won't actually do anything if the first character is #."
   ]
  },
  {
   "cell_type": "code",
   "execution_count": null,
   "metadata": {
    "collapsed": true
   },
   "outputs": [],
   "source": [
    "# \\b is backspace character - expect output Hell World!\n",
    "print('Hello\\b World!')\n",
    "\n",
    "# \\100 special character to print 'at' symbol\n",
    "print('Hello \\100 World!')\n",
    "\n",
    "# next line does nothing\n",
    "# print('Hello World')"
   ]
  },
  {
   "cell_type": "markdown",
   "metadata": {},
   "source": [
    "### Multiple Inputs \n",
    "You can give multiple inputs to the print function, as well as specifying how they should be separated and an ending. \n",
    "The separator is set to a space by default."
   ]
  },
  {
   "cell_type": "code",
   "execution_count": 14,
   "metadata": {},
   "outputs": [
    {
     "name": "stdout",
     "output_type": "stream",
     "text": [
      "Hello, and goodbye!"
     ]
    }
   ],
   "source": [
    "print('Hello', 'and goodbye', sep=', ', end='!')\n",
    "# print(\"你好，\", \"and I love\", sep= 'ddd')"
   ]
  },
  {
   "cell_type": "markdown",
   "metadata": {},
   "source": [
    "### Printing to a File\n",
    "You can use the print function to output to a file, although it's not the most common way to do this in python.\n",
    "Run the next cell and you will see a file called 'output.txt' appear in the same directory as this notebook."
   ]
  },
  {
   "cell_type": "code",
   "execution_count": 15,
   "metadata": {},
   "outputs": [],
   "source": [
    "print('Hello World!', file=open('output.txt', 'w'))"
   ]
  },
  {
   "cell_type": "markdown",
   "metadata": {},
   "source": [
    "## Variables and Formatting\n",
    "The cell below shows a couple of different ways to use variables in the print function. \n",
    "Change the values of the variables and re-run the cell to see how the output changes."
   ]
  },
  {
   "cell_type": "code",
   "execution_count": 16,
   "metadata": {},
   "outputs": [
    {
     "name": "stdout",
     "output_type": "stream",
     "text": [
      "Hi Fred I like your blue eyes.\n",
      "Fred is 22 years old.\n",
      "Fred has blue eyes.\n",
      "Fred has blue eyes. I like the color blue.\n"
     ]
    }
   ],
   "source": [
    "myName = 'Fred'\n",
    "myEyeColor = 'blue'\n",
    "myAge = 22\n",
    "\n",
    "print('Hi', myName, 'I like your', myEyeColor, 'eyes', end='.\\n')\n",
    "\n",
    "print('%s is %d years old.'% (myName, myAge))\n",
    "\n",
    "print('{} has {} eyes.'.format(myName, myEyeColor))\n",
    "\n",
    "print('{name} has {color} eyes. I like the color {color}.'.format(name=myName, color=myEyeColor))"
   ]
  },
  {
   "cell_type": "markdown",
   "metadata": {},
   "source": [
    "The ``format()`` function is very flexible.\n",
    "For example, we can specify the width of a field or how the value within that field should be aligned; for floating point numbers we can specify the precision to which those numbers are displayed. \n",
    "Here is an example for creating space in the output.\n",
    "The ':' character indicates the start of the extra specifications.\n",
    "'<' indicates that the value in this field should be left aligned, '^' that it should be centered, '>' that it is right aligned.\n",
    "The number indicates the (minimum) width of the field."
   ]
  },
  {
   "cell_type": "code",
   "execution_count": 17,
   "metadata": {},
   "outputs": [
    {
     "name": "stdout",
     "output_type": "stream",
     "text": [
      "|Left       |   Center   |      Right|\n"
     ]
    }
   ],
   "source": [
    "print('|{:<10} | {:^10} | {:>10}|'.format('Left', 'Center', 'Right'))"
   ]
  },
  {
   "cell_type": "markdown",
   "metadata": {},
   "source": [
    "## More String Functions\n",
    "There's lots more you can do with strings other than just printing them out...\n",
    "\n",
    "You can find more in the documentation, and there are examples of some of the most useful (in my opinion) below.\n",
    "\n",
    "In all cases you should try these functions on some examples of your own. Just change the values of the variables and re-run the cell to see what happens. \n",
    "\n",
    "### What Kind of String is This?\n",
    "First, some functions for checking basic properties of strings - does this string contain **only** numbers, only letters, only uppercase letters, only whitespace?\n",
    "\n",
    "You could also try the following functions, see if you can figure out what they are testing for:\n",
    "- ``isdecimal()``\n",
    "- ``isalnum()``\n",
    "- ``islower()``\n",
    "- ``istitle()``"
   ]
  },
  {
   "cell_type": "code",
   "execution_count": 18,
   "metadata": {},
   "outputs": [
    {
     "name": "stdout",
     "output_type": "stream",
     "text": [
      "myString is alpha: False\n",
      "alphaString is alpha: True\n",
      "numberString is alpha: False\n",
      "numberString is numeric: True\n",
      "capsString is all in capital letters: True\n",
      "whiteString only contains white-space characters: True\n"
     ]
    }
   ],
   "source": [
    "myString = 'This is a string'\n",
    "alphaString = 'thisIsAString'\n",
    "numberString = '10947'\n",
    "capsString = 'THISISASTRING'\n",
    "whiteString = ' \\n \\t \\r'\n",
    "\n",
    "print('myString is alpha:', myString.isalpha())\n",
    "print('alphaString is alpha:', alphaString.isalpha())\n",
    "print('numberString is alpha:', numberString.isalpha())\n",
    "print('numberString is numeric:', numberString.isnumeric())\n",
    "print('capsString is all in capital letters:', capsString.isupper())\n",
    "print('whiteString only contains white-space characters:', whiteString.isspace())"
   ]
  },
  {
   "cell_type": "markdown",
   "metadata": {},
   "source": [
    "### Simple Alterations to Strings\n",
    "Similar functions allow us to force a string to all uppercase, all lowercase, or the first letter of each word to be uppercase. There's also a function to remove white-space from the start and end of a string, which can be very helpful for formatting. "
   ]
  },
  {
   "cell_type": "code",
   "execution_count": 19,
   "metadata": {},
   "outputs": [
    {
     "name": "stdout",
     "output_type": "stream",
     "text": [
      "THIS IS A STRING\n",
      "this is a string\n",
      "This Is A String\n",
      " too many spaces \n",
      "too many spaces\n"
     ]
    }
   ],
   "source": [
    "myString = 'This is a string'\n",
    "\n",
    "print(myString.upper())\n",
    "print(myString.lower())\n",
    "print(myString.title())\n",
    "\n",
    "extraString = ' too many spaces '\n",
    "print(extraString)\n",
    "print(extraString.strip())"
   ]
  },
  {
   "cell_type": "markdown",
   "metadata": {},
   "source": [
    "### Strings Are Just Lists of Characters\n",
    "Each character in a string is associated with a number, starting from zero.\n",
    "The first character has number 0, the second character has number 1, and so on. \n",
    "\n",
    "This means you can access a particular character from the string by indicating which position it's in.\n",
    "Next module we'll look at python lists in more detail."
   ]
  },
  {
   "cell_type": "code",
   "execution_count": 21,
   "metadata": {},
   "outputs": [
    {
     "data": {
      "text/plain": [
       "'This'"
      ]
     },
     "execution_count": 21,
     "metadata": {},
     "output_type": "execute_result"
    }
   ],
   "source": [
    "myString = 'This is a string.'\n",
    "myString[3]\n",
    "myString[:4]"
   ]
  },
  {
   "cell_type": "markdown",
   "metadata": {},
   "source": [
    "### Splitting Up a String Into Smaller Strings\n",
    "And putting many short strings together into a longer one.\n",
    "- split()\n",
    "- join()"
   ]
  },
  {
   "cell_type": "code",
   "execution_count": 22,
   "metadata": {},
   "outputs": [
    {
     "name": "stdout",
     "output_type": "stream",
     "text": [
      "['This', 'is', 'a', 'string']\n",
      "['This', 'is', 'another', 'string']\n",
      "One, Two, Three\n"
     ]
    }
   ],
   "source": [
    "myString = 'This is a string'\n",
    "otherString = 'This-is-another-string'\n",
    "print(myString.split())\n",
    "print(otherString.split('-'))\n",
    "\n",
    "myListOfWords = ['One', 'Two', 'Three']\n",
    "print(', '.join(myListOfWords))"
   ]
  },
  {
   "cell_type": "markdown",
   "metadata": {},
   "source": [
    "### Find and Replace\n",
    "The ``find()`` function returns the position of the first time the input sequence appears in this string. \n",
    "If the sequence you're looking for is longer than one character long, ``find()`` returns the position of the start of the sequence in the string being searched.\n",
    "\n",
    "The ``replace()`` function finds every time that some sequence appears in your string and replaces all of them with the alternative string. The new string could be empty, then the sequence is just deleted. "
   ]
  },
  {
   "cell_type": "code",
   "execution_count": 23,
   "metadata": {},
   "outputs": [
    {
     "data": {
      "text/plain": [
       "3"
      ]
     },
     "execution_count": 23,
     "metadata": {},
     "output_type": "execute_result"
    }
   ],
   "source": [
    "myString = 'This is a string'\n",
    "\n",
    "myString.find('s')"
   ]
  },
  {
   "cell_type": "code",
   "execution_count": 24,
   "metadata": {},
   "outputs": [
    {
     "name": "stdout",
     "output_type": "stream",
     "text": [
      "Thi\\ i\\ a \\tring\n",
      "This is a \n"
     ]
    }
   ],
   "source": [
    "myString = 'This is a string'\n",
    "\n",
    "print(myString.replace('s', '\\\\'))\n",
    "print(myString.replace('string', ''))"
   ]
  },
  {
   "cell_type": "markdown",
   "metadata": {},
   "source": [
    "## Exercise 1\n",
    "\n",
    "Complete the cell below to produce text saying\n",
    "**'Hi I'm \\#your_name\\# and I come from \\#your_home\\#. I like to \\#your_hobby\\#.'**, \n",
    "with variables for your name, home and hobby."
   ]
  },
  {
   "cell_type": "code",
   "execution_count": 65,
   "metadata": {},
   "outputs": [
    {
     "name": "stdout",
     "output_type": "stream",
     "text": [
      "Hi,I'm Daolin Sheng and I come from China. I like to Reading.\n"
     ]
    }
   ],
   "source": [
    "myName = \"Daolin Sheng\"\n",
    "myHome = \"China\"\n",
    "myHobby = \"Reading\"\n",
    "\n",
    "print('Hi,I\\'m {} and I come from {}. I like to {}.'.format(myName, myHome, myHobby))"
   ]
  },
  {
   "cell_type": "markdown",
   "metadata": {},
   "source": [
    "## Exercise 2\n",
    "Your computer system stores a list of names of the company's customers. \n",
    "\n",
    "- You've got the list and need to print out all the names, one on each line. \n",
    "- You notice one of the items in the list really isn't a name, so you'd like to remove that.\n",
    "- One of the names isn't capitalised correctly... but be careful that fixing that one doesn't mess up the (initially correct) capitalisation of the scottish name 'McFredface'.\n",
    "\n",
    "All of this can be achieved with only the functions we've introduced so far and no explicit loops or list functions.\n",
    "If you're not sure how to solve the whole problem start by finding a way to print the list of names with some special charater between them.\n",
    "An example solution is given at the end of the worksheet, but you may find a different way to do it. "
   ]
  },
  {
   "cell_type": "code",
   "execution_count": 73,
   "metadata": {},
   "outputs": [
    {
     "name": "stdout",
     "output_type": "stream",
     "text": [
      "[\"John O'Connell\", 'steven Jones', 'Freddy McFredface', 'Mrs. Smith ']\n",
      "John O'Connell\n",
      "Steven Jones\n",
      "Freddy Mcfredface\n",
      "Mrs. Smith \n"
     ]
    }
   ],
   "source": [
    "listOfNames = [\"John O'Connell\", \"steven Jones\", \"Freddy McFredface\", \"is this even a name?\", \"Mrs. Smith \"]\n",
    "listOfNames.remove('is this even a name?')\n",
    "print(listOfNames)\n",
    "\n",
    "for name in listOfNames:\n",
    "    print(name.title())"
   ]
  },
  {
   "cell_type": "markdown",
   "metadata": {},
   "source": [
    "## Numbers\n",
    "### Integers and Aritmetic\n",
    "Integers are whole numbers: ...-3, -2, -1, 0, 1, 2, 3...\n",
    "\n",
    "This first cell shows how to do some basic arithmetic with integers.\n",
    "Use the second cell to try out these functions with different values, including negative numbers and zero."
   ]
  },
  {
   "cell_type": "code",
   "execution_count": 40,
   "metadata": {},
   "outputs": [
    {
     "name": "stdout",
     "output_type": "stream",
     "text": [
      "3 plus 4 is 7\n",
      "4 minus 3 is 1\n",
      "4 multiplied by 3 is 12\n",
      "3 squared is 9\n",
      "8 divided by 2 is 4.0\n"
     ]
    }
   ],
   "source": [
    "a = 3 + 4\n",
    "b = 4 - 3\n",
    "c = 3 * 4\n",
    "d = 3**2\n",
    "e = 8/2\n",
    "\n",
    "print('3 plus 4 is', a)\n",
    "print('4 minus 3 is', b)\n",
    "print('4 multiplied by 3 is', c)\n",
    "print('3 squared is', d)\n",
    "print('8 divided by 2 is', e)"
   ]
  },
  {
   "cell_type": "code",
   "execution_count": 41,
   "metadata": {},
   "outputs": [
    {
     "name": "stdout",
     "output_type": "stream",
     "text": [
      "4 power -1 is 0.25\n"
     ]
    }
   ],
   "source": [
    "# try some aritmetic here\n",
    "f = 4**-1\n",
    "print('4 power -1 is',f)"
   ]
  },
  {
   "cell_type": "markdown",
   "metadata": {},
   "source": [
    "### Combining Assignment and Arithmetic \n",
    "You may want to store an integer in a variable, then modify that integer and have the result stored in the same variable. \n",
    "Python has a useful shorthand for doing this.\n",
    "The following two cells have the same result."
   ]
  },
  {
   "cell_type": "code",
   "execution_count": 42,
   "metadata": {},
   "outputs": [
    {
     "name": "stdout",
     "output_type": "stream",
     "text": [
      "6\n"
     ]
    }
   ],
   "source": [
    "a = 5\n",
    "a = a + 1\n",
    "print(a)"
   ]
  },
  {
   "cell_type": "code",
   "execution_count": 43,
   "metadata": {},
   "outputs": [
    {
     "name": "stdout",
     "output_type": "stream",
     "text": [
      "6\n"
     ]
    }
   ],
   "source": [
    "a = 5\n",
    "a += 1\n",
    "print(a)"
   ]
  },
  {
   "cell_type": "markdown",
   "metadata": {},
   "source": [
    "The same style of syntax is available for subtraction and multiplication, as well as division, exponentiation, and modulus (see below)."
   ]
  },
  {
   "cell_type": "code",
   "execution_count": 44,
   "metadata": {},
   "outputs": [
    {
     "name": "stdout",
     "output_type": "stream",
     "text": [
      "3\n",
      "12\n"
     ]
    }
   ],
   "source": [
    "a = 5\n",
    "\n",
    "a -= 2\n",
    "print(a)\n",
    "\n",
    "a *= 4\n",
    "print(a)"
   ]
  },
  {
   "cell_type": "markdown",
   "metadata": {},
   "source": [
    "### Floats\n",
    "Notice how 8/2 prints out as 4.0 rather than just 4.\n",
    "Python has automatically converted the answer to a different type of number, called a **float**.\n",
    "Floats allow us to represent decimals as well as integers.\n",
    "When using division the answer might not be an integer (for example 7/2 is 3.5) and therefore python gives the answer as a float.\n",
    "\n",
    "You can find out what sort of number a variable is with the function ``type()``."
   ]
  },
  {
   "cell_type": "code",
   "execution_count": 45,
   "metadata": {},
   "outputs": [
    {
     "name": "stdout",
     "output_type": "stream",
     "text": [
      "int\n",
      "float\n",
      "str\n"
     ]
    }
   ],
   "source": [
    "a = 3\n",
    "b = 3.5\n",
    "c = '3.5'\n",
    "\n",
    "print(type(a).__name__)\n",
    "print(type(b).__name__)\n",
    "print(type(c).__name__)"
   ]
  },
  {
   "cell_type": "markdown",
   "metadata": {},
   "source": [
    "### Integer Division and Rounding\n",
    "There is a special type of division that always outputs an integer.\n",
    "The integer answer is always rounded down from the decimal answer. \n",
    "\n",
    "#### int()\n",
    "Alternatively, we could force a float to become an integer using ``int()``, which simply truncates the number and outputs whatever is before the decimal point.\n",
    "\n",
    "#### round()\n",
    "This function outputs the nearest whole number, with .5 rounding up. \n",
    "You can also give an optional argument saying how many decimal places you want the number rounded to."
   ]
  },
  {
   "cell_type": "code",
   "execution_count": 46,
   "metadata": {},
   "outputs": [
    {
     "name": "stdout",
     "output_type": "stream",
     "text": [
      "7 divided by 2 is 3.5\n",
      "3.5 has type float\n",
      "Integer division of 7 by 2 is 3\n",
      "3 has type int\n",
      "-7 divided by 2 is -3.5\n",
      "Integer division of -7 by 2 is -4\n"
     ]
    }
   ],
   "source": [
    "a = 7/2\n",
    "b = 7//2\n",
    "c = -7/2\n",
    "d = -7//2\n",
    "\n",
    "print('7 divided by 2 is', a)\n",
    "print(a, \"has type\", type(a).__name__)\n",
    "print('Integer division of 7 by 2 is', b)\n",
    "print(b, \"has type\", type(b).__name__)\n",
    "print('-7 divided by 2 is', c)\n",
    "print('Integer division of -7 by 2 is', d)"
   ]
  },
  {
   "cell_type": "code",
   "execution_count": null,
   "metadata": {
    "collapsed": true
   },
   "outputs": [],
   "source": [
    "a = 7/2\n",
    "b = 7//2\n",
    "c = -7/2\n",
    "d = -7//2\n",
    "\n",
    "print('The integer part of 7 divided by 2 is', int(a))\n",
    "print('The integer part of -7 divided by 2 is', int(c))\n",
    "print('Rounding 7 divided by 2 to the nearest integer gives', round(a))\n",
    "print('Rounding -7 divided by 2 to the nearest integer gives', round(c))\n",
    "print('Rounding 3.57 to one decimal place gives', round(3.57, 1))"
   ]
  },
  {
   "cell_type": "markdown",
   "metadata": {},
   "source": [
    "### Comparisons\n",
    "We can compare two numeric values to find out if they are equal or if one is bigger than the other.\n",
    "The symbols < and > stand for 'less than' and 'greater than' respectively. \n",
    "Because the equal symbol is used to assign a value to a variable, we use == to check for equality.\n",
    "\n",
    "The code in the next cell should be read as 'is 3 equal to 4?'\n",
    "Run the cell and it will output ``False``.\n",
    "Change the content of the cell so that it outputs ``True`` when you run it."
   ]
  },
  {
   "cell_type": "code",
   "execution_count": 47,
   "metadata": {},
   "outputs": [
    {
     "name": "stdout",
     "output_type": "stream",
     "text": [
      "False\n"
     ]
    }
   ],
   "source": [
    "print(3 == 4)"
   ]
  },
  {
   "cell_type": "markdown",
   "metadata": {},
   "source": [
    "The next cell shows how the user can be asked to input something, which is then assigned as the value of a variable. The rest of the code is then run using the values that the user provided.\n",
    "\n",
    "Change the final line of the cell to a different comparison operator.\n",
    "Try all of the following operators to check you understand what they do.\n",
    "\n",
    "| Symbol | Meaning |\n",
    "| --- | --- |\n",
    "| < | less than |\n",
    "| > | greater than |\n",
    "| <= | less than or equal to |\n",
    "| >= | greater than or equal to |\n",
    "| == | equal to |\n",
    "| != | not equal to |"
   ]
  },
  {
   "cell_type": "code",
   "execution_count": 48,
   "metadata": {},
   "outputs": [
    {
     "name": "stdout",
     "output_type": "stream",
     "text": [
      "Enter a number: 3\n",
      "Enter another number: 4\n"
     ]
    },
    {
     "data": {
      "text/plain": [
       "True"
      ]
     },
     "execution_count": 48,
     "metadata": {},
     "output_type": "execute_result"
    }
   ],
   "source": [
    "x = input(\"Enter a number: \")\n",
    "y = input(\"Enter another number: \")\n",
    "\n",
    "x < y"
   ]
  },
  {
   "cell_type": "markdown",
   "metadata": {},
   "source": [
    "### Compare Other Data Types\n",
    "You can compare floats as well as integers, or even compare a float to an int.\n",
    "It is also possible to compare strings using these operators. \n",
    "The comparison is based on the unicode value of each charater in the strings.\n",
    "If your strings only contain letters then you can think of 'less than' as 'would appear first in the dictionary'.\n",
    "What happens if you compare a string (e.g. '3.5') with an integer (e.g. 4)?"
   ]
  },
  {
   "cell_type": "code",
   "execution_count": 49,
   "metadata": {},
   "outputs": [
    {
     "data": {
      "text/plain": [
       "False"
      ]
     },
     "execution_count": 49,
     "metadata": {},
     "output_type": "execute_result"
    }
   ],
   "source": [
    "a = 3\n",
    "b = 3.5\n",
    "\n",
    "a >= b"
   ]
  },
  {
   "cell_type": "code",
   "execution_count": 50,
   "metadata": {},
   "outputs": [
    {
     "data": {
      "text/plain": [
       "True"
      ]
     },
     "execution_count": 50,
     "metadata": {},
     "output_type": "execute_result"
    }
   ],
   "source": [
    "a = 'apple'\n",
    "b = 'asteroid'\n",
    "\n",
    "a < b"
   ]
  },
  {
   "cell_type": "markdown",
   "metadata": {},
   "source": [
    "### Sum\n",
    "The ``sum()`` function returns the sum of a list of numbers, either floats or ints."
   ]
  },
  {
   "cell_type": "code",
   "execution_count": 51,
   "metadata": {},
   "outputs": [
    {
     "name": "stdout",
     "output_type": "stream",
     "text": [
      "1 + 2 + 3 + 4 + 5 = 15\n",
      "5.5 + 2.4 + .1 + 1 = 9.0\n"
     ]
    }
   ],
   "source": [
    "a = sum([1,2,3,4,5])\n",
    "b = sum([5.5, 2.4, .1, 1])\n",
    "print('1 + 2 + 3 + 4 + 5 =', a)\n",
    "print('5.5 + 2.4 + .1 + 1 =', b)"
   ]
  },
  {
   "cell_type": "markdown",
   "metadata": {},
   "source": [
    "### Modulus\n",
    "The modulus function **%** returns the remainder after a division, e.g. 7 divided by 3 is 2 with remainder 1. The modulus function would return 1 in this case. \n"
   ]
  },
  {
   "cell_type": "code",
   "execution_count": 52,
   "metadata": {},
   "outputs": [
    {
     "name": "stdout",
     "output_type": "stream",
     "text": [
      "15 modulus 4 is 3\n"
     ]
    }
   ],
   "source": [
    "a = 15//4\n",
    "b = 15%4\n",
    "\n",
    "print('15 modulus 4 is', b)"
   ]
  },
  {
   "cell_type": "markdown",
   "metadata": {},
   "source": [
    "In general, the following formula holds: \n",
    "- (x//y)*y + x%y == x\n",
    "\n",
    "Make sure you understand why."
   ]
  },
  {
   "cell_type": "code",
   "execution_count": 53,
   "metadata": {},
   "outputs": [
    {
     "name": "stdout",
     "output_type": "stream",
     "text": [
      "Enter a number: 15\n",
      "Enter another number: 3\n",
      "15\n"
     ]
    }
   ],
   "source": [
    "x = input(\"Enter a number: \")\n",
    "y = input(\"Enter another number: \")\n",
    "\n",
    "# convert the inputs to integers (they are read in as strings)\n",
    "x = int(x)\n",
    "y = int(y)\n",
    "\n",
    "# z should equal x, whatever values for x and y are entered\n",
    "z = (x//y)*y + x%y\n",
    "\n",
    "print(z)"
   ]
  },
  {
   "cell_type": "markdown",
   "metadata": {},
   "source": [
    "### Math Module\n",
    "For more advanced mathematical functions you can use the **math** module. \n",
    "\n",
    "Among other things this module includes\n",
    "- Trig functions\n",
    "- Power and log functions\n",
    "- Some important mothematical constants\n",
    "\n",
    "The next cell shows how to **import** the module and use it to access\n",
    "- pi\n",
    "- the exponential function\n",
    "- the factorial function\n",
    "- square roots\n",
    "- the greatest common denominator of two integers\n",
    "\n",
    "You should look at the python documentation for the math module if you're interested in doing fancy stuff with numbers. Run the cells below and then try out some of the other functions listed in the documentation for this module. \n",
    "\n",
    "There are also python modules for **statistics** and **random** number generation, as well as **numpy** and **pandas** modules which are really useful for handling data sets. \n",
    "We will look at some of these later in the course. "
   ]
  },
  {
   "cell_type": "code",
   "execution_count": 54,
   "metadata": {},
   "outputs": [
    {
     "name": "stdout",
     "output_type": "stream",
     "text": [
      "3.141592653589793\n",
      "e to the power 5 is 148.4131591025766\n",
      "5! is 120\n",
      "The square root of 25 is 5.0\n",
      "The greatest common denominator of 18 and 24 is 6\n"
     ]
    }
   ],
   "source": [
    "import math\n",
    "\n",
    "print(math.pi)\n",
    "print('e to the power 5 is', math.exp(5))\n",
    "print('5! is', math.factorial(5))\n",
    "print('The square root of 25 is', math.sqrt(25))\n",
    "print('The greatest common denominator of 18 and 24 is', math.gcd(18, 24))"
   ]
  },
  {
   "cell_type": "markdown",
   "metadata": {},
   "source": [
    "## Exercise 3\n",
    "Find the volume of a cylider with radius 5 and height 12 to the nearest whole number."
   ]
  },
  {
   "cell_type": "code",
   "execution_count": 61,
   "metadata": {},
   "outputs": [
    {
     "name": "stdout",
     "output_type": "stream",
     "text": [
      "942.48\n"
     ]
    }
   ],
   "source": [
    "import math\n",
    "\n",
    "radius = 5\n",
    "height = 12\n",
    "\n",
    "volume = math.pi * radius **2 * height\n",
    "print(round(volume,2))\n",
    "\n"
   ]
  },
  {
   "cell_type": "markdown",
   "metadata": {},
   "source": [
    "## Exercise 4\n",
    "Find the length of the hypotenuse to 2 decimal places in a right angled triangle where the other two sides have length 5 and 6."
   ]
  },
  {
   "cell_type": "code",
   "execution_count": 62,
   "metadata": {},
   "outputs": [
    {
     "name": "stdout",
     "output_type": "stream",
     "text": [
      "7.81\n"
     ]
    }
   ],
   "source": [
    "\n",
    "\n",
    "side1 = 5\n",
    "side2 = 6\n",
    "\n",
    "hypotenuse = round(math.sqrt( side1 **2 + side2 **2),2)\n",
    "print(hypotenuse)\n",
    "\n"
   ]
  },
  {
   "cell_type": "markdown",
   "metadata": {},
   "source": [
    "## Exercise 4b (optional)\n",
    "If you found exercise 4 quite easy then try implementing the cosine rule, which is a generalisation of Pythagoras' theorem, to calculate the length of a side in any triangle given the lengths of the other two sides and the angle between them. You'll need to look up a function to find the cosine of an angle in the math module. How does your answer need to be different if the angle is given in degrees or radians? https://en.wikipedia.org/wiki/Law_of_cosines "
   ]
  },
  {
   "cell_type": "code",
   "execution_count": 64,
   "metadata": {},
   "outputs": [
    {
     "data": {
      "text/plain": [
       "9.5"
      ]
     },
     "execution_count": 64,
     "metadata": {},
     "output_type": "execute_result"
    }
   ],
   "source": [
    "import math\n",
    "\n",
    "side1 = 5\n",
    "side2 = 6\n",
    "a_degrees = 60\n",
    "a_radians = math.radians(a_degrees)\n",
    "\n",
    "c = math.sqrt(side1**2 + side2**2 + 2*side1*side2*math.cos(a_radians))\n",
    "\n",
    "round(c,1)"
   ]
  },
  {
   "cell_type": "markdown",
   "metadata": {},
   "source": [
    "## Booleans\n",
    "Boolean values are ``True`` and ``False``, which we have already seen when learning about comparison operators.\n",
    "We can connect together Boolean values (or expressions that output Boolean values) using ``and`` and ``or`` and ``not*``\n",
    "Use parentheses to avoid ambiguity -- like you would with arithmetic."
   ]
  },
  {
   "cell_type": "code",
   "execution_count": null,
   "metadata": {
    "collapsed": true
   },
   "outputs": [],
   "source": [
    "True and False"
   ]
  },
  {
   "cell_type": "code",
   "execution_count": 66,
   "metadata": {},
   "outputs": [
    {
     "data": {
      "text/plain": [
       "True"
      ]
     },
     "execution_count": 66,
     "metadata": {},
     "output_type": "execute_result"
    }
   ],
   "source": [
    "a = 3\n",
    "b = 4\n",
    "c = 5\n",
    "\n",
    "(a < b) and (b < c)"
   ]
  },
  {
   "cell_type": "code",
   "execution_count": 67,
   "metadata": {},
   "outputs": [
    {
     "data": {
      "text/plain": [
       "False"
      ]
     },
     "execution_count": 67,
     "metadata": {},
     "output_type": "execute_result"
    }
   ],
   "source": [
    "((a < b) and (c < a)) or (b == c)"
   ]
  },
  {
   "cell_type": "markdown",
   "metadata": {},
   "source": [
    "## None Type\n",
    "Sometimes we want to have a variable that doesn't have any value, for example because it will be set later in the code but the value isn't known yet. \n",
    "In this case python has a special variable type called ``None``.\n",
    "Use the ``is`` keyword to check whether a variable has the value ``None``."
   ]
  },
  {
   "cell_type": "code",
   "execution_count": 68,
   "metadata": {},
   "outputs": [
    {
     "data": {
      "text/plain": [
       "True"
      ]
     },
     "execution_count": 68,
     "metadata": {},
     "output_type": "execute_result"
    }
   ],
   "source": [
    "x = None\n",
    "\n",
    "x is None"
   ]
  },
  {
   "cell_type": "markdown",
   "metadata": {},
   "source": [
    "# Solutions to Exercises\n",
    "## 1"
   ]
  },
  {
   "cell_type": "code",
   "execution_count": 69,
   "metadata": {},
   "outputs": [
    {
     "name": "stdout",
     "output_type": "stream",
     "text": [
      "Hi I'm Brandon and I come from Leeds. I like to write python programs.\n"
     ]
    }
   ],
   "source": [
    "myName = 'Brandon'\n",
    "myHome = 'Leeds'\n",
    "myHobby = 'write python programs'\n",
    "\n",
    "print('Hi I\\'m {} and I come from {}. I like to {}.'.format(myName, myHome, myHobby))"
   ]
  },
  {
   "cell_type": "markdown",
   "metadata": {},
   "source": [
    "## 2\n",
    "Just printing everything in the list, one item per line, is simple with the ``join()`` function and '\\n' (the 'new line' special character)."
   ]
  },
  {
   "cell_type": "code",
   "execution_count": 70,
   "metadata": {},
   "outputs": [
    {
     "name": "stdout",
     "output_type": "stream",
     "text": [
      "John O'Connell\n",
      "steven Jones\n",
      "Freddy McFredface\n",
      "Mrs. Smith \n"
     ]
    }
   ],
   "source": [
    "out = '\\n'.join(listOfNames)\n",
    "print(out)\n"
   ]
  },
  {
   "cell_type": "markdown",
   "metadata": {},
   "source": [
    "And we can use ``replace()`` to get rid of the incorrect entry. "
   ]
  },
  {
   "cell_type": "code",
   "execution_count": 71,
   "metadata": {},
   "outputs": [
    {
     "name": "stdout",
     "output_type": "stream",
     "text": [
      "John O'Connell\n",
      "steven Jones\n",
      "Freddy McFredface\n",
      "Mrs. Smith \n"
     ]
    }
   ],
   "source": [
    "out = \"\\n\".join(listOfNames)\n",
    "out = out.replace('is this even a name?\\n', '')\n",
    "print(out)"
   ]
  },
  {
   "cell_type": "markdown",
   "metadata": {},
   "source": [
    "We can use the ``title()`` function to make the start of the second entry into a capital"
   ]
  },
  {
   "cell_type": "code",
   "execution_count": 72,
   "metadata": {},
   "outputs": [
    {
     "name": "stdout",
     "output_type": "stream",
     "text": [
      "John O'Connell\n",
      "Steven Jones\n",
      "Freddy Mcfredface\n",
      "Mrs. Smith \n"
     ]
    }
   ],
   "source": [
    "out = \"\\n\".join(listOfNames)\n",
    "out = out.replace('is this even a name?\\n', '')\n",
    "out = out.title()\n",
    "print(out)"
   ]
  },
  {
   "cell_type": "markdown",
   "metadata": {},
   "source": [
    "But now \"Freddy Mcfredface\" is wrong. Either we could explicitly replace \"steven\" with \"Steven\", or use a trick to make sure names starting \"Mc\" are treated corectly, for example"
   ]
  },
  {
   "cell_type": "code",
   "execution_count": 74,
   "metadata": {},
   "outputs": [
    {
     "name": "stdout",
     "output_type": "stream",
     "text": [
      "John O'Connell\n",
      "Steven Jones\n",
      "Freddy McFredface\n",
      "Mrs. Smith \n"
     ]
    }
   ],
   "source": [
    "out = \"\\n\".join(listOfNames)\n",
    "out = out.replace('is this even a name?\\n', '')\n",
    "out = out.replace('Mc', 'Mc ')\n",
    "out = out.title()\n",
    "out = out.replace('Mc ', 'Mc')\n",
    "print(out)"
   ]
  },
  {
   "cell_type": "markdown",
   "metadata": {
    "collapsed": true
   },
   "source": [
    "## 3\n",
    "The volume of a cylinder is the height multiplied by the area of the base.\n",
    "The base of a cylinder is a circle so its area is the square of the radius multiplied by pi.\n",
    "Finally, we round the volume to one decimal place and print the output. "
   ]
  },
  {
   "cell_type": "code",
   "execution_count": 75,
   "metadata": {},
   "outputs": [
    {
     "data": {
      "text/plain": [
       "942.5"
      ]
     },
     "execution_count": 75,
     "metadata": {},
     "output_type": "execute_result"
    }
   ],
   "source": [
    "import math\n",
    "\n",
    "radius = 5\n",
    "height = 12\n",
    "\n",
    "area_of_base = radius**2 * math.pi\n",
    "\n",
    "volume = area_of_base * height\n",
    "\n",
    "round(volume, 1)"
   ]
  },
  {
   "cell_type": "markdown",
   "metadata": {},
   "source": [
    "## 4\n",
    "Pythagoras theorem states that for a right angled triangle the square of the length of the hypotenuse is equal to the sum of the sqares of the other two sides."
   ]
  },
  {
   "cell_type": "code",
   "execution_count": 76,
   "metadata": {},
   "outputs": [
    {
     "data": {
      "text/plain": [
       "7.81"
      ]
     },
     "execution_count": 76,
     "metadata": {},
     "output_type": "execute_result"
    }
   ],
   "source": [
    "import math\n",
    "\n",
    "side1 = 5\n",
    "side2 = 6\n",
    "\n",
    "hypotenuse = math.sqrt(side1**2 + side2**2)\n",
    "\n",
    "round(hypotenuse, 2)"
   ]
  },
  {
   "cell_type": "markdown",
   "metadata": {},
   "source": [
    "## 4b\n",
    "You'll need to use the math.cos function. This expects the input to be an angle in radians. If you know the angle in degrees you can convert to radians using math.radians()."
   ]
  },
  {
   "cell_type": "code",
   "execution_count": 77,
   "metadata": {},
   "outputs": [
    {
     "data": {
      "text/plain": [
       "9.5"
      ]
     },
     "execution_count": 77,
     "metadata": {},
     "output_type": "execute_result"
    }
   ],
   "source": [
    "import math\n",
    "\n",
    "side1 = 5\n",
    "side2 = 6\n",
    "a_degrees = 60\n",
    "a_radians = math.radians(a_degrees)\n",
    "\n",
    "c = math.sqrt(side1**2 + side2**2 + 2*side1*side2*math.cos(a_radians))\n",
    "\n",
    "round(c,1)"
   ]
  },
  {
   "cell_type": "code",
   "execution_count": null,
   "metadata": {
    "collapsed": true
   },
   "outputs": [],
   "source": []
  }
 ],
 "metadata": {
  "kernelspec": {
   "display_name": "Python 3",
   "language": "python",
   "name": "python3"
  },
  "language_info": {
   "codemirror_mode": {
    "name": "ipython",
    "version": 3
   },
   "file_extension": ".py",
   "mimetype": "text/x-python",
   "name": "python",
   "nbconvert_exporter": "python",
   "pygments_lexer": "ipython3",
   "version": "3.7.9"
  }
 },
 "nbformat": 4,
 "nbformat_minor": 2
}
