{
 "cells": [
  {
   "cell_type": "markdown",
   "metadata": {},
   "source": [
    "# Conditions and Loops\n",
    "Often we want to give some output only when the correct conditions have been met. \n",
    "Then we use the if keyword, followed by elif for any other conditions, and then else for the default behaviour if no conditions have been met. \n",
    "The expression immediately following 'if' or 'elif' nust return a Boolean (True or False), and can be any expression which does return a Boolean.\n",
    "This includes comparisons such as < or ==, use of keywords such as **in** or **is**, or even function calls. \n",
    "You will also see in these examples how python uses indentation to organise code blocks."
   ]
  },
  {
   "cell_type": "code",
   "execution_count": 1,
   "metadata": {
    "scrolled": true
   },
   "outputs": [
    {
     "name": "stdout",
     "output_type": "stream",
     "text": [
      "Enter a number: 3\n",
      "Enter another number: 4\n",
      "3 is less than 4\n"
     ]
    }
   ],
   "source": [
    "a = input(\"Enter a number: \")\n",
    "b = input(\"Enter another number: \")\n",
    "    \n",
    "# notice the lines containing the keywords if, elif, else all end in :\n",
    "if (a < b):\n",
    "    # this will only happen when the condition (a < b) evaluates to True\n",
    "    print('{} is less than {}'.format(a,b))\n",
    "elif (a > b):\n",
    "    print('{} is greater than {}'.format(a,b))\n",
    "else:\n",
    "    print('Neither value is bigger')"
   ]
  },
  {
   "cell_type": "markdown",
   "metadata": {},
   "source": [
    "It's fine to just have the 'if' part of the statement and leave out the 'elif' and/or 'else' parts."
   ]
  },
  {
   "cell_type": "code",
   "execution_count": 2,
   "metadata": {
    "scrolled": true
   },
   "outputs": [
    {
     "name": "stdout",
     "output_type": "stream",
     "text": [
      "Yes, I know Fred!\n"
     ]
    }
   ],
   "source": [
    "list_of_names = ['Fred', 'George', 'Sam']\n",
    "\n",
    "# using the 'in' keyword for lists returns a Boolean.\n",
    "# any expression that returns a Boolean value can be used as part of an 'if' statement\n",
    "if 'Fred' in list_of_names:\n",
    "    print('Yes, I know Fred!')\n",
    "# there's no need to have an 'elif' part, we can go immediately to 'else'. \n",
    "else:\n",
    "    print('Who is Fred??')"
   ]
  },
  {
   "cell_type": "code",
   "execution_count": 3,
   "metadata": {
    "scrolled": true
   },
   "outputs": [
    {
     "name": "stdout",
     "output_type": "stream",
     "text": [
      "Who am I talking to?\n"
     ]
    }
   ],
   "source": [
    "list_of_names = []\n",
    "\n",
    "if 'Fred' in list_of_names:\n",
    "    print('Yes, I know Fred')\n",
    "# this condition checks if the list is empty\n",
    "elif len(list_of_names) == 0:\n",
    "    print('Who am I talking to?')\n",
    "# there's no requirement to have an 'else' part -- in this case the default behaviour is just to do nothing."
   ]
  },
  {
   "cell_type": "markdown",
   "metadata": {},
   "source": [
    "There is no limit on the length or complexity of the expression following 'if'. \n",
    "As long as Python can evaluate the expression to return a Boolean then the code will run.\n",
    "However you should try to avoid very complicated conditions because they are harder for people to understand so it's easy to introduce logical errors.\n",
    "Overly complicated conditions could be an indication that you need to rethink how your code is structured."
   ]
  },
  {
   "cell_type": "code",
   "execution_count": 4,
   "metadata": {
    "scrolled": true
   },
   "outputs": [
    {
     "name": "stdout",
     "output_type": "stream",
     "text": [
      "I like these numbers\n"
     ]
    }
   ],
   "source": [
    "list_of_numbers = [1, 2, 3, 4, 5]\n",
    "\n",
    "if sum(list_of_numbers) > 3 and max(list_of_numbers) == 5 or min(list_of_numbers) < 1:\n",
    "    print('I like these numbers')"
   ]
  },
  {
   "cell_type": "markdown",
   "metadata": {},
   "source": [
    "Comditional statements can be nested, so the block of code that is executed following an if statement can contain another if statement.\n",
    "Again, Python doesn't limit how many levels of nesting you can use but it will becomem harder to read and understand code that has too many nested conditionals."
   ]
  },
  {
   "cell_type": "code",
   "execution_count": 5,
   "metadata": {
    "scrolled": true
   },
   "outputs": [
    {
     "name": "stdout",
     "output_type": "stream",
     "text": [
      "I like these numbers\n"
     ]
    }
   ],
   "source": [
    "list_of_numbers = [1, 2, 3, 4, 5]\n",
    "\n",
    "if sum(list_of_numbers) > 3:\n",
    "    if max(list_of_numbers) == 5:\n",
    "        print('I like these numbers')\n",
    "    else:\n",
    "        print('I guess these numbers are OK')\n",
    "elif min(list_of_numbers) < 1:\n",
    "    print('I guess these numbers are OK')"
   ]
  },
  {
   "cell_type": "markdown",
   "metadata": {},
   "source": [
    "As soon as one condition evaluates to True python will not check the others. \n",
    "In the following code the first and second condition would both evaluate to True but only one sentence is printed."
   ]
  },
  {
   "cell_type": "code",
   "execution_count": 6,
   "metadata": {
    "scrolled": true
   },
   "outputs": [
    {
     "name": "stdout",
     "output_type": "stream",
     "text": [
      "Ben Nevis is taller than Snowdon.\n"
     ]
    }
   ],
   "source": [
    "bn_name = 'Ben Nevis'\n",
    "bn_height = 1345\n",
    "bn_country = 'Scotland'\n",
    "\n",
    "sdn_name = 'Snowdon'\n",
    "sdn_height = 1085\n",
    "sdn_country = 'Wales'\n",
    "\n",
    "if bn_height > sdn_height:\n",
    "    print('{} is taller than {}.'.format(bn_name, sdn_name))\n",
    "elif bn_country == 'Scotland':\n",
    "    # only execute this if first condition is false AND second condition is true\n",
    "    print('{} is in Scotland.'.format(bn_name))"
   ]
  },
  {
   "cell_type": "markdown",
   "metadata": {},
   "source": [
    "Although the expression following the ``if`` and ``elif`` keywords should return a Boolean, Python allows the flexibility for this expression to return other types which are then evaluated to True or False. \n",
    "This can be quite counterintuitive at first and is a possible source of bugs. \n",
    "\n",
    "In the cell below, try a few different values in the variable ``a``.\n",
    "For example, the empty string evaluates to False, and all other strings evaluate to True -- including the string \"False\".\n",
    "The integer 0 evaluates to False, what about positive or negative integers? Or floats?\n",
    "The empty list and empty dictionary evaluate to False, all other lists and dictionaries to True. "
   ]
  },
  {
   "cell_type": "code",
   "execution_count": 7,
   "metadata": {},
   "outputs": [
    {
     "name": "stdout",
     "output_type": "stream",
     "text": [
      "abc (type str) evaluates to True in Python.\n"
     ]
    }
   ],
   "source": [
    "a = 'abc'\n",
    "\n",
    "if a:\n",
    "    print('{} (type {}) evaluates to True in Python.'.format(a, type(a).__name__))\n",
    "else:\n",
    "    print('{} (type {}) evaluates to False in Python.'.format(a, type(a).__name__))\n"
   ]
  },
  {
   "cell_type": "markdown",
   "metadata": {},
   "source": [
    "## Exercise 1\n",
    "Complete the code in the next cell to return a **grade** and **message** based on the value of **mark**, according to the following table:\n",
    "\n",
    "| Mark | Grade | Message |\n",
    "| --- | --- | --- |\n",
    "| 0 - 40 | Fail | Try again. |\n",
    "| 40 - 49 | Pass | Well done. |\n",
    "| 50 - 59 | 2:2 | Good. |\n",
    "| 60 - 69 | 2:1 | Very good. |\n",
    "| 70 - 100 | 1st | Congratulations!|"
   ]
  },
  {
   "cell_type": "code",
   "execution_count": 9,
   "metadata": {
    "scrolled": true
   },
   "outputs": [
    {
     "name": "stdout",
     "output_type": "stream",
     "text": [
      "Your mark was 45, your grade was Pass. Well done.\n"
     ]
    }
   ],
   "source": [
    "mark = 45\n",
    "grade = None\n",
    "message = None\n",
    "\n",
    "if mark < 40:\n",
    "    grade = 'Fail'\n",
    "    message = 'Try again.'\n",
    "elif mark >= 40 and mark < 49:\n",
    "    grade = 'Pass'\n",
    "    message = 'Well done.'\n",
    "elif mark >= 50 and mark < 59:\n",
    "    grade = '2:2'\n",
    "    message = 'Good'\n",
    "elif mark >= 60 and mark < 69:\n",
    "    grade = '2:1'\n",
    "    message = 'Very Good'\n",
    "elif mark >= 70 and mark <= 100:\n",
    "    grade = '1st'\n",
    "    message = 'Congratulations!'\n",
    "else:\n",
    "    grade = None\n",
    "    message = None\n",
    "\n",
    "print('Your mark was {}, your grade was {}. {}'.format(mark, grade, message))"
   ]
  },
  {
   "cell_type": "markdown",
   "metadata": {},
   "source": [
    "# Loops\n",
    "\n",
    "Loops allow us to execute a block of code many times over. \n",
    "Python provides two types of loop: the first will execute a block of code **while** some condition is met, the second executes the code **for** every member of a collection of variables, or for a specified number of times.\n",
    "\n",
    "## For Loops Over Lists\n",
    "A common reason to use a **for** loop is that we want to apply the same piece of code to every item in a list. "
   ]
  },
  {
   "cell_type": "code",
   "execution_count": 10,
   "metadata": {
    "scrolled": true
   },
   "outputs": [
    {
     "name": "stdout",
     "output_type": "stream",
     "text": [
      "Hi Fred!\n",
      "Hi George!\n",
      "Hi Sam!\n"
     ]
    }
   ],
   "source": [
    "list_of_names = ['Fred', 'George', 'Sam']\n",
    "\n",
    "for name in list_of_names:\n",
    "    print('Hi {}!'.format(name))"
   ]
  },
  {
   "cell_type": "markdown",
   "metadata": {},
   "source": [
    "In the next cell we see how to calculate the average (mean) of a list of numbers.\n",
    "In fact, the python **statistics** module has a function for calculating the mean, but it's good to see how you could implement this function yourself. \n",
    "If you're not sure what the mean of a set of numbers is, have a look here https://www.mathsisfun.com/mean.html"
   ]
  },
  {
   "cell_type": "code",
   "execution_count": 11,
   "metadata": {
    "scrolled": true
   },
   "outputs": [
    {
     "data": {
      "text/plain": [
       "53.9"
      ]
     },
     "execution_count": 11,
     "metadata": {},
     "output_type": "execute_result"
    }
   ],
   "source": [
    "listOfInts = [4, 7, 1, 3, 8, 9, 10, 4, 600, 3, -2, 0]\n",
    "\n",
    "# initialise variable to keep track of the sum\n",
    "total = 0\n",
    "for value in listOfInts:\n",
    "    # add this value to the total so far\n",
    "    total = total + value\n",
    "    \n",
    "# now divide the sum by the number of items in the list\n",
    "mean = total / len(listOfInts)\n",
    "# round the answer to one decimal place\n",
    "round(mean, 1)"
   ]
  },
  {
   "cell_type": "markdown",
   "metadata": {},
   "source": [
    "This syntax can be used to loop over lists, tuples, and even strings. \n",
    "A data structure that can be used in a for loop is called **iterable**. "
   ]
  },
  {
   "cell_type": "markdown",
   "metadata": {},
   "source": [
    "## Exercise 2\n",
    "Write a loop to find the maximum from a list of numbers."
   ]
  },
  {
   "cell_type": "code",
   "execution_count": 33,
   "metadata": {
    "scrolled": true
   },
   "outputs": [
    {
     "name": "stdout",
     "output_type": "stream",
     "text": [
      "600\n"
     ]
    }
   ],
   "source": [
    "listOfInts = [4, 7, 1, 3, 8, 9, 10, 4, 600, 3, -2, 0]\n",
    "\n",
    "# initialise a variable to keep track of the maximum\n",
    "maxValue = None\n",
    "\n",
    "# loop over the list\n",
    "for i in listOfInts:\n",
    "    # when should the current maximum be updated?\n",
    "    if maxValue is None or i > maxValue:\n",
    "        # update the current maximum      \n",
    "        maxValue = i\n",
    "\n",
    "print(maxValue)"
   ]
  },
  {
   "cell_type": "markdown",
   "metadata": {},
   "source": [
    "## Exercise 3\n",
    "From the given list, create a new list which contains only the even valued numbers.\n",
    "Hint: remember the mudulus operator (%)."
   ]
  },
  {
   "cell_type": "code",
   "execution_count": 13,
   "metadata": {},
   "outputs": [
    {
     "name": "stdout",
     "output_type": "stream",
     "text": [
      "[4, 8, 10, 4, 600, -2, 0]\n"
     ]
    }
   ],
   "source": [
    "listOfInts = [4, 7, 1, 3, 8, 9, 10, 4, 600, 3, -2, 0]\n",
    "\n",
    "listOfEvens = []\n",
    "\n",
    "# loop over the original list\n",
    "for i in listOfInts:\n",
    "    # decide whether to keep this item\n",
    "    if i % 2 == 0:\n",
    "        # add item to the new list\n",
    "        listOfEvens.append(i)\n",
    "    \n",
    "print(listOfEvens)"
   ]
  },
  {
   "cell_type": "markdown",
   "metadata": {},
   "source": [
    "### For Loops With a Specified Number of Iterations\n",
    "Instead of using a for loop to apply the same code to every item in a list or other iterable object, we can simply specify the number of times we want the codeinside the loop to run. \n",
    "The **range()** function takes an integer and returns an iterable.\n",
    "The following example shows code for calculating the n-th power of x."
   ]
  },
  {
   "cell_type": "code",
   "execution_count": 14,
   "metadata": {
    "scrolled": true
   },
   "outputs": [
    {
     "name": "stdout",
     "output_type": "stream",
     "text": [
      "x: 2\n",
      "n: 3\n",
      "2**3 = 8\n"
     ]
    }
   ],
   "source": [
    "x = int(input('x: '))\n",
    "n = int(input('n: '))\n",
    "\n",
    "value = 1\n",
    "for i in range(n):\n",
    "    value = value * x\n",
    "\n",
    "print('{}**{} = {}'.format(x, n, value))"
   ]
  },
  {
   "cell_type": "markdown",
   "metadata": {},
   "source": [
    "In fact, a **range** object has a start value, end value, and step size.\n",
    "When only one parameter **n** is given then the start value defaults to 0, the end value is n, and the step size is 1. \n",
    "However, you can pass more than one parameter to the function in order to explicitly set the other values. \n",
    "The function returns a sequence of numbers, starting from the **start** value, ending *before* the **stop** value, in which consecutive values differ by **step**.\n",
    "The following cell creates some range objects which are then converted to lists so you can see how the parameters affect the output.\n",
    "Try changing the parameters to make sure you understand what they do. "
   ]
  },
  {
   "cell_type": "code",
   "execution_count": 15,
   "metadata": {
    "scrolled": true
   },
   "outputs": [
    {
     "name": "stdout",
     "output_type": "stream",
     "text": [
      "stop=10: [0, 1, 2, 3, 4, 5, 6, 7, 8, 9]\n",
      "start=0, stop=10, step=1: [0, 1, 2, 3, 4, 5, 6, 7, 8, 9]\n",
      "start=3, stop=10, step=2: [3, 5, 7, 9]\n"
     ]
    }
   ],
   "source": [
    "a = list(range(10))\n",
    "print('stop=10: {}'.format(a))\n",
    "# the same as list(range(10)) since start=0 step=1 are the defaults\n",
    "b = list(range(0,10,1))\n",
    "print('start=0, stop=10, step=1: {}'.format(b))\n",
    "\n",
    "c = list(range(3,10,2))\n",
    "print('start=3, stop=10, step=2: {}'.format(c))"
   ]
  },
  {
   "cell_type": "markdown",
   "metadata": {},
   "source": [
    "### Use enumerate() to Access List Indices\n",
    "You might want to iterate through a list and also know the index of the current list item, python provides the **enumerate()** function for this. \n",
    "The following cell gives an example to show how it works."
   ]
  },
  {
   "cell_type": "code",
   "execution_count": 16,
   "metadata": {
    "scrolled": true
   },
   "outputs": [
    {
     "name": "stdout",
     "output_type": "stream",
     "text": [
      "The five best selling Beatles records, in order, are:\n",
      "1. She Loves You\n",
      "2. I Want to Hold Your Hand\n",
      "3. Can't Buy Me Love\n",
      "4. I Feel Fine\n",
      "5. Day Tripper / We Can Work It Out\n"
     ]
    }
   ],
   "source": [
    "topBeatlesSongs = [\n",
    "    \"She Loves You\", \n",
    "    \"I Want to Hold Your Hand\", \n",
    "    \"Can\\'t Buy Me Love\", \n",
    "    \"I Feel Fine\", \n",
    "    \"Day Tripper / We Can Work It Out\"\n",
    "]\n",
    "\n",
    "print(\"The five best selling Beatles records, in order, are:\")\n",
    "\n",
    "# enumerate returns both the index and the value of each item in the list\n",
    "for index, song in enumerate(topBeatlesSongs):\n",
    "    # list indices start at 0 but we want to start counting at 1\n",
    "    num = index+1\n",
    "    print(\"{}. {}\".format(num, song))\n"
   ]
  },
  {
   "cell_type": "markdown",
   "metadata": {},
   "source": [
    "### For Loops Over Dictionaries\n",
    "When iterating over a dictionary, by default only the dictionary keys are returned. \n",
    "Use the methods **values()**, and **items()** to iterate over a dictionary and have easy access to the dictionary values instead of or as well as the keys."
   ]
  },
  {
   "cell_type": "code",
   "execution_count": 17,
   "metadata": {
    "scrolled": true
   },
   "outputs": [
    {
     "name": "stdout",
     "output_type": "stream",
     "text": [
      "St Davids\n",
      "St Asaph\n",
      "City of London\n",
      "Wells\n",
      "Armagh\n",
      "Ripon\n"
     ]
    }
   ],
   "source": [
    "cityPopulations = {\n",
    "    'St Davids': 1841, \n",
    "    'St Asaph': 3355, \n",
    "    'City of London': 7375, \n",
    "    'Wells': 10536, \n",
    "    'Armagh': 14777, \n",
    "    'Ripon': 16702\n",
    "}\n",
    "\n",
    "for cityName in cityPopulations:\n",
    "    print(cityName)"
   ]
  },
  {
   "cell_type": "code",
   "execution_count": 18,
   "metadata": {
    "scrolled": true
   },
   "outputs": [
    {
     "name": "stdout",
     "output_type": "stream",
     "text": [
      "1841\n",
      "3355\n",
      "7375\n",
      "10536\n",
      "14777\n",
      "16702\n"
     ]
    }
   ],
   "source": [
    "for cityPop in cityPopulations.values():\n",
    "    print(cityPop)"
   ]
  },
  {
   "cell_type": "code",
   "execution_count": 19,
   "metadata": {
    "scrolled": true
   },
   "outputs": [
    {
     "name": "stdout",
     "output_type": "stream",
     "text": [
      "The population of St Davids is 1841\n",
      "The population of St Asaph is 3355\n",
      "The population of City of London is 7375\n",
      "The population of Wells is 10536\n",
      "The population of Armagh is 14777\n",
      "The population of Ripon is 16702\n"
     ]
    }
   ],
   "source": [
    "for cityName, cityPop in cityPopulations.items():\n",
    "    print('The population of {} is {}'.format(cityName, cityPop))"
   ]
  },
  {
   "cell_type": "markdown",
   "metadata": {},
   "source": [
    "## While Loops\n",
    "In some situations we don't have any predetmined set of data we want to iterate over but we want to keep repeating a piece of code for as long as some condition is True.\n",
    "In this case, use a **while** loop."
   ]
  },
  {
   "cell_type": "code",
   "execution_count": 20,
   "metadata": {
    "scrolled": true
   },
   "outputs": [
    {
     "name": "stdout",
     "output_type": "stream",
     "text": [
      "Do you want to continue? y/n: n\n"
     ]
    }
   ],
   "source": [
    "x = input('Do you want to continue? y/n: ')\n",
    "\n",
    "while x == 'y':\n",
    "    x = input('Do you want to continue? y/n: ')"
   ]
  },
  {
   "cell_type": "markdown",
   "metadata": {},
   "source": [
    "The condition that decides whether to continue executing the code within the while block can be anything that returns a Boolean value (True or False). \n",
    "It is possible to make an infinite loop if this condition always evaluates to True. \n",
    "Occasionally that's a useful thing to do, for example if the code within the loop is able to end the execution, but it could also be a source of bugs. "
   ]
  },
  {
   "cell_type": "markdown",
   "metadata": {},
   "source": [
    "### Break and Continue\n",
    "The **break** command allows us to leave a for or while loop, **continue** causes the rest of the code within the loop to be skipped on this iteration and we proceed to the next iteration immediately. \n",
    "The bext cells give simple examples to demonstrate these ideas."
   ]
  },
  {
   "cell_type": "code",
   "execution_count": 21,
   "metadata": {
    "scrolled": true
   },
   "outputs": [
    {
     "name": "stdout",
     "output_type": "stream",
     "text": [
      "0\n",
      "1\n",
      "3\n",
      "4\n"
     ]
    }
   ],
   "source": [
    "for i in range(5):\n",
    "    if i == 2:\n",
    "        continue\n",
    "    print(i)"
   ]
  },
  {
   "cell_type": "code",
   "execution_count": 22,
   "metadata": {
    "scrolled": true
   },
   "outputs": [
    {
     "name": "stdout",
     "output_type": "stream",
     "text": [
      "0\n",
      "1\n"
     ]
    }
   ],
   "source": [
    "for i in range(5):\n",
    "    if i == 2:\n",
    "        break\n",
    "    print(i)"
   ]
  },
  {
   "cell_type": "markdown",
   "metadata": {},
   "source": [
    "Think carefully about where the break or continue command should sit within the code block. \n",
    "Compare the next cell with the previous one."
   ]
  },
  {
   "cell_type": "code",
   "execution_count": 23,
   "metadata": {
    "scrolled": true
   },
   "outputs": [
    {
     "name": "stdout",
     "output_type": "stream",
     "text": [
      "0\n",
      "1\n",
      "2\n"
     ]
    }
   ],
   "source": [
    "for i in range(5):\n",
    "    print(i)\n",
    "    if i == 2:\n",
    "        break"
   ]
  },
  {
   "cell_type": "markdown",
   "metadata": {},
   "source": [
    "## for ... else and while ... else\n",
    "An advanced feature of python loops is the option to create an **else** block afterwards.\n",
    "The code within the else block will execute if the loop did not exit early (for example, due to a break statement)."
   ]
  },
  {
   "cell_type": "code",
   "execution_count": 25,
   "metadata": {
    "scrolled": true
   },
   "outputs": [
    {
     "name": "stdout",
     "output_type": "stream",
     "text": [
      "enter an integer, n: 3\n",
      "n is less than 5\n"
     ]
    }
   ],
   "source": [
    "n = int(input('enter an integer, n: '))\n",
    "\n",
    "for i in range(5):\n",
    "    if i == n:\n",
    "        print('n is less than 5')\n",
    "        break\n",
    "else:\n",
    "    # this code is only executed if the break statement is never reached\n",
    "    print('n is at least 5')"
   ]
  },
  {
   "cell_type": "markdown",
   "metadata": {},
   "source": [
    "## Nested Loops\n",
    "The code within a loop can itself contain loops. \n",
    "When reading code with nested loops think very carefully about the order in which the code will be executed. \n",
    "The example in the next block is intended to demonstrate this. \n",
    "Look carefully at the output and make sure you understand when each statement is executed."
   ]
  },
  {
   "cell_type": "code",
   "execution_count": 26,
   "metadata": {
    "scrolled": true
   },
   "outputs": [
    {
     "name": "stdout",
     "output_type": "stream",
     "text": [
      "outer loop index is 0\n",
      "\t inner loop index is 0\n",
      "\t inner loop index is 1\n",
      "\t inner loop index is 2\n",
      "\t inner loop index is 3\n",
      "\t inner loop index is 4\n",
      "outer loop index is 1\n",
      "\t inner loop index is 0\n",
      "\t inner loop index is 1\n",
      "\t inner loop index is 2\n",
      "\t inner loop index is 3\n",
      "\t inner loop index is 4\n",
      "outer loop index is 2\n",
      "\t inner loop index is 0\n",
      "\t inner loop index is 1\n",
      "\t inner loop index is 2\n",
      "\t inner loop index is 3\n",
      "\t inner loop index is 4\n",
      "outer loop index is 3\n",
      "\t inner loop index is 0\n",
      "\t inner loop index is 1\n",
      "\t inner loop index is 2\n",
      "\t inner loop index is 3\n",
      "\t inner loop index is 4\n",
      "outer loop index is 4\n",
      "\t inner loop index is 0\n",
      "\t inner loop index is 1\n",
      "\t inner loop index is 2\n",
      "\t inner loop index is 3\n",
      "\t inner loop index is 4\n"
     ]
    }
   ],
   "source": [
    "for i in range(5):\n",
    "    print('outer loop index is {}'.format(i))\n",
    "    for j in range(5):\n",
    "        print('\\t inner loop index is {}'.format(j))"
   ]
  },
  {
   "cell_type": "markdown",
   "metadata": {},
   "source": [
    "Next we use nested loops to generate a multiplication table."
   ]
  },
  {
   "cell_type": "code",
   "execution_count": 27,
   "metadata": {
    "scrolled": true
   },
   "outputs": [
    {
     "name": "stdout",
     "output_type": "stream",
     "text": [
      "        1     2     3     4     5     6     7     8     9     10  \n",
      "  1     1     2     3     4     5     6     7     8     9     10  \n",
      "  2     2     4     6     8     10    12    14    16    18    20  \n",
      "  3     3     6     9     12    15    18    21    24    27    30  \n",
      "  4     4     8     12    16    20    24    28    32    36    40  \n",
      "  5     5     10    15    20    25    30    35    40    45    50  \n",
      "  6     6     12    18    24    30    36    42    48    54    60  \n",
      "  7     7     14    21    28    35    42    49    56    63    70  \n",
      "  8     8     16    24    32    40    48    56    64    72    80  \n",
      "  9     9     18    27    36    45    54    63    72    81    90  \n",
      "  10    10    20    30    40    50    60    70    80    90   100  \n"
     ]
    }
   ],
   "source": [
    "# initialize the variable\n",
    "tableData = []\n",
    "for i in range(1,11):\n",
    "    # row label\n",
    "    line = [str(i)]\n",
    "    for j in range(1,11):\n",
    "        line.append(str(i*j))\n",
    "    tableData.append(line)\n",
    "    \n",
    "# this creates nice spacing in the table\n",
    "formatString = ''.join(['{:^6}']*11)\n",
    "\n",
    "# print the header line\n",
    "header = [' ']\n",
    "for i in range(1,11):\n",
    "    header.append(str(i))\n",
    "print(formatString.format(*header))\n",
    "\n",
    "# print each line of the table\n",
    "for i in range(10):\n",
    "    print(formatString.format(*tableData[i]))"
   ]
  },
  {
   "cell_type": "markdown",
   "metadata": {},
   "source": [
    "Python includes methods for sorting a list of numbers, but using nested loops we can write our own. \n",
    "The next cell contains a python implementation of the Insertion Sort algorithm (https://en.wikipedia.org/wiki/Insertion_sort). "
   ]
  },
  {
   "cell_type": "code",
   "execution_count": 28,
   "metadata": {
    "scrolled": true
   },
   "outputs": [
    {
     "name": "stdout",
     "output_type": "stream",
     "text": [
      "[-1, 0, 1, 2, 3, 6, 8]\n"
     ]
    }
   ],
   "source": [
    "myList = [3, 6, 1, 8, 2, 0, -1]\n",
    "\n",
    "for index, currentValue in enumerate(myList):\n",
    "    currentPosition = index\n",
    "    # As long as we haven't reached the beginning (currentPosition > 0)\n",
    "    # find out whether the next element left is bigger than this one.\n",
    "    # if yes move the larger element one space to the right. \n",
    "    while currentPosition > 0 and myList[currentPosition - 1] > currentValue:\n",
    "        myList[currentPosition] = myList[currentPosition -1]\n",
    "        currentPosition -= 1\n",
    "\n",
    "\n",
    "    # Now we've reached the correct position for this element - \n",
    "    # either the beginning of the list, or the next value left is smaller\n",
    "    # so we insert the element at currentPosition\n",
    "    myList[currentPosition] = currentValue\n",
    "    \n",
    "print(myList)"
   ]
  },
  {
   "cell_type": "markdown",
   "metadata": {},
   "source": [
    "## Exercise 4\n",
    "A different algorithm for sorting a list of numbers is called Selection Sort. \n",
    "Read the following description, then try to implement it in Python.\n",
    "You might also find it helpful to look at the introduction and example in this Wikipedia article https://en.wikipedia.org/wiki/Selection_sort. \n",
    "\n",
    "**Selection Sort**\n",
    "In an unsorted list find the minimum element.\n",
    "Switch this value with the value at the first position.\n",
    "Now the first value of the list is the minimum value.\n",
    "Repeat the same procedure on the sub-list starting from the second element, then the minimum value of those remaining will be placed into the second position.\n",
    "Repeat the same procedure again for the sub-list starting from the third element, and so on until the whole list is sorted. \n",
    "\n",
    "Note: this exercise is meant to be challenging! \n",
    "Try to understand the idea of the algorithm first before thinking about how to implement it in Python. \n",
    "If you get stuck then it's fine to search online for hints but make sure in the end that you can write your own implementation.\n",
    "For example, here's a question on Stack Overflow about implementing selection sort in Python https://stackoverflow.com/questions/15235264/selection-sort-python."
   ]
  },
  {
   "cell_type": "code",
   "execution_count": 38,
   "metadata": {
    "scrolled": true
   },
   "outputs": [
    {
     "name": "stdout",
     "output_type": "stream",
     "text": [
      "[-1, 0, 1, 2, 3, 6, 8]\n"
     ]
    }
   ],
   "source": [
    "myList = [3, 6, 1, 8, 2, 0, -1]\n",
    "\n",
    "# write a sorting procedure here\n",
    "for i in range(len(myList)):\n",
    "    min_index = i\n",
    "    for j in range(i+1, len(myList)):\n",
    "        if myList[j] < myList[min_index]:\n",
    "            min_index = j\n",
    "            \n",
    "    if i != min_index:\n",
    "        myList[i], myList[min_index] = myList[min_index], myList[i]\n",
    "\n",
    "\n",
    "print(myList)"
   ]
  },
  {
   "cell_type": "markdown",
   "metadata": {},
   "source": [
    "# Solutions to Exercises\n",
    "\n",
    "## 1"
   ]
  },
  {
   "cell_type": "code",
   "execution_count": 29,
   "metadata": {
    "scrolled": true
   },
   "outputs": [
    {
     "name": "stdout",
     "output_type": "stream",
     "text": [
      "Your mark was 45, your grade was Pass. Well done.\n"
     ]
    }
   ],
   "source": [
    "mark = 45\n",
    "grade = None\n",
    "message = None\n",
    "\n",
    "if mark < 40:\n",
    "    grade = 'Fail'\n",
    "    message = 'Try again.'\n",
    "elif 40 <= mark < 50:\n",
    "    grade = 'Pass'\n",
    "    message = 'Well done.'\n",
    "elif 50 <= mark < 60:\n",
    "    grade = '2:2'\n",
    "    message = 'Good.'\n",
    "elif 60 <= mark < 70:\n",
    "    grade = '2:1'\n",
    "    message = 'Very good.'\n",
    "elif mark >= 70:\n",
    "    grade = '1st'\n",
    "    message = 'Congratulations!'\n",
    "\n",
    "print('Your mark was {}, your grade was {}. {}'.format(mark, grade, message))"
   ]
  },
  {
   "cell_type": "markdown",
   "metadata": {},
   "source": [
    "## 2\n",
    "When setting an initial value for maxValue we need something that works for any list of numbers. \n",
    "If the list of numbers will definitely contain positive numbers then it's simplest to set 0 as the initial value. \n",
    "maxValue is updated whenever the value currently being considered from the list is bigger."
   ]
  },
  {
   "cell_type": "code",
   "execution_count": 30,
   "metadata": {
    "scrolled": true
   },
   "outputs": [
    {
     "name": "stdout",
     "output_type": "stream",
     "text": [
      "600\n"
     ]
    }
   ],
   "source": [
    "listOfInts = [4, 7, 1, 3, 8, 9, 10, 4, 600, 3, -2, 0]\n",
    "\n",
    "# initialise a variable to keep track of the maximum\n",
    "maxValue = 0\n",
    "\n",
    "# loop over the list\n",
    "for value in listOfInts:\n",
    "    # update the current maximum if this item from the list is bigger\n",
    "    if value > maxValue:\n",
    "        maxValue = value\n",
    "\n",
    "print(maxValue)"
   ]
  },
  {
   "cell_type": "markdown",
   "metadata": {},
   "source": [
    "What if the given list only contains negaitve numbers?\n",
    "Then initialising maxValue to 0 doesn't work.\n",
    "If the list is guaranteed to contain at least one element then maxValue could initially be set to the first element (listOfInts[0]), but what if listOfInts is empty?\n",
    "Here the maxValue is initialised to None, and the code within the loop ensures that this is updated if listOfInts contains any value at all. \n",
    "This is a better solution."
   ]
  },
  {
   "cell_type": "code",
   "execution_count": 31,
   "metadata": {
    "scrolled": true
   },
   "outputs": [
    {
     "name": "stdout",
     "output_type": "stream",
     "text": [
      "600\n"
     ]
    }
   ],
   "source": [
    "listOfInts = [4, 7, 1, 3, 8, 9, 10, 4, 600, 3, -2, 0]\n",
    "\n",
    "# initialise a variable to keep track of the maximum\n",
    "maxValue = None\n",
    "\n",
    "# loop over the list\n",
    "for value in listOfInts:\n",
    "    # update the current maximum if this item from the list is bigger\n",
    "    # also update if the current maximum is still the default value\n",
    "    if maxValue is None or value > maxValue:\n",
    "        maxValue = value\n",
    "\n",
    "print(maxValue)"
   ]
  },
  {
   "cell_type": "markdown",
   "metadata": {},
   "source": [
    "## 3"
   ]
  },
  {
   "cell_type": "code",
   "execution_count": 34,
   "metadata": {},
   "outputs": [
    {
     "name": "stdout",
     "output_type": "stream",
     "text": [
      "[4, 8, 10, 4, 600, -2, 0]\n"
     ]
    }
   ],
   "source": [
    "listOfInts = [4, 7, 1, 3, 8, 9, 10, 4, 600, 3, -2, 0]\n",
    "\n",
    "# initialise new empty list\n",
    "listOfEvens = []\n",
    "\n",
    "# loop over the original list\n",
    "for val in listOfInts:\n",
    "    # decide whether to keep this item\n",
    "    if val % 2 == 0:\n",
    "        # add item to the new list\n",
    "        listOfEvens.append(val)\n",
    "    \n",
    "print(listOfEvens)"
   ]
  },
  {
   "cell_type": "markdown",
   "metadata": {},
   "source": [
    "## 4\n",
    "Here are two ways of implementing selection sort in Python. "
   ]
  },
  {
   "cell_type": "code",
   "execution_count": 36,
   "metadata": {},
   "outputs": [
    {
     "name": "stdout",
     "output_type": "stream",
     "text": [
      "[-1, 0, 1, 2, 3, 6, 8]\n"
     ]
    }
   ],
   "source": [
    "myList = [3, 6, 1, 8, 2, 0, -1]\n",
    "\n",
    "# selection sort conceptually divides a list into a sorted part and unsorted part.\n",
    "# each iteration increases the size of the sorted part by one.\n",
    "# initially the unsorted part starts at index 0, at each iteration the start index increases by one.\n",
    "\n",
    "# startIndex is the index of the first element of the unsorted part of the list\n",
    "for startIndex, startVal in enumerate(myList):\n",
    "    # loop through the unsorted part of the list\n",
    "    # want to find the minimum value and its position\n",
    "    # initialise variables\n",
    "    minVal = None\n",
    "    minIndex = None\n",
    "    for index, val in enumerate(myList[startIndex:]):\n",
    "        # find the minimum\n",
    "        if minVal is None or val < minVal:\n",
    "            minVal = val\n",
    "            minIndex = index\n",
    "    # the minimum value is switched with the first value in the unsorted part\n",
    "    temp = myList[startIndex]\n",
    "    myList[startIndex] = minVal\n",
    "    myList[startIndex+minIndex] = temp\n",
    "\n",
    "print(myList)"
   ]
  },
  {
   "cell_type": "code",
   "execution_count": 35,
   "metadata": {},
   "outputs": [
    {
     "name": "stdout",
     "output_type": "stream",
     "text": [
      "[-1, 0, 1, 2, 3, 6, 8]\n"
     ]
    }
   ],
   "source": [
    "myList = [3, 6, 1, 8, 2, 0, -1]\n",
    "\n",
    "# startIndex is the first index of the unsorted part of the list.\n",
    "for startIndex in range(len(myList)):\n",
    "    # variable j will be used to loop through the unsorted part of the list, starting from startIndex\n",
    "    j = startIndex\n",
    "    # initialise variables for finding the position of the minimum value (in the unsorted part)\n",
    "    minVal = None\n",
    "    minIndex = None\n",
    "    # loop through the unsorted part of the list\n",
    "    while j < len(myList):\n",
    "        # is this item the minimum so far?\n",
    "        val = myList[j]\n",
    "        if minVal is None or val < minVal:\n",
    "            minVal = val\n",
    "            minIndex = j\n",
    "        # increment j to check the next item in the list\n",
    "        j += 1\n",
    "    # the minimum value is switched with the first value in the unsorted part of the list\n",
    "    temp = myList[startIndex]\n",
    "    myList[startIndex] = minVal\n",
    "    myList[minIndex] = temp\n",
    "    \n",
    "print(myList)"
   ]
  },
  {
   "cell_type": "code",
   "execution_count": null,
   "metadata": {},
   "outputs": [],
   "source": []
  }
 ],
 "metadata": {
  "kernelspec": {
   "display_name": "Python 3",
   "language": "python",
   "name": "python3"
  },
  "language_info": {
   "codemirror_mode": {
    "name": "ipython",
    "version": 3
   },
   "file_extension": ".py",
   "mimetype": "text/x-python",
   "name": "python",
   "nbconvert_exporter": "python",
   "pygments_lexer": "ipython3",
   "version": "3.7.9"
  }
 },
 "nbformat": 4,
 "nbformat_minor": 2
}
