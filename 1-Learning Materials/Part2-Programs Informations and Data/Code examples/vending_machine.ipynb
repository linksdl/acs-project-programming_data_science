{
 "cells": [
  {
   "cell_type": "markdown",
   "metadata": {},
   "source": [
    "# Vending Machine\n",
    "\n",
    "Specify a program that can model a vending machine.\n",
    "\n",
    "The machine should contain several different types of item with different prices. The program should simulate use of the machine over a time period by customers who pass by the machine with a given frequency and buy items with a given probabily for each type of item that it sells. \n",
    "\n",
    "More specifically the program will include specification of the types of items sold, the number of each that the machine holds and the popularity of each item (i.e. the chance that each passing person will buy the item.\n",
    "\n",
    "The function that runs the simulation should take as arguments the number of days that the machine will run for (withouth being restocked) and the frequency of people passing by.\n",
    "\n",
    "Your program should output a log of the simulation indicating all purchases made and all occassions when a passing person wanted to buy an item but was unable to because it was sold out.\n",
    "\n",
    "The program should also output the total number of people passing, the total cash taken and the contents remaining in the machine a the end of the simulation."
   ]
  },
  {
   "cell_type": "code",
   "execution_count": 11,
   "metadata": {},
   "outputs": [
    {
     "name": "stdout",
     "output_type": "stream",
     "text": [
      "* * * * * * * * Buys biscuits * * Buys drink * * * * * * Buys crisps * * * * * * Buys drink * * * * * * * * * * * * * * * * * * Buys crisps * * Buys crisps * * * * * * * * * * * * * Buys crisps * * * * * * * * * Buys crisps * * * Buys drink * * * * * * * * * * * Buys drink * * * * * * * * * * Buys biscuits, crisps * * * Buys drink * * * * * * Buys crisps * * * * * Buys crisps * * * * Buys drink * Buys drink * Buys drink * * * * * * * * * * * * * * * Buys biscuits, drink * * * Buys drink * * * * * * * * Buys crisps * * * Buys biscuits * * * * * * * * Buys drink * * * * * * * * * * * * Buys drink * * * * * * * * * Buys biscuits * * * * * Buys drink * * * * * * Buys drink * * * * * * * * * * * * * * * * Buys biscuits * * * Buys drink * Buys drink * * * * Buys drink * * * * * * * * Buys drink * * * * * * * * * * * * * Buys drink * * * * * Buys crisps * Buys drink * * * * * * Buys drink * * * * * Buys crisps * Buys drink * * Buys drink * * * * Buys drink * * * * * * * * * * * * * * * * * * Buys crisps * Buys crisps * Buys drink * * * Buys biscuits * * Buys biscuits * Buys biscuits * * Buys crisps * Buys drink * * * * Buys drink * Buys biscuits * * * * Buys drink * Buys drink * * Buys drink * * Buys crisps * * * * * Buys drink * * * Buys drink * * * * * * * * * * * * * * * * Buys drink * * Buys drink * Buys drink * * Buys crisps * * * * * * Buys crisps * * * * * * * * * Buys crisps * * * * * * * Buys crisps * * Buys drink * * * * * Buys crisps * Buys drink * * Buys crisps * * * * Buys biscuits * * Buys crisps * * * * * * * * Buys drink * * Buys crisps * * * * Buys biscuits * * * * * * * * * * * * * * * Buys biscuits * * * * * * * * * * * * * Buys crisps, drink * * Buys drink * * * * * * * * * * * * * * Buys biscuits * * * * * Buys drink * * * * * * * * * * * * * * * * * * * * * * * * Buys drink * * * * * * * * * * * Buys drink * * * * * Buys crisps * * * Buys drink * * * * * * * * Buys drink \n",
      "Number of passers: 470\n",
      "Cash taken: 2605\n",
      "Contents remaining: {'biscuits': 6, 'crisps': 5, 'drink': 15}\n"
     ]
    }
   ],
   "source": [
    "import random\n",
    "\n",
    "ITEMS = [\"biscuits\", \"crisps\", \"drink\"]\n",
    "\n",
    "MACHINE_CONTENTS = { \"biscuits\" : 20,\n",
    "                     \"crisps\"   : 30,\n",
    "                     \"drink\"    : 60,\n",
    "                   }\n",
    "\n",
    "COSTS = {  \"biscuits\" : 45,\n",
    "           \"crisps\"   : 25,\n",
    "           \"drink\"    : 30,\n",
    "        }\n",
    "\n",
    "POPULARITY = {  \"biscuits\" : 0.02,\n",
    "                \"crisps\"   : 0.06,\n",
    "                \"drink\"    : 0.1,\n",
    "        }\n",
    "\n",
    "# NOTE: the representation of items and their properties is clear\n",
    "# but involves a lot of redundancy.\n",
    "\n",
    "# run_vending_machine_simulation( days, footfall )\n",
    "# days = number of days simulation runs for (without restocking machine)\n",
    "# footfall is the average number of people passing per minute\n",
    "#          We treat this as the probability of a person passing.\n",
    "    \n",
    "def run_vending_machine_simulation( days, footfall ):\n",
    "    passers = 0\n",
    "    cash_taken = 0\n",
    "    minutes = days * 24 * 60     # minutes run for   \n",
    "    for x in range(minutes):     # simulate for each miutes\n",
    "        if random.random() < footfall: # test whether someone passes machine\n",
    "            passers += 1\n",
    "            print(\"*\", end=\" \")\n",
    "            buys = []         # construct list of what they buy (starts empty)\n",
    "            for item in ITEMS:\n",
    "                if random.random() < POPULARITY[item]: # test if they want item\n",
    "                    if MACHINE_CONTENTS[item]> 0:       # if item available\n",
    "                         buys.append(item)                #     add item to buy list\n",
    "                         cash_taken += COSTS[item]        #     add cost to CASH_TAKEN\n",
    "                         MACHINE_CONTENTS[item] -= 1      #     take item from contents\n",
    "                    else:\n",
    "                        print(\"Can't buy\", item, end =\"! \")\n",
    "            if buys:  # true if buys is not the empty list  \n",
    "                 print(\"Buys\", \", \".join(buys) , end=\" \")\n",
    "    return (passers, cash_taken)\n",
    " \n",
    "    \n",
    "passers, cash = run_vending_machine_simulation( 3, 0.1 )\n",
    "\n",
    "print(\"\\nNumber of passers:\", passers )\n",
    "print(\"Cash taken:\", cash )\n",
    "print(\"Contents remaining:\", MACHINE_CONTENTS)\n"
   ]
  },
  {
   "cell_type": "code",
   "execution_count": 9,
   "metadata": {},
   "outputs": [
    {
     "data": {
      "text/plain": [
       "[(6, 5),\n",
       " (6, 6),\n",
       " (5, 6),\n",
       " (2, 3),\n",
       " (1, 5),\n",
       " (5, 2),\n",
       " (5, 3),\n",
       " (1, 5),\n",
       " (5, 1),\n",
       " (4, 3)]"
      ]
     },
     "execution_count": 9,
     "metadata": {},
     "output_type": "execute_result"
    }
   ],
   "source": [
    "import random    \n",
    "def roll():\n",
    "     return random.randint(1,6)\n",
    "\n",
    "roll_data = [ (roll(), roll()) for _ in range(10)] \n",
    "\n",
    "roll_data"
   ]
  },
  {
   "cell_type": "code",
   "execution_count": null,
   "metadata": {
    "collapsed": true
   },
   "outputs": [],
   "source": []
  },
  {
   "cell_type": "code",
   "execution_count": null,
   "metadata": {
    "collapsed": true
   },
   "outputs": [],
   "source": []
  }
 ],
 "metadata": {
  "kernelspec": {
   "display_name": "Python 3",
   "language": "python",
   "name": "python3"
  },
  "language_info": {
   "codemirror_mode": {
    "name": "ipython",
    "version": 3
   },
   "file_extension": ".py",
   "mimetype": "text/x-python",
   "name": "python",
   "nbconvert_exporter": "python",
   "pygments_lexer": "ipython3",
   "version": "3.7.8"
  }
 },
 "nbformat": 4,
 "nbformat_minor": 2
}
