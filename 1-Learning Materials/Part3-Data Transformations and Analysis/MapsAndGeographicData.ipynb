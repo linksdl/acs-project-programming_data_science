{
 "cells": [
  {
   "cell_type": "markdown",
   "metadata": {},
   "source": [
    "   # Maps and Visualisation of Geographically Located Data\n",
    "   \n",
    "   In this lesson we shall look at the use of maps and geographically located data.\n",
    "   \n",
    "   Data with a geographic component is of huge importance in many types of\n",
    "   investigation, and is relevant to  commercial and  social\n",
    "   as well as enviromental applications.\n",
    "   \n",
    "   Certain types of data are intrinsically geographical, in the sense that they\n",
    "   directly describe the spatial and material structure of the world. This includes\n",
    "   data regarding the actual shape of the earth's surface, its land-masses, oceans,\n",
    "   mountains, valleys and plains. It also includes information about land type and\n",
    "   land use and specific geographic objects: deserts, forests, orchards, buildings \n",
    "   and cities. And we may also include regions that are defined by human conventions\n",
    "   and legislation, such as countries, counties and national parks.\n",
    "   \n",
    "   But there are many more kinds of data that, though not in themselves geographic,\n",
    "   are linked to geographic locations --- for example, average temperatures or\n",
    "   rainfall, populations of cities or countries, house prices, average incomes,\n",
    "   crime levels, internet addresses. And we can often get insight into data by\n",
    "   investigating its correspondence with geographic location. Linking data\n",
    "   with geographic location immidiately provides a way to view it in terms of\n",
    "   its distribution in space, and in particular in relation to a familiar map\n",
    "   of our country or our world. This may reveal patterns\n",
    "   in the data that were impossible to see by looking at tables of numbers.\n",
    "   Futhermore, if we  have two different types of data that are not intrinsically\n",
    "   geographical but both are linked to geographic locations, we can use this\n",
    "   to identify correlations that are only apparent when we consider \n",
    "   their spatial distribution. \n",
    "   \n",
    "   "
   ]
  },
  {
   "cell_type": "markdown",
   "metadata": {},
   "source": [
    "## Map Visualisation in Jupyter\n",
    "\n",
    "There are many packages that provide ways of visualising maps and geographically\n",
    "located data in Jupyter. Some of the most commonly used are:\n",
    "\n",
    "* [`geopandas`](https://geopandas.org/)\n",
    "* [`plotly` with `mapbox`](https://plotly.com/python/maps/)\n",
    "* [`folium`](https://python-visualization.github.io/folium/)\n",
    "* [`kepler.gl`](https://kepler.gl/)\n",
    "* [`geoviews`](https://geoviews.org/)\n",
    "* [`ipyleaflet`](https://ipyleaflet.readthedocs.io/en/latest/)\n",
    "\n",
    "These all provide ways of displaying maps and adding graphics derived from data\n",
    "to map displays. Most of them also provide various ways that you can interact\n",
    "with the map data, such as panning, zooming, selecting and drawing.\n",
    "\n",
    "The one we shall look at in this module is `ipyleaflet`. \n",
    "(The link in the list above will take you to the documentation.) Probably other\n",
    "choices will be more suitable in different cases, depending on what kind\n",
    "of mapping and map functionality you need. But `ipyleaflet` is fairly\n",
    "easy to use and comes with a convenient map of the world, which is\n",
    "can be zoomed in and out show any scale from the whole world to a \n",
    "street map.\n",
    "\n",
    "###  Installing `ipyleaflet`\n",
    "\n",
    "`ipyleaflet` should be very easy to install as long as you have a recent\n",
    "version of Anaconda. (At the time of writing, the latest version of the full Anaconda3\n",
    "install was July 2020, so any version more recent than that should be fine.\n",
    "\n",
    "* If using `conda` for package updates it is probably best to run it in a shell window.\n",
    "  Under Linux, the `conda` program should be at `anaconda3/bin/conda` (The location of\n",
    "  the `anaconda3` directory will depend on how you installed it.)\n",
    "  In Windows you should have __Anaconda Prompt__ available by command search at the\n",
    "  start menu. From there you can run `conda` commands.\n",
    "  * (optional) `conda update --all`\n",
    "  * `conda install -c conda-forge ipyleaflet`\n",
    "  \n",
    "* If using `pip`, you probably just need to do `pip install ipyleaflet` or\n",
    "  possibly `pip3 install ipyleaflet` (You normally only need to use `pip3` if your\n",
    "  main version of `pip` is for Python2. This which can be the case on systems\n",
    "  which have Python2 built in as well as having Python3 installed afterwards.)\n",
    "\n",
    "### Other Info on `ipyleaflet`\n",
    "* Thre is a long and quite informative tutorial on using `ipyleaflet` on\n",
    "  [YouTube](https://www.youtube.com/watch?v=PuJ_JUkahXQ)\n",
    "\n"
   ]
  },
  {
   "cell_type": "markdown",
   "metadata": {},
   "source": [
    "### Displaying a Map\n",
    "The following code illustrates how easy it is to display a map of the world.\n",
    "In this case the we are using one of the maps provided, called `OpenTopoMap`.\n",
    "The [latitude](https://en.wikipedia.org/wiki/Latitude)\n",
    "and [longitude](https://en.wikipedia.org/wiki/Longitude) of Leeds are\n",
    "specified as the centre point of the map and a certain zoom level has been\n",
    "chosen. You can explore the map by zooming in and out and panning the map\n",
    "with the usual kinds of pointer movements."
   ]
  },
  {
   "cell_type": "code",
   "execution_count": 25,
   "metadata": {},
   "outputs": [
    {
     "data": {
      "application/vnd.jupyter.widget-view+json": {
       "model_id": "96a6b1d2d7784d318fe9fb7adaf11a7f",
       "version_major": 2,
       "version_minor": 0
      },
      "text/plain": [
       "Map(center=[53.8008, -1.5491], controls=(ZoomControl(options=['position', 'zoom_in_text', 'zoom_in_title', 'zo…"
      ]
     },
     "metadata": {},
     "output_type": "display_data"
    }
   ],
   "source": [
    "from ipyleaflet import Map, basemaps, basemap_to_tiles, Circle, Polyline\n",
    "LEEDS_LOC  = ( 53.8008,  -1.5491  )\n",
    "WORLD_MAP = Map(basemap=basemaps.OpenTopoMap, center=LEEDS_LOC, zoom=1.5)\n",
    "display(WORLD_MAP)"
   ]
  },
  {
   "cell_type": "markdown",
   "metadata": {},
   "source": [
    "Let us now add something to the map. The easiest, but already quite informative is\n",
    "to put a circle on the map. We can package up the creation of a circle, setting its appearance and adding to the map into the convenient function `draw_circle_on_map`.\n",
    "Then it is eash to create a circle centred on Leeds.\n",
    "\n",
    "Notice that the map has already been created and displayed by the cell above. When we run the cell below, the circle is displayed on that map (it does not create a new one).\n",
    "So if you have zoomed into somewhere away from Leeds, you will need to zoom out or pan the map to see the new circle around Leeds. Then you can zoom in and see Leeds in detail."
   ]
  },
  {
   "cell_type": "code",
   "execution_count": 26,
   "metadata": {},
   "outputs": [],
   "source": [
    "def draw_circle_on_map( amap, location, \n",
    "                       radius = 10000, color=\"blue\", fill_color=None ):\n",
    "    if not fill_color:\n",
    "        fill_color = color\n",
    "    circle = Circle()\n",
    "    circle.location = location\n",
    "    circle.radius = radius\n",
    "    circle.color = color\n",
    "    circle.fill_color = fill_color\n",
    "    amap.add_layer(circle)\n",
    "    \n",
    "draw_circle_on_map( WORLD_MAP, LEEDS_LOC )"
   ]
  },
  {
   "cell_type": "markdown",
   "metadata": {},
   "source": [
    "## Displaying Geo-Located Data on a Map\n",
    "\n",
    "I now show a simple example of displaying some geo-located data on\n",
    "the world map.\n",
    "The example I have choosen is a __Significant Volcanic Erruptions__ dataset\n",
    "by Stuart Tinsley on data.world.\n",
    "The data is and some additional information is available from \n",
    "[here](https://data.world/stuartltinsley/volcanic-eruptions-data-set).\n",
    "And I have also put a copy of the CSV file on \n",
    "[this module's data web page](https://teaching.bb-ai.net/P4DS/data/index.html).\n",
    "\n",
    "The following code also illustrates how you can load a CSV into a `pandas`\n",
    "`DataFrame` directly from a URL pointing to where the CSV is stored."
   ]
  },
  {
   "cell_type": "code",
   "execution_count": 28,
   "metadata": {},
   "outputs": [
    {
     "data": {
      "application/vnd.jupyter.widget-view+json": {
       "model_id": "633cc8a4f82b47e9b195d58443f64371",
       "version_major": 2,
       "version_minor": 0
      },
      "text/plain": [
       "Map(center=[53.8008, -1.5491], controls=(ZoomControl(options=['position', 'zoom_in_text', 'zoom_in_title', 'zo…"
      ]
     },
     "metadata": {},
     "output_type": "display_data"
    }
   ],
   "source": [
    "import pandas\n",
    "erruptions_df = pandas.read_csv(\n",
    "    'https://teaching.bb-ai.net/P4DS/data/volcanic_erruptions.csv')\n",
    "\n",
    "#print(erruptions_df.columns.values)\n",
    "WORLD_MAP2 = Map(basemap=basemaps.OpenTopoMap, center=LEEDS_LOC, zoom=1.5)\n",
    "display(WORLD_MAP2)\n",
    "\n",
    "erruptions_df.head()\n",
    "\n",
    "for _, vals in erruptions_df.iterrows():\n",
    "    lat = vals[\"latitude\"]\n",
    "    long = vals[\"longitude\"]\n",
    "    draw_circle_on_map( WORLD_MAP2, (lat,long), color=\"red\")"
   ]
  },
  {
   "cell_type": "markdown",
   "metadata": {
    "collapsed": true
   },
   "source": [
    "### Explanation of the Volcano Map Display\n",
    "\n",
    "Here we see that the powerful volcanoes that have occurred during the past few thousand years are not randomly distributed over the Earth's surface. Their locations are actually along certain lines, which in most cases also correspond to mountain ranges or chains of islands. This finding can be explained by the \n",
    "[plate techtonics](https://en.wikipedia.org/wiki/Plate_tectonics) theory of the Earth's [lithosphere](https://en.wikipedia.org/wiki/Lithosphere). According to that theory, the Earth's surface is broken up into\n",
    "a number of very large plates, which have cracks between them. It is along these cracks that earthquakes and volcanoes tend to occur. "
   ]
  }
 ],
 "metadata": {
  "kernelspec": {
   "display_name": "Python 3",
   "language": "python",
   "name": "python3"
  },
  "language_info": {
   "codemirror_mode": {
    "name": "ipython",
    "version": 3
   },
   "file_extension": ".py",
   "mimetype": "text/x-python",
   "name": "python",
   "nbconvert_exporter": "python",
   "pygments_lexer": "ipython3",
   "version": "3.7.8"
  }
 },
 "nbformat": 4,
 "nbformat_minor": 4
}
