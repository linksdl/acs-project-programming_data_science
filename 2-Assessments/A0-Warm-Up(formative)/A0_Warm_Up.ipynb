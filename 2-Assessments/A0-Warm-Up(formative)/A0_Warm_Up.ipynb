{
 "cells": [
  {
   "cell_type": "markdown",
   "metadata": {},
   "source": [
    "## P4DS: Assignment 0 (formative) (Autumn 2020)\n",
    "\n",
    "# Warm Up\n",
    "\n",
    "#### Last modified: 7th Oct, 2020\n",
    "\n",
    "### Overview\n",
    "\n",
    "This formative coursework has the following objectives:\n",
    "\n",
    "* to illustrate and develop skills of basic Python programming \n",
    "* to help you get used to coding in the Jupyter environment\n",
    "  using this kind of coursework specification format, in which\n",
    "  the instructions and your answers are given in the same notebook file\n",
    "* to show you the semi-automated program testing and grading systems\n",
    "  that will be used for the assignments on this module.\n",
    "\n",
    "Your work will consist of defining a number of functions according to given specifications.\n",
    "\n",
    "You will be given a bare skeleton function just giving the function name, arguments and a dummy return value. To answer the questions you need to fill in code within thes\n",
    "template functions in order to create a working function that fulfils the\n",
    "given requirements.\n",
    "\n",
    "#### Automatic Testing\n",
    "\n",
    "You will be able to check that your functions are working correctly, by running a testing function defined in the Python file `A0_Warm_Up_tests.py`. You should download this and put it in the same directory as this file (`A0_Warm_Up.ipynb`).\n",
    "\n",
    "* <a href=\"http://teaching.bb-ai.net/P4DS/assignments/A0_Warm_Up_tests.py\" download>\n",
    "    A0_Warm_Up_tests.py</a>\n",
    "    \n",
    "An example question is given below, with an explanation of how to answer it and test your answer. After that are 3 questions you need to answer yourself. \n",
    "\n",
    "#### Grading and Submission\n",
    "\n",
    "This is formative coursework which means that the mark\n",
    "you obtain does not count towards your\n",
    "module grade. Hence there is no submission deadline.\n",
    "However, an autograding submission system will be made availble\n",
    "via Gradescope. \n",
    "You are strongly advised to try this as it\n",
    "will enable you (and me) to test the submission and autograding\n",
    "system, to ensure it works smoothly for later assessments (which\n",
    "will count towards your grade).\n",
    "You will receive a notification when the Gradescope submission\n",
    "system is ready for use.\n",
    "\n",
    "At the end of this file a Grading section, which provides a\n",
    "function for carrying out grading of all parts of the assignment\n",
    "and calculating a final grade. This should indicate the\n",
    "grade you are likely to obtain by submitting the file to\n",
    "Gradescope, which will carry out similar testing.\n",
    "But note that *the gradescope automarker will carry out\n",
    "different specific tests than those provided in `A0_Warm_Up_tests.py`\n",
    "for your own testing*. It will check your functions using\n",
    "different input values."
   ]
  },
  {
   "cell_type": "markdown",
   "metadata": {},
   "source": [
    "## Eg1: Count the number of vowels in a string\n",
    "Define a function __`number_of_vowels`__, which takes one string argument and returns the number of vowels that occur in that string. More specifically, the number returned should be the total number of occurences of all vowels in either lower or upper case.\n",
    "The following table shows the required outputs for various inputs:\n",
    "\n",
    "| INPUT\t                 | OUPUT |\n",
    "| ----                   | ----  |\n",
    "| `\"yyyykz\"            `             |\t0    |\n",
    "| `\"A cat sat on a mat\"` |\t6    |\n",
    "| `\"Abracadabra\"`        |\t5    |\n",
    "| `\"Eutopia\"`\t         |  5    |\n",
    "\n",
    "Below is a template for the function, that you need to modify to implement the specified function:"
   ]
  },
  {
   "cell_type": "code",
   "execution_count": 11,
   "metadata": {},
   "outputs": [
    {
     "data": {
      "text/plain": [
       "4"
      ]
     },
     "execution_count": 11,
     "metadata": {},
     "output_type": "execute_result"
    }
   ],
   "source": [
    "## Edit this cell to give your answer\n",
    "\n",
    "def number_of_vowels( string ):\n",
    "    \n",
    "    ### Add code here to compute the required result:\n",
    "    total = 0\n",
    "    for c in string:\n",
    "        if c in 'aeiouAEIOU':\n",
    "            total += 1\n",
    "    ## Change this to return the answer \n",
    "    return total\n",
    "\n",
    "\n",
    "number_of_vowels('this is a words')"
   ]
  },
  {
   "cell_type": "markdown",
   "metadata": {},
   "source": [
    "In this case an answer that fulfils the requirements is the following:"
   ]
  },
  {
   "cell_type": "code",
   "execution_count": 12,
   "metadata": {},
   "outputs": [],
   "source": [
    "def number_of_vowels( string ):\n",
    "    vowel_count = 0\n",
    "    for c in string:\n",
    "        if c in \"aeiouAEIOU\":\n",
    "            vowel_count += 1\n",
    "    return vowel_count       \n"
   ]
  },
  {
   "cell_type": "markdown",
   "metadata": {},
   "source": [
    "__Note:__ When answering the questions below, you can just modify the given template cell. You don't need to create a new cell for your definition. But make sure you do not alter the name of the function or the number and type of its arguments, otherwise the automatic testing/grading function will not work correctly."
   ]
  },
  {
   "cell_type": "markdown",
   "metadata": {},
   "source": [
    "#### Automatic testing:\n",
    "To run tests on your __number_of_vowels__ function, run the following code cell.<br>\n",
    "(Make sure you first run the cell above that defines __number_of_vowels__.)"
   ]
  },
  {
   "cell_type": "code",
   "execution_count": 13,
   "metadata": {},
   "outputs": [
    {
     "name": "stdout",
     "output_type": "stream",
     "text": [
      "\n",
      "Running tests for function: number_of_vowels\n",
      "  * number_of_vowels( 'How many vowels?' )  ...\n",
      "    returned: 4\n",
      "    Correct :)   (1)\n",
      "  * number_of_vowels( 'Sooo many vowels!' )  ...\n",
      "    returned: 6\n",
      "    Correct :)   (1)\n",
      "  * number_of_vowels( 'XXXX' )  ...\n",
      "    returned: 0\n",
      "    Correct :)   (1)\n",
      "Total marks for this function: 3 (of 3)\n"
     ]
    },
    {
     "data": {
      "text/plain": [
       "(3, 3)"
      ]
     },
     "execution_count": 13,
     "metadata": {},
     "output_type": "execute_result"
    }
   ],
   "source": [
    "# Run this cell to test number_of_vowels function\n",
    "# The A0_Warm_Up_tests.py program must be in the same folder as this file.\n",
    "from A0_Warm_Up_tests import do_tests\n",
    "do_tests(number_of_vowels)"
   ]
  },
  {
   "cell_type": "markdown",
   "metadata": {},
   "source": [
    "## Q1: Count the number of *different* vowels in a string\n",
    "\n",
    "To answer this question you need to write code that will determine the number of different vowels in a string input by the user. By \"different vowels\" we mean that if the same vowel occurs more than once it is only counted once. Moreover, small and captial versions of the same letter do NOT count as different vowels. Thus, the number given as the answer will always be from 0 to 5 (inclusive).\n",
    "\n",
    "Examples:\n",
    "\n",
    "|INPUT  |\t    OUPUT |  comment |\n",
    "| ----  |       --- |  ---- |\n",
    "| \"yyyykz\" |\t0 |     no vowels |\n",
    "| \"hello you\"   |  3 | three different vowels |\n",
    "| \"abracadabra\" |\t1 | the only vowel is \"a\" |\n",
    "| \"Ooops!\"      |   1 | only vowel is \"o\" (both small and capital)     \n",
    "| \"A cat sat on a mat\" | 2 | contains \"a\" and \"o\"|  |\n",
    "| \"Eutopia\" |\t5 | contains all five volwels|\n"
   ]
  },
  {
   "cell_type": "code",
   "execution_count": 14,
   "metadata": {},
   "outputs": [],
   "source": [
    "## Edit this cell to give your answer for Q1\n",
    "\n",
    "def number_of_distinct_vowels( string ):\n",
    "    ### Add code here to compute the required number\n",
    "    total = 0\n",
    "    tmp_list = []\n",
    "    for c in string:\n",
    "        if c in 'aeiouAEIOU' and c.lower() not in tmp_list:\n",
    "            total +=1\n",
    "            tmp_list.append(c.lower())\n",
    "           \n",
    "    ## Change this to return the answer (an integer)\n",
    "    print(tmp_list)\n",
    "    return total \n",
    "\n",
    "#print(number_of_distinct_vowels('Ooops!'))"
   ]
  },
  {
   "cell_type": "code",
   "execution_count": 15,
   "metadata": {},
   "outputs": [
    {
     "name": "stdout",
     "output_type": "stream",
     "text": [
      "\n",
      "Running tests for function: number_of_distinct_vowels\n",
      "  * number_of_distinct_vowels( 'Hello World' )  ...\n",
      "['e', 'o']\n",
      "    returned: 2\n",
      "    Correct :)   (1)\n",
      "  * number_of_distinct_vowels( 'Sooo many vowels!' )  ...\n",
      "['o', 'a', 'e']\n",
      "    returned: 3\n",
      "    Correct :)   (1)\n",
      "  * number_of_distinct_vowels( 'XXXX' )  ...\n",
      "[]\n",
      "    returned: 0\n",
      "    Correct :)   (1)\n",
      "  * number_of_distinct_vowels( 'Eutopia' )  ...\n",
      "['e', 'u', 'o', 'i', 'a']\n",
      "    returned: 5\n",
      "    Correct :)   (1)\n",
      "Total marks for this function: 4 (of 4)\n"
     ]
    },
    {
     "data": {
      "text/plain": [
       "(4, 4)"
      ]
     },
     "execution_count": 15,
     "metadata": {},
     "output_type": "execute_result"
    }
   ],
   "source": [
    "# Run this cell to test the number_of_distinct_vowels function\n",
    "# The A0_Warm_Up_tests.py program must be in the same folder as this file.\n",
    "from A0_Warm_Up_tests import do_tests\n",
    "do_tests(number_of_distinct_vowels)"
   ]
  },
  {
   "cell_type": "markdown",
   "metadata": {},
   "source": [
    "## Q2: Password Strength (6 marks)\n",
    "An institution uses the following rules to classify the strength of passwords:\n",
    "\n",
    "* A string is a WEAK password if it is _less than_ 8 characters long.\n",
    "\n",
    "* A string is a STRONG password if:\n",
    "  * it contains at least 11 characters\n",
    "  * AND it contains at least 1 lower case letter\n",
    "  * AND it contains at least 1 capital letter\n",
    "  * AND it contains at least 1 numerical digit.\n",
    "* A string is a MEDIUM password if it is NOT a WEAK password AND is NOT a STRONG password.\n",
    "\n",
    "You need to code a function ```password_strength``` that will take a string argument and will print the 'strength' of that string as a password, according to the rules given above. So it should output one of the strings ```\"STRONG\"```, ```\"WEAK\"``` or ```\"MEDIUM\"```.\n",
    "\n",
    "Examples:\n",
    "\n",
    "| INPUT             | OUPUT |\n",
    "| -----             | --------|\n",
    "| ```\"hello\"```           |\t```\"WEAK\"``` |\n",
    "| ```\"7Kings8all9Pies\"``` |\t```\"STRONG\"``` |\n",
    "| ```\"brandon123\"```      |\t```\"MEDIUM\"``` |\n"
   ]
  },
  {
   "cell_type": "code",
   "execution_count": 16,
   "metadata": {},
   "outputs": [
    {
     "name": "stdout",
     "output_type": "stream",
     "text": [
      "MEDIUM\n"
     ]
    }
   ],
   "source": [
    "## Edit this cell to give your answer for Q2\n",
    "\n",
    "def password_strength( password ):\n",
    "    ## Add code to compute password strength\n",
    "    pass_len = len(password)\n",
    "\n",
    "    if pass_len < 8:\n",
    "        return \"WEAK\"\n",
    "    \n",
    "    elif pass_len >= 11:\n",
    "        has_lower   = False\n",
    "        has_capital = False\n",
    "        has_digit   = False\n",
    "        for c in password:\n",
    "            if c.islower():\n",
    "                has_lower = True\n",
    "                continue\n",
    "            elif c.isupper():\n",
    "                has_capital = True\n",
    "                continue\n",
    "            elif c.isnumeric():\n",
    "                has_digit = True\n",
    "                continue\n",
    "                \n",
    "        if has_lower and has_capital and has_digit:\n",
    "            return \"STRONG\"\n",
    "        else:\n",
    "            return \"MEDIUM\"\n",
    "    else:\n",
    "        return \"MEDIUM\"\n",
    "    \n",
    "    # should return the strength (\"WEAK\", \"STRONG\" or \"MEDIUM\")\n",
    "    return \"Hmm, not sure\"  \n",
    "\n",
    "print(password_strength('BMX-122333444555Z'))"
   ]
  },
  {
   "cell_type": "code",
   "execution_count": 17,
   "metadata": {},
   "outputs": [
    {
     "name": "stdout",
     "output_type": "stream",
     "text": [
      "\n",
      "Running tests for function: password_strength\n",
      "  * password_strength( 'python' )  ...\n",
      "    returned: 'WEAK'\n",
      "    Correct :)   (1)\n",
      "  * password_strength( 'Secret9' )  ...\n",
      "    returned: 'WEAK'\n",
      "    Correct :)   (1)\n",
      "  * password_strength( 'secret99' )  ...\n",
      "    returned: 'MEDIUM'\n",
      "    Correct :)   (1)\n",
      "  * password_strength( 'Secret999!' )  ...\n",
      "    returned: 'MEDIUM'\n",
      "    Correct :)   (1)\n",
      "  * password_strength( 'BMX-122333444555Z' )  ...\n",
      "    returned: 'MEDIUM'\n",
      "    Correct :)   (1)\n",
      "  * password_strength( '7Kings8all9Pies' )  ...\n",
      "    returned: 'STRONG'\n",
      "    Correct :)   (1)\n",
      "Total marks for this function: 6 (of 6)\n"
     ]
    },
    {
     "data": {
      "text/plain": [
       "(6, 6)"
      ]
     },
     "execution_count": 17,
     "metadata": {},
     "output_type": "execute_result"
    }
   ],
   "source": [
    "# code to test the password_strength function\n",
    "# The A0_Warm_Up_tests.py program must be in the same folder as this file.\n",
    "from A0_Warm_Up_tests import do_tests\n",
    "do_tests( password_strength )"
   ]
  },
  {
   "cell_type": "markdown",
   "metadata": {},
   "source": [
    "## Q3: Megabyte Energy Bars (5 marks)\n",
    "The SnackShack convenience store sells Megabyte energy bars according to the following pricing rules:\n",
    "* Single Megabyte bar: £1.25\n",
    "* Megabyte Sixpack (6 bars): £5\n",
    "* 10% Discount given on all orders of £20 or more!</br>\n",
    "  (To be precise: if the cost calculated from the first two\n",
    "   rules gives a value greater than or equal to £20, the\n",
    "   price charged will be 10% less than that value.)\n",
    "\n",
    "To answer this question, write a Python function __`megabyte_bars_cost`__ that takes one input, which is the number of Megabyte bars a customer wants to buy, and gives 1 output, a ```float```, which is the total cost in pounds of buying that number of Megabyte bars. (You should assume that the buyer alway minimises the cost buy buying as many Sixpacks as\n",
    "possible.)\n",
    "\n",
    "\n",
    "Examples\n",
    "\n",
    "| Num Bars (input) |\tCost in £s (output)\t| Cost Breakdown |\n",
    "|-- | -- | -- | \n",
    "|3\t|3.75|\t3 single bars|\n",
    "|12\t|10\t|2 six packs\n",
    "|15\t|13.75|\t2 sixpacks and 3 single bars\n",
    "|26|\t20.25|\t4 sixpacks, 2 singles (22.50), 10% discount (-2.25)|\n"
   ]
  },
  {
   "cell_type": "code",
   "execution_count": 18,
   "metadata": {},
   "outputs": [],
   "source": [
    "## Edit this cell to give your answer for Q3\n",
    "\n",
    "def megabyte_bars_cost( n ):\n",
    "    ## add your code here\n",
    "    single_price = 1.25\n",
    "    total_cost = 0.0\n",
    "    if n < 6:\n",
    "        total_cost = float(n * single_price)\n",
    "\n",
    "    elif n >= 6:\n",
    "        num_packs = n // 6\n",
    "        num_sig_bars = n % 6\n",
    "        total_cost = 5 * num_packs + num_sig_bars * single_price\n",
    "    else:\n",
    "        return 0.0\n",
    "        \n",
    "    if total_cost >= 20.0:\n",
    "        total_cost  = total_cost * 0.9  \n",
    "    ## change this to return the cost of bying n bars.\n",
    "    return total_cost  \n",
    "\n",
    "# print(megabyte_bars_cost(15))"
   ]
  },
  {
   "cell_type": "code",
   "execution_count": 19,
   "metadata": {},
   "outputs": [
    {
     "name": "stdout",
     "output_type": "stream",
     "text": [
      "\n",
      "Running tests for function: megabyte_bars_cost\n",
      "  * megabyte_bars_cost( 3 )  ...\n",
      "    returned: 3.75\n",
      "    Correct :)   (1)\n",
      "  * megabyte_bars_cost( 12 )  ...\n",
      "    returned: 10.0\n",
      "    Correct :)   (1)\n",
      "  * megabyte_bars_cost( 15 )  ...\n",
      "    returned: 13.75\n",
      "    Correct :)   (1)\n",
      "  * megabyte_bars_cost( 26 )  ...\n",
      "    returned: 20.25\n",
      "    Correct :)   (1)\n",
      "  * megabyte_bars_cost( 100 )  ...\n",
      "    returned: 76.5\n",
      "    Correct :)   (1)\n",
      "Total marks for this function: 5 (of 5)\n"
     ]
    },
    {
     "data": {
      "text/plain": [
       "(5, 5)"
      ]
     },
     "execution_count": 19,
     "metadata": {},
     "output_type": "execute_result"
    }
   ],
   "source": [
    "# Run this cell to test the megabyte_bars_cost function\n",
    "# The A0_Warm_Up_tests.py program must be in the same folder as this file.\n",
    "from A0_Warm_Up_tests import do_tests\n",
    "do_tests(megabyte_bars_cost)"
   ]
  },
  {
   "cell_type": "markdown",
   "metadata": {},
   "source": [
    "# Grading\n",
    "\n",
    "The following code will run tests for all functions you have\n",
    "defined for this assessmend and will calculate your total mark. \n",
    "\n",
    "To get your mark simply select the \"__Run All__\" option from the Jupyter \"__Cell__\" menu above. Test results followed by your overal grade will be shown below.\n",
    "<br>\n",
    "You can do this at any point to see the marks you would get for what you have done so far."
   ]
  },
  {
   "cell_type": "code",
   "execution_count": 20,
   "metadata": {},
   "outputs": [
    {
     "name": "stdout",
     "output_type": "stream",
     "text": [
      "\n",
      "Running tests for function: number_of_distinct_vowels\n",
      "  * number_of_distinct_vowels( 'Hello World' )  ...\n",
      "['e', 'o']\n",
      "    returned: 2\n",
      "    Correct :)   (1)\n",
      "  * number_of_distinct_vowels( 'Sooo many vowels!' )  ...\n",
      "['o', 'a', 'e']\n",
      "    returned: 3\n",
      "    Correct :)   (1)\n",
      "  * number_of_distinct_vowels( 'XXXX' )  ...\n",
      "[]\n",
      "    returned: 0\n",
      "    Correct :)   (1)\n",
      "  * number_of_distinct_vowels( 'Eutopia' )  ...\n",
      "['e', 'u', 'o', 'i', 'a']\n",
      "    returned: 5\n",
      "    Correct :)   (1)\n",
      "Total marks for this function: 4 (of 4)\n",
      "\n",
      "Running tests for function: password_strength\n",
      "  * password_strength( 'python' )  ...\n",
      "    returned: 'WEAK'\n",
      "    Correct :)   (1)\n",
      "  * password_strength( 'Secret9' )  ...\n",
      "    returned: 'WEAK'\n",
      "    Correct :)   (1)\n",
      "  * password_strength( 'secret99' )  ...\n",
      "    returned: 'MEDIUM'\n",
      "    Correct :)   (1)\n",
      "  * password_strength( 'Secret999!' )  ...\n",
      "    returned: 'MEDIUM'\n",
      "    Correct :)   (1)\n",
      "  * password_strength( 'BMX-122333444555Z' )  ...\n",
      "    returned: 'MEDIUM'\n",
      "    Correct :)   (1)\n",
      "  * password_strength( '7Kings8all9Pies' )  ...\n",
      "    returned: 'STRONG'\n",
      "    Correct :)   (1)\n",
      "Total marks for this function: 6 (of 6)\n",
      "\n",
      "Running tests for function: megabyte_bars_cost\n",
      "  * megabyte_bars_cost( 3 )  ...\n",
      "    returned: 3.75\n",
      "    Correct :)   (1)\n",
      "  * megabyte_bars_cost( 12 )  ...\n",
      "    returned: 10.0\n",
      "    Correct :)   (1)\n",
      "  * megabyte_bars_cost( 15 )  ...\n",
      "    returned: 13.75\n",
      "    Correct :)   (1)\n",
      "  * megabyte_bars_cost( 26 )  ...\n",
      "    returned: 20.25\n",
      "    Correct :)   (1)\n",
      "  * megabyte_bars_cost( 100 )  ...\n",
      "    returned: 76.5\n",
      "    Correct :)   (1)\n",
      "Total marks for this function: 5 (of 5)\n",
      "\n",
      "FINAL TOTAL = 15  (of 15)\n",
      "\n",
      "Tests version: 7th Oct, 2020\n"
     ]
    }
   ],
   "source": [
    "from A0_Warm_Up_tests import do_tests, tests_version\n",
    "\n",
    "functions = [\n",
    "              number_of_distinct_vowels,\n",
    "              password_strength,\n",
    "              megabyte_bars_cost\n",
    "            ]\n",
    "\n",
    "marks = 0\n",
    "max_marks = 0\n",
    "for function in functions:\n",
    "    mark, max = do_tests(function)\n",
    "    marks += mark\n",
    "    max_marks += max\n",
    "    \n",
    "print(\"\\nFINAL TOTAL =\", marks, \" (of\", str(max_marks) + \")\")\n",
    "print(\"\\nTests version:\", tests_version())\n"
   ]
  },
  {
   "cell_type": "code",
   "execution_count": null,
   "metadata": {},
   "outputs": [],
   "source": []
  },
  {
   "cell_type": "code",
   "execution_count": null,
   "metadata": {},
   "outputs": [],
   "source": []
  }
 ],
 "metadata": {
  "kernelspec": {
   "display_name": "Python 3",
   "language": "python",
   "name": "python3"
  },
  "language_info": {
   "codemirror_mode": {
    "name": "ipython",
    "version": 3
   },
   "file_extension": ".py",
   "mimetype": "text/x-python",
   "name": "python",
   "nbconvert_exporter": "python",
   "pygments_lexer": "ipython3",
   "version": "3.7.9"
  }
 },
 "nbformat": 4,
 "nbformat_minor": 2
}
