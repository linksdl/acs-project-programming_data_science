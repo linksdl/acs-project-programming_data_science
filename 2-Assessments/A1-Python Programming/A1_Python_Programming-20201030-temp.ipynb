{
 "cells": [
  {
   "cell_type": "markdown",
   "metadata": {},
   "source": [
    "## P4DS: Assignment 1 (Autumn 2020)\n",
    "\n",
    "# Python Programming\n",
    "\n",
    "### Brandon Bennett\n",
    "\n",
    "#### Last modified: 20th Oct 2020 \n",
    "\n",
    "This coursework is intended to develop and test skills in defining basic algorithmic functions in Python, with an emphasis on types of function for processing, transforming and classifying. Completing this set of tasks should give you a very good\n",
    "grounding in the fundamental programming techiniques required for DataScience.\n",
    "\n",
    "In this exercise we are only using a limited set of library modules. This is to\n",
    "ensure you master the kinds of algorithms required rather than relying on\n",
    "pre-programmed functions provided by Python packages. \n",
    "\n",
    "**Do not import any module other than those already imported into this file**.\n",
    "\n",
    "In other words do not add `import` statements in any code you write\n",
    "for this assignment. And, of course, do not add extra packages to the\n",
    "`import` statements that are already in the code.\n",
    "\n",
    "### Form of the Assignment\n",
    "\n",
    "Your work will consist of defining a number of functions according to given specifications.\n",
    "\n",
    "You will be given a bare skeleton function just giving the function name, arguments and a dummy return value.\n",
    "\n",
    "You need to edit the functions so that for any input of the expected type, the\n",
    "result returned will fit the given specification.\n",
    "\n",
    "For the grading I will **not** try to catch you out by giving inputs of the\n",
    "wrong type (such as a number instead of a string) or names of files that\n",
    "do not exist. It is not that kind of programming course.\n",
    "\n",
    "You will be able to check that your functions are working correctly, by running a testing function defined in the Python file `A1_Python_Programming_tests.py`. You should download this and put it in the same directory as this file (`A1_Python_Programming.ipynb`).\n",
    "\n",
    "* <a href=\"http://teaching.bb-ai.net/P4DS/assignments/A1_Python_Programming_tests.py\" download>\n",
    "    A1_Python_Programming_tests.py</a>\n",
    "    \n",
    "When answering the questions below, you can just modify the given template cell. You don't need to create a new cell for your definition. But make sure you do not alter the name of the function or the number and type of its arguments, otherwise the automatic testing/grading function will not work correctly.\n",
    "\n",
    "Please look at the prelimiary formative assignment notebook `A0_Warm_Up.ipynb` for further explanation\n",
    "and the assignment format and illustratons of the using the testing functions."
   ]
  },
  {
   "cell_type": "markdown",
   "metadata": {},
   "source": [
    "### Questions overview:\n",
    "\n",
    "\n",
    "* __Q1. Anagrams and Palindromes__\n",
    "  - __(a)__ Test whether two strings are anagrams.   (4 marks)\n",
    "  - __(b)__ Test if a given string is a palindrome.  (4 marks)\n",
    "  \n",
    "  \n",
    "* __Q2. Using a data file of English words__\n",
    "  - __(a)__ Test, whether a string is an English word  (5 marks)\n",
    "  - __(b)__ Find Anagrams of a given word              (4 marks)\n",
    "  - __(c)__ Identify English words of a given length that are palindromes. (2 marks)\n",
    "  - __(d)__ Password checker that rejects passwords that are English words. (5 marks)\n",
    "\n",
    "\n",
    "* __Q3. Extracting information from a CSV file__\n",
    "   - __(a)__ Find total playing time     (3 marks)\n",
    "   - __(b)__ Extract list of Query Links (3 marks)\n",
    "   \n",
    "#### Total marks: 30\n"
   ]
  },
  {
   "cell_type": "markdown",
   "metadata": {},
   "source": [
    "\n",
    "## Q1. Identify Anagrams and Palindromes\n",
    "\n",
    "This question involves determining properties of words and\n",
    "identifying words with those properties. "
   ]
  },
  {
   "cell_type": "markdown",
   "metadata": {},
   "source": [
    "### Q1 (a) Test whether two strings are anagrams\n",
    "\n",
    "* Two words are _anagrams_ if they both contain the same letters\n",
    "but in different orders. For example __listen__\n",
    "is an anagram of __silent__.\n",
    "\n",
    "Write a Boolean valued function `anagrams(s1, s2)`, which returns `True` just in case the string `s1` contains the same letters as string `s2` but in a _different order_. The function should be case insensitive --- in other words it should return the same value if any letters in either s1 or s2 are changed from upper to lower case or from lower to upper case. You may assume that the input strings contain only letters.\n",
    "\n",
    "#### Examples\n",
    "\n",
    "| INPUT 1 (string)|\tINPUT 2 (string) |\tOUPUT (boolean) |\n",
    "|--|--|--|\n",
    "|`\"sidebar\"`| `\"seabird\"` |\t`True` |\n",
    "|`\"cheese\"` | `\"frizbee\"` |\t`False`|\n",
    "|`\"listen\"` | `\"silent\"`  |\t`True` |\n",
    "|`\"this\"`   | `\"this\"`    |\t`False`|\n",
    "|`\"Tar\"`    | `\"Rat\"`\t  |`True`  |\n",
    "|`\"Tar\"`    | `\"TAR\"`\t  |`False` |"
   ]
  },
  {
   "cell_type": "code",
   "execution_count": 1,
   "metadata": {},
   "outputs": [],
   "source": [
    "## Q2(a) answer code cell\n",
    "## Modify this function definition to fulfill the given requirements.\n",
    "## Expected code length: less than 10 lines.\n",
    "\n",
    "def anagrams( s1, s2 ):\n",
    "    ## replace the 'pass' command (which does nothing) with code that\n",
    "    ## computes and returns the requried result for any strings s1 and s2\n",
    "    s1 = s1.strip()\n",
    "    s2 = s2.strip()\n",
    "    if s1 == '' or s1== None or s2 == '' or s2 == None:\n",
    "        return False\n",
    "    \n",
    "    if len(s1) != len(s2):\n",
    "        return False\n",
    "    \n",
    "    else :\n",
    "        if s1.lower() == s2.lower():\n",
    "            return False\n",
    "        \n",
    "        elif sorted(list(s1.lower())) == sorted(list(s2.lower())):\n",
    "            return True\n",
    "\n",
    "        else:\n",
    "            return False"
   ]
  },
  {
   "cell_type": "code",
   "execution_count": 2,
   "metadata": {},
   "outputs": [
    {
     "name": "stdout",
     "output_type": "stream",
     "text": [
      "\n",
      "Running tests for function: anagrams\n",
      "  * anagrams( ('listen', 'silent') )  ...\n",
      "    returned: True\n",
      "    Correct :)   (1)\n",
      "  * anagrams( ('Listen', 'Silent') )  ...\n",
      "    returned: True\n",
      "    Correct :)   (1)\n",
      "  * anagrams( ('this', 'that') )  ...\n",
      "    returned: False\n",
      "    Correct :)   (1)\n",
      "  * anagrams( ('this', 'This') )  ...\n",
      "    returned: False\n",
      "    Correct :)   (1)\n",
      "Total marks for this function: 4 (of 4)\n"
     ]
    }
   ],
   "source": [
    "# Run this cell to test your is_english_word function\n",
    "# The A1_Python_Programming_tests program must be in the same folder as this file.\n",
    "from A1_Python_Programming_tests import do_tests\n",
    "do_tests( anagrams )"
   ]
  },
  {
   "cell_type": "markdown",
   "metadata": {},
   "source": [
    "### Q1 (b) Test whether a string is a palindrome\n",
    "\n",
    "* A word is a _palindrome_ if it is the same forward and backward. In other words, reversing the order of its letters\n",
    "results in the same word. For instance, __bob__, __rotator__. The term palindrome\n",
    "is also applied to sentences, which may contain spaces and punctuation marks as well as\n",
    "letters. When considering whether a sentence is a palindrome, the punctuation \n",
    "marks and the case of the letters are usually ignored.\n",
    "\n",
    "Define a function `is_palindrome(s)` that it `return`s `True` if the given string is a palindrome, otherwise `return`s `False`.\n",
    "\n",
    "More specifically, the function should return true if,\n",
    " the alphabetic characters in the input string form the same sequence\n",
    "if they are read forward as if they are read backwards.\n",
    "Any non-alphabet characters, such as spaces and punctuation marks should be ignored, and letter characters are considered to be the same if one is lower case and the other is upper case. Thus the string `\"Do geese see God?\"` is counted as a palindrome,\n",
    "so the function should `return` `True` for this string.\n",
    "\n",
    "#### Examples:\n",
    "| Input | Output |\n",
    "|------|------|\n",
    "|`\"Bob\"` | `True` |\n",
    "|`\"God\"` | `False` |\n",
    "|`\"Abba\"` | `True` |\n",
    "|`\"No lemon, no melon\"` | `True`|\n",
    "|`\"I love Python!\"` | `False`|"
   ]
  },
  {
   "cell_type": "code",
   "execution_count": 3,
   "metadata": {},
   "outputs": [],
   "source": [
    "## Q2(c) answer code cell\n",
    "## Modify this function definition to fulfill the given requirements\n",
    "## Expected code length: less than 10 lines.\n",
    "\n",
    "def is_palindrome(s):\n",
    "    i = 0\n",
    "    j = len(s) - 1\n",
    "\n",
    "    while i <= j:\n",
    "        if s[i].isalpha() and s[j].isalpha():\n",
    "            if s[i].lower() != s[j].lower():\n",
    "                return False\n",
    "            else:\n",
    "                i += 1\n",
    "                j -= 1\n",
    "        elif not s[i].isalpha():\n",
    "            i += 1\n",
    "\n",
    "        elif not s[j].isalpha():\n",
    "            j -= 1\n",
    "\n",
    "    return True"
   ]
  },
  {
   "cell_type": "code",
   "execution_count": 4,
   "metadata": {},
   "outputs": [
    {
     "name": "stdout",
     "output_type": "stream",
     "text": [
      "\n",
      "Running tests for function: is_palindrome\n",
      "  * is_palindrome( 'Abba' )  ...\n",
      "    returned: True\n",
      "    Correct :)   (1)\n",
      "  * is_palindrome( 'Python' )  ...\n",
      "    returned: False\n",
      "    Correct :)   (1)\n",
      "  * is_palindrome( 'Rotator' )  ...\n",
      "    returned: True\n",
      "    Correct :)   (1)\n",
      "  * is_palindrome( 'Was it a cat I saw?' )  ...\n",
      "    returned: True\n",
      "    Correct :)   (1)\n",
      "Total marks for this function: 4 (of 4)\n"
     ]
    }
   ],
   "source": [
    "# Run this cell to test your is_palindrome function\n",
    "# The A1_Python_Programming_tests program must be in the same folder as this file.\n",
    "from A1_Python_Programming_tests import do_tests\n",
    "do_tests(is_palindrome)"
   ]
  },
  {
   "cell_type": "markdown",
   "metadata": {},
   "source": [
    "## Q2. Using a Data File of English Words\n",
    "\n",
    "For this task you will deal with your first file of data!\n",
    "It is an alphabetical list of a large number of\n",
    "English words.\n",
    "You should have a look at it in an editor or view it in\n",
    "a browser to see what the contents look like.\n",
    "\n",
    "This file contains contains nearly all common English words:\n",
    "\n",
    "* ```english_words.txt```\n",
    "<a href=\"https://teaching.bb-ai.net/P4DS/assignments/english_words.txt.wrap.html\" \n",
    "   download>\n",
    "    [View]</a>\n",
    "<a href=\"https://teaching.bb-ai.net/P4DS/assignments/english_words.txt\" \n",
    "   download=\"english_words.txt\">\n",
    "    [Download]*</a>\n",
    "      \n",
    "    \\* You may need to right click to download, or first go to View and download\n",
    "    from there.<br> (Jupyter seems to display the file even though this is supposed \n",
    "    to be a _download_ link.)\n",
    "\n",
    "I also provide the following code which initialises the global variable `ENGLISH_WORDS` to be a **set** of all the words in the file `english_words.txt`. You will need to have that file in the same folder as this notebook file."
   ]
  },
  {
   "cell_type": "markdown",
   "metadata": {},
   "source": [
    "You are recommended to use the `ENGLISH_WORDS` variable in the following questions, whenever you are required to perform a calculation involving all the words in `english_words.txt`. This is particularly important for a function that\n",
    "needs to check the list of words many times. Reading information from a file typically takes more computational time than other operations, so if data can be stored in memory (e.g. as the value of a Python variable) this will usually be a lot more efficient than reading it from a file each time it is needed. (Of course, when dealing with very large datasets, it may not be possible to store the whole dataset in memory.)"
   ]
  },
  {
   "cell_type": "code",
   "execution_count": 5,
   "metadata": {},
   "outputs": [],
   "source": [
    "def get_english_words():\n",
    "    with open( \"english_words.txt\" ) as f:\n",
    "         words = f.readlines()\n",
    "    words = { word.strip() for\n",
    "             word in words }\n",
    "    return words\n",
    "\n",
    "ENGLISH_WORDS = get_english_words()"
   ]
  },
  {
   "cell_type": "code",
   "execution_count": 74,
   "metadata": {},
   "outputs": [
    {
     "name": "stdout",
     "output_type": "stream",
     "text": [
      "['the', 'be', 'of', 'and', 'a', 'to', 'in', 'he', 'have', 'it', 'that', 'for', 'they', 'i', 'with', 'as', 'not', 'on', 'she', 'at', 'by', 'this', 'we', 'you', 'do', 'but', 'from', 'or', 'which', 'one', 'would', 'all', 'will', 'there', 'say', 'who', 'make', 'when', 'can', 'more', 'if', 'no', 'man', 'out', 'other', 'so', 'what', 'time', 'up', 'go', 'about', 'than', 'into', 'could', 'state', 'only', 'new', 'year', 'some', 'take', 'come', 'these', 'know', 'see', 'use', 'get', 'like', 'then', 'first', 'any', 'work', 'now', 'may', 'such', 'give', 'over', 'think', 'most', 'even', 'find', 'day', 'also', 'after', 'way', 'many', 'must', 'look', 'before', 'great', 'back', 'through', 'long', 'where', 'much', 'should', 'well', 'people', 'down', 'own', 'just', 'because', 'good', 'each', 'those', 'feel', 'seem', 'how', 'high', 'too', 'place', 'little', 'world', 'very', 'still', 'nation', 'hand', 'old', 'life', 'tell', 'write', 'become', 'here', 'show', 'house', 'both', 'between', 'need', 'mean', 'call', 'develop', 'under', 'last', 'right', 'move', 'thing', 'general', 'school', 'never', 'same', 'another', 'begin', 'while', 'number', 'part', 'turn', 'real', 'leave', 'might', 'want', 'point', 'form', 'off', 'child', 'few', 'small', 'since', 'against', 'ask', 'late', 'home', 'interest', 'large', 'person', 'end', 'open', 'public', 'follow', 'during', 'present', 'without', 'again', 'hold', 'govern', 'around', 'possible', 'head', 'consider', 'word', 'program', 'problem', 'however', 'lead', 'system', 'set', 'order', 'eye', 'plan', 'run', 'keep', 'face', 'fact', 'group', 'play', 'stand', 'increase', 'early', 'course', 'change', 'help', 'line', 'city', 'put', 'close', 'case', 'force', 'meet', 'once', 'water', 'upon', 'war', 'build', 'hear', 'light', 'unite', 'live', 'every', 'country', 'bring', 'center', 'let', 'side', 'try', 'provide', 'continue', 'name', 'certain', 'power', 'pay', 'result', 'question', 'study', 'woman', 'member', 'until', 'far', 'night', 'always', 'service', 'away', 'report', 'something', 'company', 'week', 'church', 'toward', 'start', 'social', 'room', 'figure', 'nature', 'though', 'young', 'less', 'enough', 'almost', 'read', 'include', 'president', 'nothing', 'yet', 'better', 'big', 'boy', 'cost', 'business', 'value', 'second', 'why', 'clear', 'expect', 'family', 'complete', 'act', 'sense', 'mind', 'experience', 'art', 'next', 'near', 'direct', 'car', 'law', 'industry', 'important', 'girl', 'god', 'several', 'matter', 'usual', 'rather', 'per', 'often', 'kind', 'among', 'white', 'reason', 'action', 'return', 'foot', 'care', 'simple', 'within', 'love', 'human', 'along', 'appear', 'doctor', 'believe', 'speak', 'active', 'student', 'month', 'drive', 'concern', 'best', 'door', 'hope', 'example', 'inform', 'body', 'ever', 'least', 'probable', 'understand', 'reach', 'effect', 'different', 'idea', 'whole', 'control', 'condition', 'field', 'pass', 'fall', 'note', 'special', 'talk', 'particular', 'today', 'measure', 'walk', 'teach', 'low', 'hour', 'type', 'carry', 'rate', 'remain', 'full', 'street', 'easy', 'although', 'record', 'sit', 'determine', 'level', 'local', 'sure', 'receive', 'thus', 'moment', 'spirit', 'train', 'college', 'religion', 'perhaps', 'music', 'grow', 'free', 'cause', 'serve', 'age', 'book', 'board', 'recent', 'sound', 'office', 'cut', 'step', 'class', 'true', 'history', 'position', 'above', 'strong', 'friend', 'necessary', 'add', 'court', 'deal', 'tax', 'support', 'party', 'whether', 'either', 'land', 'material', 'happen', 'education', 'death', 'agree', 'arm', 'mother', 'across', 'quite', 'anything', 'town', 'past', 'view', 'society', 'manage', 'answer', 'break', 'organize', 'half', 'fire', 'lose', 'money', 'stop', 'actual', 'already', 'effort', 'wait', 'department', 'able', 'political', 'learn', 'voice', 'air', 'together', 'shall', 'cover', 'common', 'subject', 'draw', 'short', 'wife', 'treat', 'limit', 'road', 'letter', 'color', 'behind', 'produce', 'send', 'term', 'total', 'university', 'rise', 'century', 'success', 'minute', 'remember', 'purpose', 'test', 'fight', 'watch', 'situation', 'south', 'ago', 'difference', 'stage', 'father', 'table', 'rest', 'bear', 'entire', 'market', 'prepare', 'explain', 'offer', 'plant', 'charge', 'ground', 'west', 'picture', 'hard', 'front', 'lie', 'modern', 'dark', 'surface', 'rule', 'regard', 'dance', 'peace', 'observe', 'future', 'wall', 'farm', 'claim', 'firm', 'operation', 'further', 'pressure', 'property', 'morning', 'amount', 'top', 'outside', 'piece', 'sometimes', 'beauty', 'trade', 'fear', 'demand', 'wonder', 'list', 'accept', 'judge', 'paint', 'mile', 'soon', 'responsible', 'allow', 'secretary', 'heart', 'union', 'slow', 'island', 'enter', 'drink', 'story', 'experiment', 'stay', 'paper', 'space', 'apply', 'decide', 'share', 'desire', 'spend', 'sign', 'therefore', 'various', 'visit', 'supply', 'officer', 'doubt', 'private', 'immediate', 'wish', 'contain', 'feed', 'raise', 'describe', 'ready', 'horse', 'son', 'exist', 'north', 'suggest', 'station', 'effective', 'food', 'deep', 'wide', 'alone', 'character', 'english', 'happy', 'critic', 'unit', 'product', 'respect', 'drop', 'nor', 'fill', 'cold', 'represent', 'sudden', 'basic', 'kill', 'fine', 'trouble', 'mark', 'single', 'press', 'heavy', 'attempt', 'origin', 'standard', 'everything', 'committee', 'moral', 'black', 'red', 'bad', 'earth', 'accord', 'else', 'mere', 'die', 'remark', 'basis', 'except', 'equal', 'east', 'event', 'employ', 'defense', 'smile', 'river', 'improve', 'game', 'detail', 'account', 'cent', 'sort', 'reduce', 'club', 'buy', 'attention', 'ship', 'decision', 'wear', 'inside', 'win', 'suppose', 'ride', 'operate', 'realize', 'sale', 'choose', 'park', 'square', 'vote', 'price', 'district', 'dead', 'foreign', 'window', 'beyond', 'direction', 'strike', 'instead', 'trial', 'practice', 'catch', 'opportunity', 'likely', 'recognize', 'permit', 'serious', 'attack', 'floor', 'association', 'spring', 'lot', 'stock', 'lack', 'hair', 'science', 'relation', 'profession', 'pattern', 'quick', 'medical', 'influence', 'occasion', 'machine', 'compare', 'husband', 'blue', 'international', 'fair', 'especially', 'indeed', 'imagine', 'surprise', 'average', 'official', 'temperature', 'difficult', 'sing', 'hit', 'tree', 'race', 'police', 'touch', 'relative', 'throw', 'quality', 'former', 'pull', 'chance', 'prove', 'argue', 'settle', 'growth', 'date', 'heat', 'save', 'performance', 'count', 'production', 'listen', 'main', 'pick', 'size', 'cool', 'army', 'patient', 'combine', 'summer', 'hall', 'slight', 'command', 'enjoy', 'length', 'proper', 'express', 'health', 'chief', 'evening', 'store', 'language', 'degree', 'lay', 'current', 'gun', 'dog', 'hotel', 'strange', 'separate', 'boat', 'fail', 'clean', 'dress', 'anyone', 'gain', 'pain', 'object', 'knowledge', 'depend', 'relate', 'below', 'dollar', 'advance', 'shape', 'arrange', 'population', 'yes', 'sell', 'mention', 'dry', 'check', 'poet', 'sleep', 'join', 'hot', 'bed', 'electric', 'dream', 'due', 'season', 'manner', 'fit', 'left', 'progress', 'neither', 'strength', 'notice', 'finish', 'opinion', 'bill', 'western', 'truth', 'wrong', 'travel', 'suit', 'bank', 'exact', 'honor', 'brother', 'quiet', 'marry', 'corner', 'handle', 'danger', 'hospital', 'pool', 'promise', 'blood', 'shoot', 'scene', 'literature', 'arrive', 'film', 'base', 'freedom', 'bar', 'maybe', 'hang', 'suffer', 'manufacture', 'frequent', 'rock', 'loss', 'burn', 'sun', 'audience', 'essential', 'glass', 'prevent', 'poem', 'poor', 'inch', 'song', 'skill', 'post', 'popular', 'radio', 'animal', 'conscious', 'worth', 'eat', 'election', 'faith', 'wave', 'murder', 'model', 'forget', 'extend', 'edge', 'distance', 'memory', 'recommend', 'division', 'staff', 'leg', 'discussion', 'address', 'fly', 'dependent', 'ball', 'shake', 'frame', 'extreme', 'engineer', 'thick', 'comfort', 'latter', 'camp', 'oil', 'discover', 'examine', 'difficulty', 'tooth', 'middle', 'choice', 'refer', 'enemy', 'practical', 'marriage', 'bridge', 'declare', 'lady', 'cross', 'daily', 'afternoon', 'attend', 'director', 'balance', 'wash', 'capital', 'speed', 'block', 'citizen', 'mouth', 'hill', 'green', 'please', 'motor', 'agency', 'encourage', 'governor', 'worry', 'affair', 'shoulder', 'bright', 'mass', 'sample', 'pretty', 'repeat', 'roll', 'push', 'trip', 'council', 'clothe', 'parent', 'forward', 'sharp', 'straight', 'gas', 'weight', 'discuss', 'fix', 'load', 'master', 'whatever', 'round', 'rapid', 'laugh', 'finger', 'spot', 'propose', 'shop', 'broad', 'replace', 'reply', 'extent', 'lock', 'employee', 'ahead', 'sight', 'spread', 'wind', 'approve', 'destroy', 'none', 'pound', 'fame', 'importance', 'reflect', 'advantage', 'match', 'regular', 'wage', 'refuse', 'existence', 'hardly', 'perform', 'title', 'tend', 'exercise', 'thin', 'coat', 'bit', 'mountain', 'youth', 'behavior', 'newspaper', 'secret', 'ability', 'sea', 'soft', 'justice', 'reasonable', 'circle', 'solid', 'page', 'weapon', 'fast', 'representative', 'search', 'pure', 'escape', 'crowd', 'stick', 'telephone', 'avoid', 'garden', 'favor', 'news', 'unless', 'dinner', 'someone', 'signal', 'yard', 'ideal', 'warm', 'miss', 'shelter', 'soldier', 'article', 'cry', 'captain', 'familiar', 'seat', 'guest', 'weak', 'excite', 'king', 'everyone', 'wine', 'hole', 'duty', 'beat', 'perfect', 'bottom', 'compose', 'battle', 'expense', 'cattle', 'flow', 'kitchen', 'dust', 'bottle', 'admit', 'tear', 'tire', 'expression', 'exception', 'application', 'belong', 'rich', 'failure', 'struggle', 'instrument', 'variety', 'narrow', 'theater', 'collection', 'rain', 'review', 'preserve', 'leadership', 'clay', 'daughter', 'fellow', 'swing', 'thank', 'library', 'fat', 'reserve', 'tour', 'nice', 'warn', 'ring', 'bitter', 'chair', 'yesterday', 'scientific', 'flower', 'wheel', 'solution', 'aim', 'gather', 'invite', 'moreover', 'fresh', 'forest', 'winter', 'box', 'belief', 'ordinary', 'impossible', 'print', 'gray', 'taste', 'lip', 'speech', 'reference', 'stain', 'connection', 'otherwise', 'stretch', 'knife', 'village', 'blow', 'mistake', 'sweet', 'shout', 'divide', 'guard', 'worse', 'exchange', 'rare', 'commercial', 'request', 'appoint', 'agent', 'dependence', 'bird', 'wild', 'motion', 'guess', 'neighbor', 'seed', 'fashion', 'loan', 'correct', 'plain', 'mail', 'retire', 'opposite', 'prefer', 'safe', 'evil', 'double', 'wood', 'empty', 'baby', 'advise', 'content', 'sport', 'lift', 'literary', 'curious', 'tie', 'flat', 'message', 'neck', 'hate', 'dirt', 'delight', 'trust', 'nobody', 'valley', 'tool', 'presence', 'cook', 'railroad', 'minister', 'coffee', 'brush', 'beside', 'collect', 'guide', 'luck', 'profit', 'lord', 'everybody', 'prison', 'cloud', 'slave', 'chairman', 'soil', 'distinguish', 'introduce', 'urge', 'blind', 'arise', 'upper', 'curve', 'membership', 'key', 'entertain', 'soul', 'neighborhood', 'friendly', 'pair', 'stone', 'lean', 'protect', 'advertise', 'mystery', 'welcome', 'knee', 'jump', 'snake', 'stream', 'avenue', 'brown', 'disease', 'hat', 'excellent', 'formal', 'snow', 'sheet', 'somehow', 'unity', 'sky', 'rough', 'smooth', 'weather', 'steady', 'threaten', 'depth', 'oppose', 'deliver', 'ancient', 'pray', 'adopt', 'birth', 'appearance', 'universe', 'busy', 'hurry', 'coast', 'forth', 'smell', 'furnish', 'female', 'hide', 'wire', 'proposal', 'ought', 'victory', 'quarter', 'engine', 'customer', 'waste', 'fool', 'intend', 'intention', 'desk', 'politics', 'passage', 'lawyer', 'root', 'climb', 'metal', 'gradual', 'hunt', 'protection', 'satisfy', 'roof', 'branch', 'pleasure', 'witness', 'loose', 'nose', 'mine', 'band', 'aside', 'risk', 'tomorrow', 'remind', 'ear', 'fish', 'shore', 'operator', 'civilize', 'being', 'silent', 'screen', 'bind', 'earn', 'pack', 'colony', 'besides', 'slip', 'cousin', 'scale', 'relief', 'explore', 'stem', 'brain', 'musician', 'defend', 'bend', 'somebody', 'shadow', 'mix', 'smoke', 'description', 'fruit', 'guilt', 'yield', 'sensitive', 'salt', 'pale', 'sweep', 'completion', 'throat', 'agriculture', 'admire', 'gentle', 'dozen', 'particle', 'pleasant', 'bay', 'cup', 'competition', 'moon', 'terrible', 'strip', 'mechanic', 'shock', 'conversation', 'angle', 'tall', 'plenty', 'star', 'yellow', 'sick', 'thorough', 'absolute', 'succeed', 'surround', 'proud', 'dear', 'card', 'lake', 'breath', 'afraid', 'silence', 'onto', 'shoe', 'somewhere', 'chain', 'slide', 'copy', 'machinery', 'wake', 'severe', 'pocket', 'bone', 'honest', 'freeze', 'dictionary', 'calm', 'swim', 'ice', 'male', 'skin', 'crack', 'rush', 'wet', 'meat', 'commerce', 'joint', 'gift', 'host', 'suspect', 'path', 'uncle', 'afford', 'instant', 'satisfactory', 'height', 'track', 'confidence', 'grass', 'suggestion', 'favorite', 'breakfast', 'apart', 'chest', 'entrance', 'march', 'sink', 'northern', 'iron', 'alive', 'ill', 'bag', 'disturb', 'native', 'bedroom', 'violent', 'beneath', 'pause', 'tough', 'substance', 'threat', 'charm', 'absence', 'factory', 'spite', 'meal', 'universal', 'accident', 'highway', 'sentence', 'liberty', 'wise', 'noise', 'discovery', 'tube', 'flash', 'twist', 'fence', 'childhood', 'joy', 'sister', 'sad', 'efficiency', 'disappear', 'defeat', 'extensive', 'rent', 'comparison', 'possess', 'grace', 'flesh', 'liquid', 'scientist', 'ease', 'heaven', 'milk', 'sympathy', 'rank', 'restaurant', 'frequency', 'angry', 'shade', 'accuse', 'necessity', 'knock', 'loud', 'permanent', 'row', 'lovely', 'confuse', 'gold', 'frighten', 'solve', 'grave', 'salary', 'photograph', 'advice', 'abroad', 'wound', 'virtue', 'dare', 'queen', 'extra', 'attract', 'numerous', 'pink', 'gate', 'expensive', 'shut', 'chicken', 'forgive', 'holy', 'wooden', 'prompt', 'crime', 'sorry', 'republic', 'anger', 'visitor', 'pile', 'violence', 'steel', 'wing', 'stair', 'partner', 'delay', 'gentleman', 'pour', 'confusion', 'damage', 'kick', 'safety', 'burst', 'network', 'resistance', 'screw', 'pride', 'till', 'hire', 'verb', 'preach', 'clerk', 'everywhere', 'anyway', 'fan', 'connect', 'egg', 'efficient', 'grain', 'calculate', 'drag', 'opposition', 'worship', 'arrest', 'discipline', 'string', 'harbor', 'camera', 'mechanism', 'cow', 'grand', 'funny', 'insurance', 'reduction', 'strict', 'lesson', 'tight', 'sand', 'plate', 'qualify', 'elsewhere', 'mad', 'interference', 'pupil', 'fold', 'royal', 'valuable', 'whisper', 'anybody', 'hurt', 'excess', 'quantity', 'fun', 'mud', 'extension', 'recognition', 'kiss', 'crop', 'sail', 'attractive', 'habit', 'relieve', 'wisdom', 'persuade', 'certainty', 'cloth', 'eager', 'deserve', 'sympathetic', 'cure', 'trap', 'puzzle', 'powder', 'raw', 'mankind', 'glad', 'blame', 'whenever', 'anxiety', 'bus', 'tremble', 'sacred', 'fortunate', 'glory', 'golden', 'neat', 'weekend', 'treasury', 'overcome', 'cat', 'sacrifice', 'complain', 'elect', 'roar', 'sake', 'temple', 'self', 'compete', 'nurse', 'stuff', 'stomach', 'peculiar', 'repair', 'storm', 'ton', 'desert', 'allowance', 'servant', 'hunger', 'conscience', 'bread', 'crash', 'tip', 'strengthen', 'proof', 'generous', 'sir', 'tonight', 'whip', 'tongue', 'mill', 'merchant', 'coal', 'ruin', 'introduction', 'courage', 'actor', 'belt', 'stir', 'package', 'punish', 'reflection', 'breathe', 'anywhere', 'amuse', 'dull', 'fate', 'net', 'fellowship', 'fault', 'furniture', 'beam', 'pencil', 'border', 'disappoint', 'flame', 'joke', 'bless', 'corn', 'shell', 'tempt', 'supper', 'destruction', 'dive', 'anxious', 'shine', 'cheap', 'dish', 'distant', 'greet', 'flood', 'excuse', 'insect', 'ocean', 'ceremony', 'decrease', 'prize', 'harm', 'insure', 'verse', 'pot', 'sincere', 'cotton', 'leaf', 'rub', 'medicine', 'stroke', 'bite', 'lung', 'lonely', 'admission', 'stupid', 'scratch', 'composition', 'broadcast', 'drum', 'resist', 'neglect', 'absent', 'passenger', 'adventure', 'beg', 'pipe', 'beard', 'bold', 'meanwhile', 'devil', 'cheer', 'nut', 'split', 'melt', 'swear', 'sugar', 'bury', 'wipe', 'faint', 'creature', 'tail', 'wealth', 'earnest', 'translate', 'suspicion', 'noble', 'inquiry', 'journey', 'hesitate', 'extraordinary', 'borrow', 'owe', 'funeral', 'ambition', 'mixture', 'slope', 'criminal', 'seldom', 'map', 'spin', 'praise', 'spare', 'plow', 'telegraph', 'barrel', 'straighten', 'scarce', 'lunch', 'slavery', 'creep', 'sweat', 'gay', 'stiff', 'brave', 'seize', 'convenient', 'horizon', 'moderate', 'complicate', 'dig', 'curse', 'weigh', 'priest', 'excessive', 'quarrel', 'widow', 'modest', 'dine', 'politician', 'custom', 'educate', 'salesman', 'nail', 'tap', 'eastern', 'possession', 'satisfaction', 'behave', 'mercy', 'scatter', 'objection', 'silver', 'tent', 'saddle', 'wrap', 'nest', 'grind', 'spell', 'plaster', 'arch', 'swell', 'friendship', 'bath', 'bundle', 'grateful', 'crown', 'boundary', 'nowhere', 'asleep', 'clock', 'boil', 'altogether', 'lend', 'holiday', 'precious', 'wander', 'ugly', 'reputation', 'ticket', 'pretend', 'dismiss', 'delicate', 'despair', 'awake', 'tea', 'false', 'fortune', 'cap', 'thread', 'haste', 'bare', 'shirt', 'bargain', 'leather', 'rail', 'butter', 'dot', 'inquire', 'warmth', 'decisive', 'vessel', 'pity', 'steam', 'pin', 'bound', 'companion', 'toe', 'reward', 'forbid', 'wherever', 'tower', 'bathe', 'lodge', 'swallow', 'multiply', 'bow', 'kingdom', 'garage', 'permission', 'pump', 'prevention', 'urgent', 'aunt', 'zero', 'idle', 'fever', 'christmas', 'regret', 'jaw', 'soap', 'pronounce', 'empire', 'bowl', 'outline', 'organ', 'imitation', 'caution', 'mineral', 'disagree', 'blade', 'trick', 'treasure', 'immense', 'convenience', 'disapprove', 'destructive', 'fork', 'noon', 'ownership', 'tune', 'polish', 'poison', 'shame', 'loyalty', 'cottage', 'astonish', 'shave', 'feather', 'sauce', 'lid', 'debt', 'fade', 'confess', 'classification', 'descend', 'cape', 'mild', 'clever', 'envelope', 'invention', 'sheep', 'splendid', 'stamp', 'float', 'brick', 'rice', 'businessman', 'backward', 'qualification', 'artificial', 'attraction', 'lamp', 'curl', 'shower', 'elder', 'bunch', 'bell', 'steer', 'flavor', 'spit', 'rob', 'cream', 'interrupt', 'pen', 'weave', 'orange', 'rescue', 'crush', 'humble', 'fancy', 'decay', 'polite', 'tribe', 'bleed', 'coin', 'fond', 'autumn', 'classify', 'omit', 'loyal', 'needle', 'lessen', 'complaint', 'pad', 'steep', 'skirt', 'curtain', 'calculation', 'laughter', 'solemn', 'grease', 'interfere', 'explode', 'fasten', 'flag', 'resign', 'postpone', 'patience', 'boast', 'rope', 'envy', 'airplane', 'rid', 'shield', 'veil', 'kneel', 'tray', 'explosive', 'brass', 'taxi', 'wax', 'duck', 'button', 'invent', 'remedy', 'bush', 'thunder', 'weaken', 'poverty', 'scrape', 'arrow', 'tender', 'cruel', 'soften', 'mouse', 'hay', 'anyhow', 'alike', 'circular', 'juice', 'shelf', 'bake', 'hatred', 'cautious', 'basket', 'wreck', 'width', 'confident', 'log', 'heap', 'suck', 'ladder', 'gap', 'obey', 'hut', 'axe', 'translation', 'collar', 'delivery', 'reproduce', 'confession', 'pan', 'prejudice', 'voyage', 'tobacco', 'simplicity', 'paste', 'cake', 'elephant', 'ribbon', 'harvest', 'ashamed', 'cave', 'customary', 'thief', 'damp', 'sew', 'rust', 'separation', 'waiter', 'pet', 'straw', 'upset', 'towel', 'refresh', 'essence', 'fur', 'ambitious', 'defendant', 'daylight', 'dip', 'suspicious', 'imaginary', 'ash', 'carriage', 'educator', 'saw', 'stove', 'rubber', 'rug', 'misery', 'awkward', 'rival', 'roast', 'deed', 'preference', 'explosion', 'theatrical', 'cultivate', 'collector', 'miserable', 'wrist', 'rabbit', 'accustom', 'tide', 'insult', 'thumb', 'lump', 'annoy', 'toy', 'heal', 'shallow', 'repetition', 'soup', 'whistle', 'scenery', 'apple', 'offense', 'cork', 'ripe', 'temper', 'sore', 'pinch', 'diamond', 'razor', 'imaginative', 'hook', 'copper', 'landlord', 'influential', 'rot', 'hollow', 'enclose', 'harden', 'wicked', 'stiffen', 'silk', 'upright', 'selfish', 'stripe', 'pig', 'inward', 'excellence', 'rake', 'purple', 'hasten', 'shorten', 'applause', 'ache', 'apology', 'knot', 'nephew', 'cushion', 'drown', 'nursery', 'pint', 'fierce', 'imitate', 'aloud', 'gaiety', 'robbery', 'tighten', 'perfection', 'scorn', 'whoever', 'trunk', 'wool', 'sailor', 'competitor', 'moonlight', 'deer', 'bean', 'everyday', 'drawer', 'disregard', 'nowadays', 'patriotic', 'tin', 'penny', 'cage', 'pardon', 'lately', 'offend', 'coarse', 'spoil', 'horizontal', 'sting', 'ditch', 'librarian', 'meantime', 'cough', 'deaf', 'sword', 'messenger', 'vain', 'castle', 'elastic', 'comb', 'rod', 'widen', 'sorrow', 'inventor', 'cliff', 'umbrella', 'interruption', 'merry', 'gallon', 'conquest', 'headache', 'tailor', 'bucket', 'scent', 'signature', 'cart', 'darken', 'sometime', 'applaud', 'underneath', 'hello', 'pretense', 'descent', 'conquer', 'framework', 'confidential', 'adoption', 'disgust', 'waist', 'momentary', 'receipt', 'pearl', 'ray', 'lazy', 'limb', 'grammatical', 'beast', 'monkey', 'jewel', 'persuasion', 'obedience', 'sock', 'vowel', 'hammer', 'inn', 'chimney', 'dissatisfaction', 'annoyance', 'ornament', 'honesty', 'outward', 'sharpen', 'handkerchief', 'greed', 'heavenly', 'thirst', 'niece', 'spill', 'loaf', 'wheat', 'worm', 'secrecy', 'rude', 'heighten', 'flatten', 'loosen', 'cheese', 'rivalry', 'royalty', 'discontent', 'complication', 'fright', 'indoor', 'flour', 'actress', 'congratulation', 'ounce', 'fry', 'everlasting', 'goat', 'ink', 'disappearance', 'reproduction', 'thicken', 'avoidance', 'spoon', 'strap', 'deceive', 'lengthen', 'revenge', 'correction', 'descendant', 'hesitation', 'spade', 'basin', 'weed', 'omission', 'old-fashioned', 'bicycle', 'breadth', 'photography', 'coward', 'mat', 'rejoice', 'cheat', 'congratulate', 'discomfort', 'enclosure', 'attentive', 'paw', 'overflow', 'dissatisfy', 'multiplication', 'whichever', 'tidy', 'bribe', 'mend', 'stocking', 'feast', 'nuisance', 'thorn', 'tame', 'inclusive', 'homemade', 'handwriting', 'chalk', 'sour', 'slippery', 'procession', 'ripen', 'jealous', 'jealousy', 'liar', 'homecoming', 'barber', 'whiten', 'berry', 'lighten', 'pigeon', 'hinder', 'bravery', 'baggage', 'noun', 'amongst', 'grammar', 'cultivation', 'companionship', 'rubbish', 'modesty', 'woolen', 'deepen', 'pastry', 'cupboard', 'quart', 'canal', 'notebook', 'deceit', 'parcel', 'brighten', 'moderation', 'punctual', 'hurrah', 'lipstick', 'uppermost', 'fatten', 'conqueror', 'hindrance', 'cowardice', 'obedient', 'saucer', 'madden', 'scold', 'weekday', 'rotten', 'disrespect', 'widower', 'deafen', 'donkey', 'businesslike', 'motherhood', 'sadden', 'handshake', 'calculator', 'headdress', 'scissors', 'translator', 'possessor', 'shilling', 'redden', 'motherly', 'whose', 'cultivator', 'whom', 'homework', 'electrician', 'oar', 'bribery', 'sweeten', 'sow', 'pronunciation', 'beak', 'plural']\n"
     ]
    }
   ],
   "source": [
    "def get_common_english_words():\n",
    "    with open( \"common_english_words.txt\" ) as f:\n",
    "         words = f.readlines()\n",
    "     \n",
    "    rwords = []\n",
    "    for word in words:\n",
    "        w = word.split(' ')[2].replace('\\n','').lower()\n",
    "        rwords.append(w)      \n",
    "    return rwords\n",
    "\n",
    "\n",
    "COMMOM_ENGLISH_WORDS = get_common_english_words()\n",
    "print(COMMOM_ENGLISH_WORDS)"
   ]
  },
  {
   "cell_type": "code",
   "execution_count": 72,
   "metadata": {},
   "outputs": [
    {
     "name": "stdout",
     "output_type": "stream",
     "text": [
      "['i', 'christmas', 'old-fashioned']\n"
     ]
    }
   ],
   "source": [
    "loss_w = []\n",
    "for cw  in COMMOM_ENGLISH_WORDS:\n",
    "    if cw not in ENGLISH_WORDS:\n",
    "        loss_w.append(cw)\n",
    "        \n",
    "print(loss_w)"
   ]
  },
  {
   "cell_type": "markdown",
   "metadata": {},
   "source": [
    "### Q2 (a) Check whether a string is an English word\n",
    "\n",
    "Write a function `is_english_word(s)`, which will test if its input string `s` is an English word, according to the file english_words.txt. This file contains a large number of English words, including all common words and many very rare words. Proper names are not included, and all words are given in lower case, with one word on each line of the file.\n",
    "You need to download the file of English words. Note that it is not a program file and you do not need to edit it. \n",
    "\n",
    "\n",
    "Your function `is_english_word(s)` should take any string as its argument and return a Boolean value --- i.e. `True` or `False`. More specifically your function should return `True` if any of the following conditions hold:\n",
    "* The input string is one of the words in `english_words.txt`.\n",
    "* The input string is the same as one of the of the words in `english_words.txt` except that the input string starts with a capital letter (with all the other letters being small).\n",
    "* The input string is the same as one of the words in `english_words.txt` except that the input string is all in capital letters.\n",
    "* The input string is a very common English word. <br>\n",
    "  (Possibly there are some\n",
    "  very common words that are for some reason not in `english_words.txt`.)\n",
    "\n",
    "If none of these conditions hold, your function should return `False`.\n",
    "\n",
    "#### Examples:\n",
    "\n",
    "| INPUT |\tOUPUT |\n",
    "|-------|---------|\n",
    "|`\"python\"`| `True`|\n",
    "|`\"Python\"`| `True`|\n",
    "|`\"PYTHON\"`| `True`|\n",
    "|`\"pyThon\"`| `False`|\n",
    "|`\"splap\"` | `False`|"
   ]
  },
  {
   "cell_type": "code",
   "execution_count": 73,
   "metadata": {},
   "outputs": [
    {
     "name": "stdout",
     "output_type": "stream",
     "text": [
      "i I I\n"
     ]
    },
    {
     "data": {
      "text/plain": [
       "False"
      ]
     },
     "execution_count": 73,
     "metadata": {},
     "output_type": "execute_result"
    }
   ],
   "source": [
    "## Modify this function definition to fulfill the given requirements.\n",
    "## Expected code length: less than 15 lines.\n",
    "\n",
    "def is_english_word(s):\n",
    "    print(s.lower(), s.title(), s.upper())\n",
    "    # do nothing\n",
    "    s = s.strip()\n",
    "    if s == None or s == '':\n",
    "        return False\n",
    "       \n",
    "    if s.islower() and s in ENGLISH_WORDS:             # python\n",
    "        \n",
    "        return True\n",
    "    \n",
    "    elif s.istitle() and s.lower() in ENGLISH_WORDS:   # Python\n",
    "        \n",
    "        return True\n",
    "    \n",
    "    elif s.isupper() and s.lower() in ENGLISH_WORDS:   # PYTHON\n",
    "        \n",
    "        return True\n",
    "        \n",
    "    else:      \n",
    "        return False\n",
    "    \n",
    "    \n",
    "is_english_word('I')  "
   ]
  },
  {
   "cell_type": "code",
   "execution_count": 23,
   "metadata": {},
   "outputs": [
    {
     "name": "stdout",
     "output_type": "stream",
     "text": [
      "\n",
      "Running tests for function: is_english_word\n",
      "  * is_english_word( 'this' )  ...\n",
      "    returned: True\n",
      "    Correct :)   (1)\n",
      "  * is_english_word( 'Python' )  ...\n",
      "    returned: True\n",
      "    Correct :)   (1)\n",
      "  * is_english_word( 'HelP' )  ...\n",
      "    returned: False\n",
      "    Correct :)   (1)\n",
      "  * is_english_word( 'Flibbertigibbet' )  ...\n",
      "    returned: True\n",
      "    Correct :)   (1)\n",
      "  * is_english_word( 'Brexit' )  ...\n",
      "    returned: False\n",
      "    Correct :)   (1)\n",
      "Total marks for this function: 5 (of 5)\n"
     ]
    }
   ],
   "source": [
    "# Run this cell to test your is_english_word function\n",
    "# The A1_Python_Programming_tests program must be in the same folder as this file.\n",
    "from A1_Python_Programming_tests import do_tests\n",
    "do_tests(is_english_word)"
   ]
  },
  {
   "cell_type": "markdown",
   "metadata": {},
   "source": [
    "### Q2 (b) Find all anagrams of a word\n",
    "Write a function `find_all_anagrams(string)`, which take a string as input and returns a list, in alphabetical order, of all words in the file `english_words.txt` that are anagrams of the input string.\n",
    "\n",
    "More specifically given an input string the function should return a list  `[word_1, ..., word_n]`, of words in alphabetical order, which contains every word in the dictionary file such that the value of the function `anagrams(string,word_i)` is `True` (as specified in __Q2(a)__ of this coursework), and contains no other words.\n",
    "\n",
    "#### Examples\n",
    "|INPUT          |\tOUPUT                  |\n",
    "|---------------|--------------------------|\n",
    "|`'cheese'`     |\t`[]`                   |\n",
    "|`'Python'`     |\t`['phyton', 'typhon']` |\n",
    "|`'relating'`\t| ```['alerting', 'altering', 'integral', 'tanglier', 'triangle']``` |\n",
    "\n",
    "Note:\n",
    "Though the instructions for this question are quite brief, they do exactly specify the requirements for this function.\n",
    "Since you should have already defined the `anagrams(s1,s2)` function for part **Q2(a)**, you should call this function in your definition of the `find_all_anagrams(string)` function. It is much better programming style to do that, rather than repeat the full code for checking anagrams within ```find_all_anagrams(string)``."
   ]
  },
  {
   "cell_type": "code",
   "execution_count": 8,
   "metadata": {},
   "outputs": [],
   "source": [
    "## Q2(b) answer code cell\n",
    "## Modify this function definition to fulfill the given requirements.\n",
    "## Expected code length: less than 5 lines.\n",
    "\n",
    "def find_all_anagrams(s):\n",
    "    # do something\n",
    "    all_anagrams = []\n",
    "    for w in ENGLISH_WORDS:\n",
    "        if anagrams(s, w):\n",
    "            all_anagrams.append(w)\n",
    "          \n",
    "    return sorted(all_anagrams)"
   ]
  },
  {
   "cell_type": "code",
   "execution_count": 9,
   "metadata": {},
   "outputs": [
    {
     "name": "stdout",
     "output_type": "stream",
     "text": [
      "\n",
      "Running tests for function: find_all_anagrams\n",
      "  * find_all_anagrams( 'cheese' )  ...\n",
      "    returned: []\n",
      "    Correct :)   (1)\n",
      "  * find_all_anagrams( 'Python' )  ...\n",
      "    returned: ['phyton', 'typhon']\n",
      "    Correct :)   (1)\n",
      "  * find_all_anagrams( 'Listen!' )  ...\n",
      "    returned: []\n",
      "    Correct :)   (1)\n",
      "  * find_all_anagrams( 'SeaBird' )  ...\n",
      "    returned: ['abiders', 'braised', 'darbies', 'sidebar']\n",
      "    Correct :)   (1)\n",
      "Total marks for this function: 4 (of 4)\n"
     ]
    }
   ],
   "source": [
    "# Run this cell to test your find_all_anagrams function\n",
    "# The A1_Python_Programming_tests program must be in the same folder as this file.\n",
    "from A1_Python_Programming_tests import do_tests\n",
    "do_tests( find_all_anagrams )"
   ]
  },
  {
   "cell_type": "markdown",
   "metadata": {},
   "source": [
    "### Q2 (c) Find palindromes of length `n` (in `english_words.txt`)\n",
    "\n",
    "Define a function `find_all_palindromes(n)` that returns, in alphabetical order, the list of all palindromes in `english_words.txt` that are `n` letters long."
   ]
  },
  {
   "cell_type": "code",
   "execution_count": 10,
   "metadata": {},
   "outputs": [],
   "source": [
    "## Q2(d) answer code cell\n",
    "## Modify this function definition to fulfill the given requirements.\n",
    "## Expected code length: less than 5 lines.\n",
    "\n",
    "def find_palindromes_of_length(n):\n",
    "    # do something\n",
    "    palindromes_n = []\n",
    "    for w in ENGLISH_WORDS:\n",
    "        if len(w) != n:\n",
    "            continue\n",
    "            \n",
    "        if len(w) == n:\n",
    "            if is_palindrome(w):\n",
    "                palindromes_n.append(w)    \n",
    "            \n",
    "    return sorted(palindromes_n)\n"
   ]
  },
  {
   "cell_type": "code",
   "execution_count": 11,
   "metadata": {},
   "outputs": [
    {
     "name": "stdout",
     "output_type": "stream",
     "text": [
      "\n",
      "Running tests for function: find_palindromes_of_length\n",
      "  * find_palindromes_of_length( 7 )  ...\n",
      "    returned: ['deified', 'halalah', 'reifier', 'repaper', 'reviver', 'rotator', 'sememes']\n",
      "    Correct :)   (1)\n",
      "  * find_palindromes_of_length( 10 )  ...\n",
      "    returned: []\n",
      "    Correct :)   (1)\n",
      "Total marks for this function: 2 (of 2)\n"
     ]
    }
   ],
   "source": [
    "# Run this cell to test your find_palindromes_of_length\n",
    "# The A1_Python_Programming_tests program must be in the same folder as this file.\n",
    "from A1_Python_Programming_tests import do_tests\n",
    "do_tests( find_palindromes_of_length )"
   ]
  },
  {
   "cell_type": "markdown",
   "metadata": {},
   "source": [
    "\n",
    "### Q2 (d) Literate Password Checker (6 marks)\n",
    "\n",
    "Computer systems are vulnerable to hacking if they can be\n",
    "accessed by passwords based on English words.\n",
    "Now that we have access to the set of English words, we can\n",
    "define a tougher password checker.\n",
    "\n",
    "An institution uses the following rules to classify the strength of passwords:\n",
    "\n",
    "* A string is an ILLEGAL password if either:\n",
    "  * it is an English word (as defined above)\n",
    "  * it contains any invisible character (space, tab, newline)\n",
    "\n",
    "\n",
    "* A string is a WEAK password if it is **not** ILLEGAL and, either:\n",
    "  * it is _less than_ 8 characters long.\n",
    "  * it is an English word followed by one or more decimal digit characters\n",
    "\n",
    "\n",
    "* A string is a STRONG password if it is **not** ILLEGAL and, either:\n",
    "  * it contains at least 12 characters\n",
    "  * AND it contains at least 1 lower case letter\n",
    "  * AND it contains at least 1 capital letter\n",
    "  * AND it contains at least 1 numerical digit\n",
    "  * AND it contains at least 1 special character (any visible ASCII\n",
    "    character that is not a letter or a number)\n",
    "\n",
    "\n",
    "* A string is a MEDIUM password if it is **not** an ILLEGAL password and\n",
    "  is **not** a WEAK password and is **not** a STRONG password.\n",
    "\n",
    "You need to code a function ```password_strength``` that will take a string argument and will return the 'strength' of that string as a password, according to the rules given above. So it should return one of the strings  \n",
    "```\"ILLEGAL\"```, \n",
    "```\"STRONG\"```, \n",
    "```\"WEAK\"``` or \n",
    "```\"MEDIUM\"```.\n",
    "\n",
    "You may assume that the input password is consists of only ASCII characters,\n",
    "that is: alphabetic letters, numerical digits, special visible charactes,\n",
    "spaces, tabs and newlines. The special visible characters are:\n",
    "<pre>\n",
    "~`!@#$%^&*(){}[]|\\/:;\";<>.?\n",
    "</pre>\n",
    "\n",
    "\n",
    "Examples:\n",
    "\n",
    "| INPUT             | OUPUT |\n",
    "| -----             | --------|\n",
    "| ```\"secret\"```           |\t```\"ILLEGAL\"``` |\n",
    "| ```\"my secret\"```           |\t```\"ILLEGAL\"``` |\n",
    "| ```\"qwertyu\"```           |\t```\"WEAK\"``` |\n",
    "| ```\"hello123\"```           |\t```\"WEAK\"``` |\n",
    "| ```\"7Kings8all9Pies!\"``` |\t```\"STRONG\"``` |\n",
    "| ```\"brandon123\"```      |\t```\"MEDIUM\"``` |\n"
   ]
  },
  {
   "cell_type": "code",
   "execution_count": 12,
   "metadata": {},
   "outputs": [],
   "source": [
    "## Edit this cell to give your answer for Q2(b)\n",
    "## should return the strength (\"ILLEGAL\", \"WEAK\", \"STRONG\" or \"MEDIUM\")\n",
    "def password_strength( password ):\n",
    "    ## Add code to compute password strength\n",
    "    \n",
    "    is_illegal = ' ' in password or '\\t' in password or '\\n' in password or is_english_word(password)\n",
    "    if is_illegal:        \n",
    "        return \"ILLEGAL\"\n",
    "    \n",
    "    special_char = '~`!@#$%^&*(){}[]|\\/:;\";<>.?'\n",
    "    prefix_word = ''\n",
    "    suffix_word = ''\n",
    "    has_lower_letter = False\n",
    "    has_capital_letter = False\n",
    "    has_digit = False\n",
    "    has_special_char = False\n",
    "    \n",
    "    index = -1\n",
    "    for i in range(len(password)):\n",
    "        if password[i].isdigit():\n",
    "            index = i\n",
    "            break\n",
    "    \n",
    "    if index == -1:\n",
    "        prefix_word = password          \n",
    "    else:\n",
    "        prefix_word = password[0:index] \n",
    "        suffix_word = password[index:]          \n",
    "    \n",
    "    \n",
    "    for s in password:           \n",
    "        if s.islower():\n",
    "            has_lower_letter = True\n",
    "            continue\n",
    "        elif s.isupper():\n",
    "            has_capital_letter = True\n",
    "            continue\n",
    "        elif s.isdigit():\n",
    "            has_digit = True\n",
    "            continue\n",
    "        elif s in special_char:\n",
    "            has_special_char = True\n",
    "            continue\n",
    "                   \n",
    "    #print(prefix_word, suffix_word) \n",
    "                   \n",
    "    if not is_illegal and (len(password) < 8 or (is_english_word(prefix_word) and suffix_word.isdigit())):\n",
    "        \n",
    "        return \"WEAK\"\n",
    "    elif not is_illegal and len(password) >= 12 and has_lower_letter and has_capital_letter and has_digit and has_special_char:\n",
    "        \n",
    "        return \"STRONG\"\n",
    "    else:\n",
    "        \n",
    "        return \"MEDIUM\"\n",
    "    \n"
   ]
  },
  {
   "cell_type": "code",
   "execution_count": 13,
   "metadata": {},
   "outputs": [
    {
     "name": "stdout",
     "output_type": "stream",
     "text": [
      "\n",
      "Running tests for function: password_strength\n",
      "  * password_strength( 'boa constrictor' )  ...\n",
      "    returned: 'ILLEGAL'\n",
      "    Correct :)   (1)\n",
      "  * password_strength( 'Secret' )  ...\n",
      "    returned: 'ILLEGAL'\n",
      "    Correct :)   (1)\n",
      "  * password_strength( 'secret99' )  ...\n",
      "    returned: 'WEAK'\n",
      "    Correct :)   (1)\n",
      "  * password_strength( 'Secret999!' )  ...\n",
      "    returned: 'MEDIUM'\n",
      "    Correct :)   (1)\n",
      "  * password_strength( '7Kings8all9Pies!' )  ...\n",
      "    returned: 'STRONG'\n",
      "    Correct :)   (1)\n",
      "Total marks for this function: 5 (of 5)\n"
     ]
    }
   ],
   "source": [
    "# Run this cell to test the password_strength function\n",
    "# The A1_Python_Programming_tests program must be in the same folder as this file.\n",
    "from A1_Python_Programming_tests import do_tests\n",
    "do_tests( password_strength )"
   ]
  },
  {
   "cell_type": "markdown",
   "metadata": {},
   "source": [
    "### Check spelling of a sentence"
   ]
  },
  {
   "cell_type": "markdown",
   "metadata": {},
   "source": [
    "## Q3. Extracting Information from CSV Files\n",
    "\n",
    "\n",
    "This task is concerned with extracting\n",
    "information from CSV files and deriving new information\n",
    "from it. \n",
    "This question consists of two sub-tasks, which extract very\n",
    "different kinds of information from the playlist:\n",
    "\n",
    "* __(a)__ Extract the total playing time of the playlist as\n",
    "  a `datetime.timedelta` object\n",
    "\n",
    "* __(b)__ Generate HTML search query links from the playlist data\n",
    "\n",
    "\n",
    "\n",
    "#### Files Provided\n",
    "A couple of example CSV files are provided, which \n",
    "represent music playlists in a simple format:\n",
    "\n",
    "* [```geek-music.csv```](https://teaching.bb-ai.net/P4DS/assignments/geek-music.csv)\n",
    "* [```snake-music.csv```](https://teaching.bb-ai.net/P4DS/assignments/snake-music.csv)\n"
   ]
  },
  {
   "cell_type": "markdown",
   "metadata": {},
   "source": [
    "\n",
    "### Provided Code for Extracting Data from CSV Files\n",
    "\n",
    "We can quite easily extract data from a CSV file in the form of a _list of lists_. I call this a _datalist_.\n",
    "The following code defines a function\n",
    "`get_datalist_from_csv`, which reads a CSV file and\n",
    "returns a datalist. In this function I am using a `csv.reader` object,\n",
    "from the `csv` module, which is imported. This makes things a bit easier\n",
    "that reading the raw text of the file (which we could also do)."
   ]
  },
  {
   "cell_type": "code",
   "execution_count": 7,
   "metadata": {},
   "outputs": [],
   "source": [
    "## Import module for handling csv files.\n",
    "import csv\n",
    "\n",
    "## You can use the following function to read data from a csv format file\n",
    "# The data is extracted from the file as a list of lists\n",
    "\n",
    "def get_datalist_from_csv( filename ):\n",
    "    ## Create a 'file object' f, for accessing the file\n",
    "    with open( filename ) as f:\n",
    "        reader = csv.reader(f)     # create a 'csv reader' from the file object\n",
    "        datalist = list( reader )  # create a list from the reader\n",
    "    return datalist"
   ]
  },
  {
   "cell_type": "markdown",
   "metadata": {},
   "source": [
    "We can test this function with the following code:"
   ]
  },
  {
   "cell_type": "code",
   "execution_count": 8,
   "metadata": {},
   "outputs": [
    {
     "name": "stdout",
     "output_type": "stream",
     "text": [
      "['Track', 'Artist', 'Album', 'Time']\n",
      "['Computer Love', 'Kraftwerk', 'Computer World', '7:15']\n",
      "['Paranoid Android', 'Radiohead', 'OK Computer', '6:27']\n",
      "['Computer Age', 'Neil Young', 'Trans', '5:24']\n",
      "['Digital', 'Joy Division', 'Still', '2:50']\n",
      "['Silver Machine', 'Hawkwind', 'Roadhawks', '4:39']\n",
      "['Start the Simulator', 'A-Ha', 'Foot of the Mountain', '5:11']\n",
      "['Internet Connection', 'M.I.A.', 'MAYA', '2:56']\n",
      "['Deep Blue', 'Arcade Fire', 'The Suburbs', '4:29']\n",
      "['I Will Derive!', 'MindofMatthew', 'You Tube', '3:17']\n",
      "['Lobachevsky', 'Tom Lehrer', 'You Tube', '3:04']\n"
     ]
    }
   ],
   "source": [
    "data = get_datalist_from_csv(\"geek-music.csv\")\n",
    "for row in data: \n",
    "    print(row)"
   ]
  },
  {
   "cell_type": "markdown",
   "metadata": {},
   "source": [
    "### Q3. (a)\n",
    "\n",
    "The task is to write a function that can determine the total playing\n",
    "time of a playlist defined in the format use for \n",
    "```geek-music.csv``` and ```snake-music.csv```.\n",
    "The total play time should be returned as\n",
    "a `datetime.timedelta` object.\n",
    "\n",
    "As seen above, the playlist data is in a fixed format.\n",
    "The first three collumns give the track name, artist and album. These are all strings.\n",
    "For this excercise, you do not need to worry about commas and quotations within the CSV file.\n",
    "I will not put these in my test file, and in any case, you are recomended to import the ```csv``` \n",
    "module, which will handle such characters automatically. \n",
    "\n",
    "The format for the playing time is usually ```m:s``` but could also be ```h:m:s``` or ```s``` (for very long\n",
    "or short tracks),  where ```h``` ```m``` and ```s``` are any appropriate 1 or 2 digit numbers representing hours, minutes and seconds, respectively.\n",
    "\n",
    "Using the `datetime` package, it is easy to create `timedelta` objects, which store\n",
    "time period measurements in a very flexible way. This is illustrated by the\n",
    "following code example:"
   ]
  },
  {
   "cell_type": "code",
   "execution_count": 9,
   "metadata": {},
   "outputs": [
    {
     "data": {
      "text/plain": [
       "True"
      ]
     },
     "execution_count": 9,
     "metadata": {},
     "output_type": "execute_result"
    }
   ],
   "source": [
    "import datetime\n",
    "\n",
    "dt1 = datetime.timedelta( hours=1, minutes=20)\n",
    "dt2 = datetime.timedelta( minutes=90)\n",
    "\n",
    "\n",
    "dt1 < dt2"
   ]
  },
  {
   "cell_type": "markdown",
   "metadata": {},
   "source": [
    "### Specification\n",
    "\n",
    "In the following cell define `total_play_time`.\n",
    "The input should be  a string _playlist_name_ which is the name of a play list.\n",
    "This function should extract data from the file <i>playlist_name</i>`.csv` from\n",
    "which it should calculate and return the total playing time of the playlist\n",
    "as a `datetime.timedelta` object.\n",
    "\n",
    "__Note:__ that input to `total_play_time` is the playlist name \n",
    "but the playlist file that should be read \n",
    "is the playlist name with the extension `.csv` added.\n",
    "\n",
    "Thus for example:\n",
    "\n",
    "|Input |playlist file name | Output|\n",
    "|-----|----|-----|\n",
    "|`geek-music` | `geek-music.csv` | `datetime.timedelta(seconds=2732)` |\n",
    "\n",
    "Notice that the `timedelta` object will be displayed in terms of its\n",
    "duration in sections, even though it may be created by specifying the\n",
    "time length in various different ways."
   ]
  },
  {
   "cell_type": "code",
   "execution_count": 18,
   "metadata": {},
   "outputs": [],
   "source": [
    "import csv, datetime\n",
    "\n",
    "def total_play_time( playlist ):\n",
    "    \n",
    "    data = get_datalist_from_csv(playlist +'.csv')   \n",
    "    tsecs = 0\n",
    "    for t in data[1:]:\n",
    "        temp_t = t[-1].split(':')\n",
    "        if len(temp_t) == 3:\n",
    "            tsecs += ( int(temp_t[0]) * 60 * 60 + int(temp_t[1]) * 60 + int(temp_t[2]) )\n",
    "            \n",
    "        elif len(temp_t) == 2:\n",
    "            tsecs += ( int(temp_t[0]) * 60 + int(temp_t[1]) )\n",
    "        \n",
    "        elif len(temp_t) == 1:\n",
    "            tsecs += ( int(temp_t[0]) )\n",
    "        else:\n",
    "            tsecs += 0\n",
    "      \n",
    "    return datetime.timedelta(seconds = tsecs)    "
   ]
  },
  {
   "cell_type": "code",
   "execution_count": 19,
   "metadata": {},
   "outputs": [
    {
     "name": "stdout",
     "output_type": "stream",
     "text": [
      "\n",
      "Running tests for function: total_play_time\n",
      "  * total_play_time( 'geek-music' )  ...\n",
      "    returned: datetime.timedelta(seconds=2732)\n",
      "    Correct :)   (2)\n",
      "  * total_play_time( 'snake-music' )  ...\n",
      "    returned: datetime.timedelta(seconds=2911)\n",
      "    Correct :)   (1)\n",
      "Total marks for this function: 3 (of 3)\n"
     ]
    }
   ],
   "source": [
    "# Run this cell to test the total_play_time function\n",
    "# The A1_Python_Programming_tests program must be in the same folder as this file.\n",
    "from A1_Python_Programming_tests import do_tests\n",
    "do_tests( total_play_time )"
   ]
  },
  {
   "cell_type": "markdown",
   "metadata": {},
   "source": [
    "### Q3. (b) Automatically Adding URL Links\n",
    "Perhaps the most distinctive feature of an HTML document is that it is connected to other documents or information sources via links.\n",
    "\n",
    "Suppose I want to create a link that, when clicked, will carry out a search for some given wors on YouTube. \n",
    "\n",
    "You tube supports access to its search engine via a special type of URL, that will perform a search and generate a results page, just as if the a normal search was being performed. But in this case the words that it searches for are in the URL, so do not need to be typed in.\n",
    "\n",
    "For instance, the URL to search YouTube for \"Computer Love\" by \"Kraftwerk\" is:\n",
    "\n",
    "```html\n",
    "https://www.youtube.com/results?search_query=Computer+Love+by+Kraftwerk\n",
    "```\n",
    "\n",
    "To answer this question, code a function ```youtube_query_link( track, artist, link_text)```, which will create an HTML link that will search for the given\n",
    "```track``` by the given ```artist``` and use ```link_text``` for the text of the link.\n",
    "\n",
    "For example:\n",
    "```\n",
    "youtube_query_link( \"Computer Love\", \"Krafterk\", \"Computer Love\" )\n",
    "\n",
    "```\n",
    "should produce the link:\n",
    "```\n",
    "<a target=\"_blank\" href=\"https://www.youtube.com/results?search_query=Computer+Love+by+Kraftwerk\">Computer Love by Kraftwerk</a>\n",
    "```\n",
    "which is the URL of the previous example within the HTML syntax for\n",
    "a hyperlink.\n",
    "\n",
    "**Note** that the link syntax must contain `target=\"_blank\"`. It makes\n",
    "the link open in a new window or tab. This enables\n",
    "it to work well in a Jupyter notebook. Without that the link may (depending\n",
    "on the particular browser and its option settings) cause the\n",
    "browser to exit the notebook, which is probably not what you want."
   ]
  },
  {
   "cell_type": "code",
   "execution_count": 53,
   "metadata": {},
   "outputs": [],
   "source": [
    "from IPython.display import display, HTML\n",
    "\n",
    "def youtube_query_links( playlist ):\n",
    "    ## Modify the following code to produce the correct youtube query link\n",
    "    ## I'm just returning some links so you can see how they work, \n",
    "    ## (as illustrated by the next code cell)\n",
    "    links = []\n",
    "    data = get_datalist_from_csv(playlist +'.csv')\n",
    "    for item in data[1:]:\n",
    "        track  = item[0]\n",
    "        artist = item[1]\n",
    "        title  = track+' by ' + artist\n",
    "        ts = title.split(' ')\n",
    "        params = ''\n",
    "        for p in ts:\n",
    "            if p != '':\n",
    "                params = params + '+' + p      \n",
    "        http_link = '<a target=\"_blank\" href=\"https://www.youtube.com/results?search_query='+params[1:]+'\">'+params[1:].replace('+',' ')+'</a>'\n",
    "        links.append(http_link)\n",
    "        \n",
    "    return links\n",
    "\n",
    "links = youtube_query_links( \"geek-music\" )"
   ]
  },
  {
   "cell_type": "markdown",
   "metadata": {},
   "source": [
    "You can use the following cell as a practical test that your `youtube_query_links` function\n",
    "produces working HTML hyperlinks. You should see that the dummy version of the\n",
    "function does produce working links. You need to create similar links from \n",
    "a playlist as described above."
   ]
  },
  {
   "cell_type": "code",
   "execution_count": 57,
   "metadata": {},
   "outputs": [
    {
     "data": {
      "text/html": [
       "<a target=\"_blank\" href=\"https://www.youtube.com/results?search_query=Computer+Love+by+Kraftwerk\">Computer Love by Kraftwerk</a>"
      ],
      "text/plain": [
       "<IPython.core.display.HTML object>"
      ]
     },
     "metadata": {},
     "output_type": "display_data"
    },
    {
     "data": {
      "text/html": [
       "<a target=\"_blank\" href=\"https://www.youtube.com/results?search_query=Paranoid+Android+by+Radiohead\">Paranoid Android by Radiohead</a>"
      ],
      "text/plain": [
       "<IPython.core.display.HTML object>"
      ]
     },
     "metadata": {},
     "output_type": "display_data"
    },
    {
     "data": {
      "text/html": [
       "<a target=\"_blank\" href=\"https://www.youtube.com/results?search_query=Computer+Age+by+Neil+Young\">Computer Age by Neil Young</a>"
      ],
      "text/plain": [
       "<IPython.core.display.HTML object>"
      ]
     },
     "metadata": {},
     "output_type": "display_data"
    },
    {
     "data": {
      "text/html": [
       "<a target=\"_blank\" href=\"https://www.youtube.com/results?search_query=Digital+by+Joy+Division\">Digital by Joy Division</a>"
      ],
      "text/plain": [
       "<IPython.core.display.HTML object>"
      ]
     },
     "metadata": {},
     "output_type": "display_data"
    },
    {
     "data": {
      "text/html": [
       "<a target=\"_blank\" href=\"https://www.youtube.com/results?search_query=Silver+Machine+by+Hawkwind\">Silver Machine by Hawkwind</a>"
      ],
      "text/plain": [
       "<IPython.core.display.HTML object>"
      ]
     },
     "metadata": {},
     "output_type": "display_data"
    },
    {
     "data": {
      "text/html": [
       "<a target=\"_blank\" href=\"https://www.youtube.com/results?search_query=Start+the+Simulator+by+A-Ha\">Start the Simulator by A-Ha</a>"
      ],
      "text/plain": [
       "<IPython.core.display.HTML object>"
      ]
     },
     "metadata": {},
     "output_type": "display_data"
    },
    {
     "data": {
      "text/html": [
       "<a target=\"_blank\" href=\"https://www.youtube.com/results?search_query=Internet+Connection+by+M.I.A.\">Internet Connection by M.I.A.</a>"
      ],
      "text/plain": [
       "<IPython.core.display.HTML object>"
      ]
     },
     "metadata": {},
     "output_type": "display_data"
    },
    {
     "data": {
      "text/html": [
       "<a target=\"_blank\" href=\"https://www.youtube.com/results?search_query=Deep+Blue+by+Arcade+Fire\">Deep Blue by Arcade Fire</a>"
      ],
      "text/plain": [
       "<IPython.core.display.HTML object>"
      ]
     },
     "metadata": {},
     "output_type": "display_data"
    },
    {
     "data": {
      "text/html": [
       "<a target=\"_blank\" href=\"https://www.youtube.com/results?search_query=I+Will+Derive!+by+MindofMatthew\">I Will Derive! by MindofMatthew</a>"
      ],
      "text/plain": [
       "<IPython.core.display.HTML object>"
      ]
     },
     "metadata": {},
     "output_type": "display_data"
    },
    {
     "data": {
      "text/html": [
       "<a target=\"_blank\" href=\"https://www.youtube.com/results?search_query=Lobachevsky+by+Tom+Lehrer\">Lobachevsky by Tom Lehrer</a>"
      ],
      "text/plain": [
       "<IPython.core.display.HTML object>"
      ]
     },
     "metadata": {},
     "output_type": "display_data"
    }
   ],
   "source": [
    "links = youtube_query_links( \"geek-music\" )\n",
    "for link in links:\n",
    "    display( HTML(link))"
   ]
  },
  {
   "cell_type": "markdown",
   "metadata": {},
   "source": [
    "The following cell does the actual test of the list of links returned by your `youtube_query_links` function:"
   ]
  },
  {
   "cell_type": "code",
   "execution_count": 58,
   "metadata": {},
   "outputs": [
    {
     "name": "stdout",
     "output_type": "stream",
     "text": [
      "\n",
      "Running tests for function: youtube_query_links\n",
      "  * youtube_query_links( 'geek-music' )  ...\n",
      "    returned: ['<a target=\"_blank\" href=\"https://www.youtube.com/results?search_query=Computer+Love+by+Kraftwerk\">Computer Love by Kraftwerk</a>', '<a target=\"_blank\" href=\"https://www.youtube.com/results?search_query=Paranoid+Android+by+Radiohead\">Paranoid Android by Radiohead</a>', '<a target=\"_blank\" href=\"https://www.youtube.com/results?search_query=Computer+Age+by+Neil+Young\">Computer Age by Neil Young</a>', '<a target=\"_blank\" href=\"https://www.youtube.com/results?search_query=Digital+by+Joy+Division\">Digital by Joy Division</a>', '<a target=\"_blank\" href=\"https://www.youtube.com/results?search_query=Silver+Machine+by+Hawkwind\">Silver Machine by Hawkwind</a>', '<a target=\"_blank\" href=\"https://www.youtube.com/results?search_query=Start+the+Simulator+by+A-Ha\">Start the Simulator by A-Ha</a>', '<a target=\"_blank\" href=\"https://www.youtube.com/results?search_query=Internet+Connection+by+M.I.A.\">Internet Connection by M.I.A.</a>', '<a target=\"_blank\" href=\"https://www.youtube.com/results?search_query=Deep+Blue+by+Arcade+Fire\">Deep Blue by Arcade Fire</a>', '<a target=\"_blank\" href=\"https://www.youtube.com/results?search_query=I+Will+Derive!+by+MindofMatthew\">I Will Derive! by MindofMatthew</a>', '<a target=\"_blank\" href=\"https://www.youtube.com/results?search_query=Lobachevsky+by+Tom+Lehrer\">Lobachevsky by Tom Lehrer</a>']\n",
      "    Correct :)   (2)\n",
      "  * youtube_query_links( 'snake-music' )  ...\n",
      "    returned: ['<a target=\"_blank\" href=\"https://www.youtube.com/results?search_query=The+Universe+Song+by+Monty+Python\">The Universe Song by Monty Python</a>', '<a target=\"_blank\" href=\"https://www.youtube.com/results?search_query=Crawling+King+Snake+by+The+Doors\">Crawling King Snake by The Doors</a>', '<a target=\"_blank\" href=\"https://www.youtube.com/results?search_query=Ain\\'t+No+Love+In+the+Heart+of+the+City+by+Whitesnake\">Ain\\'t No Love In the Heart of the City by Whitesnake</a>', '<a target=\"_blank\" href=\"https://www.youtube.com/results?search_query=The+Serpent+by+Genesis\">The Serpent by Genesis</a>', '<a target=\"_blank\" href=\"https://www.youtube.com/results?search_query=Charm+the+Snake+by+Christopher+Cross\">Charm the Snake by Christopher Cross</a>', '<a target=\"_blank\" href=\"https://www.youtube.com/results?search_query=Slither+by+Velvet+Revolver\">Slither by Velvet Revolver</a>', '<a target=\"_blank\" href=\"https://www.youtube.com/results?search_query=Where\\'s+My+Snake+by+Bow+Wow+Wow\">Where\\'s My Snake by Bow Wow Wow</a>', '<a target=\"_blank\" href=\"https://www.youtube.com/results?search_query=The+Sidewinder+Sleeps+Tonight+by+R.E.M.\">The Sidewinder Sleeps Tonight by R.E.M.</a>', '<a target=\"_blank\" href=\"https://www.youtube.com/results?search_query=Tube+Snake+Boogie+by+ZZ+Top\">Tube Snake Boogie by ZZ Top</a>', '<a target=\"_blank\" href=\"https://www.youtube.com/results?search_query=Union+of+the+Snake+by+Duran+Duran\">Union of the Snake by Duran Duran</a>', '<a target=\"_blank\" href=\"https://www.youtube.com/results?search_query=Sneaky+Snake+by+Tom+T.+Hall\">Sneaky Snake by Tom T. Hall</a>', '<a target=\"_blank\" href=\"https://www.youtube.com/results?search_query=Snakebit+by+Kris+Kristofferson\">Snakebit by Kris Kristofferson</a>', '<a target=\"_blank\" href=\"https://www.youtube.com/results?search_query=Long+Come+a+Viper+by+Dan+Hicks+&+His+Hot+Licks\">Long Come a Viper by Dan Hicks & His Hot Licks</a>']\n",
      "    Correct :)   (1)\n",
      "Total marks for this function: 3 (of 3)\n"
     ]
    }
   ],
   "source": [
    "# Run this cell to test the youtube_query_links function\n",
    "# The A1_Python_Programming_tests program must be in the same folder as this file.\n",
    "from A1_Python_Programming_tests import do_tests\n",
    "do_tests( youtube_query_links )"
   ]
  },
  {
   "cell_type": "markdown",
   "metadata": {},
   "source": [
    "# Grading\n",
    "\n",
    "The following code will run tests for all functions that count towards your grade for Coursework 1, and will calculate the final mark you will get for this piece of coursework. \n",
    "\n",
    "To get your grade simply select the \"__Run All__\" option from the Jupyter \"__Cell__\" menu above. Test results followed by your overal grade will be shown below.\n",
    "<br>\n",
    "You can do this at any point to get an indication of\n",
    "the marks you might obtain.\n",
    "\n",
    "**NOTE:** The tests provided in the file\n",
    "`A1_Python_Programming_tests.py`\n",
    "are for you to check your function definitions before final submission. They are not the same as the tests that will\n",
    "be used to compute the grade for your assignment\n",
    "submission. Hence, you may not get the same mark for\n",
    "your submission as you get from these pre-submission tests."
   ]
  },
  {
   "cell_type": "code",
   "execution_count": 59,
   "metadata": {},
   "outputs": [
    {
     "name": "stdout",
     "output_type": "stream",
     "text": [
      "\n",
      "Running tests for function: anagrams\n",
      "  * anagrams( ('listen', 'silent') )  ...\n",
      "    returned: True\n",
      "    Correct :)   (1)\n",
      "  * anagrams( ('Listen', 'Silent') )  ...\n",
      "    returned: True\n",
      "    Correct :)   (1)\n",
      "  * anagrams( ('this', 'that') )  ...\n",
      "    returned: False\n",
      "    Correct :)   (1)\n",
      "  * anagrams( ('this', 'This') )  ...\n",
      "    returned: False\n",
      "    Correct :)   (1)\n",
      "Total marks for this function: 4 (of 4)\n",
      "\n",
      "Running tests for function: is_palindrome\n",
      "  * is_palindrome( 'Abba' )  ...\n",
      "    returned: True\n",
      "    Correct :)   (1)\n",
      "  * is_palindrome( 'Python' )  ...\n",
      "    returned: False\n",
      "    Correct :)   (1)\n",
      "  * is_palindrome( 'Rotator' )  ...\n",
      "    returned: True\n",
      "    Correct :)   (1)\n",
      "  * is_palindrome( 'Was it a cat I saw?' )  ...\n",
      "    returned: True\n",
      "    Correct :)   (1)\n",
      "Total marks for this function: 4 (of 4)\n",
      "\n",
      "Running tests for function: is_english_word\n",
      "  * is_english_word( 'this' )  ...\n",
      "this This THIS\n",
      "    returned: True\n",
      "    Correct :)   (1)\n",
      "  * is_english_word( 'Python' )  ...\n",
      "python Python PYTHON\n",
      "    returned: True\n",
      "    Correct :)   (1)\n",
      "  * is_english_word( 'HelP' )  ...\n",
      "help Help HELP\n",
      "    returned: False\n",
      "    Correct :)   (1)\n",
      "  * is_english_word( 'Flibbertigibbet' )  ...\n",
      "flibbertigibbet Flibbertigibbet FLIBBERTIGIBBET\n",
      "    returned: True\n",
      "    Correct :)   (1)\n",
      "  * is_english_word( 'Brexit' )  ...\n",
      "brexit Brexit BREXIT\n",
      "    returned: False\n",
      "    Correct :)   (1)\n",
      "Total marks for this function: 5 (of 5)\n",
      "\n",
      "Running tests for function: find_all_anagrams\n",
      "  * find_all_anagrams( 'cheese' )  ...\n",
      "    returned: []\n",
      "    Correct :)   (1)\n",
      "  * find_all_anagrams( 'Python' )  ...\n",
      "    returned: ['phyton', 'typhon']\n",
      "    Correct :)   (1)\n",
      "  * find_all_anagrams( 'Listen!' )  ...\n",
      "    returned: []\n",
      "    Correct :)   (1)\n",
      "  * find_all_anagrams( 'SeaBird' )  ...\n",
      "    returned: ['abiders', 'braised', 'darbies', 'sidebar']\n",
      "    Correct :)   (1)\n",
      "Total marks for this function: 4 (of 4)\n",
      "\n",
      "Running tests for function: find_palindromes_of_length\n",
      "  * find_palindromes_of_length( 7 )  ...\n",
      "    returned: ['deified', 'halalah', 'reifier', 'repaper', 'reviver', 'rotator', 'sememes']\n",
      "    Correct :)   (1)\n",
      "  * find_palindromes_of_length( 10 )  ...\n",
      "    returned: []\n",
      "    Correct :)   (1)\n",
      "Total marks for this function: 2 (of 2)\n",
      "\n",
      "Running tests for function: password_strength\n",
      "  * password_strength( 'boa constrictor' )  ...\n",
      "    returned: 'ILLEGAL'\n",
      "    Correct :)   (1)\n",
      "  * password_strength( 'Secret' )  ...\n",
      "secret Secret SECRET\n",
      "    returned: 'ILLEGAL'\n",
      "    Correct :)   (1)\n",
      "  * password_strength( 'secret99' )  ...\n",
      "secret99 Secret99 SECRET99\n",
      "secret Secret SECRET\n",
      "    returned: 'WEAK'\n",
      "    Correct :)   (1)\n",
      "  * password_strength( 'Secret999!' )  ...\n",
      "secret999! Secret999! SECRET999!\n",
      "secret Secret SECRET\n",
      "    returned: 'MEDIUM'\n",
      "    Correct :)   (1)\n",
      "  * password_strength( '7Kings8all9Pies!' )  ...\n",
      "7kings8all9pies! 7Kings8All9Pies! 7KINGS8ALL9PIES!\n",
      "  \n",
      "    returned: 'STRONG'\n",
      "    Correct :)   (1)\n",
      "Total marks for this function: 5 (of 5)\n",
      "\n",
      "Running tests for function: total_play_time\n",
      "  * total_play_time( 'geek-music' )  ...\n",
      "    returned: datetime.timedelta(seconds=2732)\n",
      "    Correct :)   (2)\n",
      "  * total_play_time( 'snake-music' )  ...\n",
      "    returned: datetime.timedelta(seconds=2911)\n",
      "    Correct :)   (1)\n",
      "Total marks for this function: 3 (of 3)\n",
      "\n",
      "Running tests for function: youtube_query_links\n",
      "  * youtube_query_links( 'geek-music' )  ...\n",
      "    returned: ['<a target=\"_blank\" href=\"https://www.youtube.com/results?search_query=Computer+Love+by+Kraftwerk\">Computer Love by Kraftwerk</a>', '<a target=\"_blank\" href=\"https://www.youtube.com/results?search_query=Paranoid+Android+by+Radiohead\">Paranoid Android by Radiohead</a>', '<a target=\"_blank\" href=\"https://www.youtube.com/results?search_query=Computer+Age+by+Neil+Young\">Computer Age by Neil Young</a>', '<a target=\"_blank\" href=\"https://www.youtube.com/results?search_query=Digital+by+Joy+Division\">Digital by Joy Division</a>', '<a target=\"_blank\" href=\"https://www.youtube.com/results?search_query=Silver+Machine+by+Hawkwind\">Silver Machine by Hawkwind</a>', '<a target=\"_blank\" href=\"https://www.youtube.com/results?search_query=Start+the+Simulator+by+A-Ha\">Start the Simulator by A-Ha</a>', '<a target=\"_blank\" href=\"https://www.youtube.com/results?search_query=Internet+Connection+by+M.I.A.\">Internet Connection by M.I.A.</a>', '<a target=\"_blank\" href=\"https://www.youtube.com/results?search_query=Deep+Blue+by+Arcade+Fire\">Deep Blue by Arcade Fire</a>', '<a target=\"_blank\" href=\"https://www.youtube.com/results?search_query=I+Will+Derive!+by+MindofMatthew\">I Will Derive! by MindofMatthew</a>', '<a target=\"_blank\" href=\"https://www.youtube.com/results?search_query=Lobachevsky+by+Tom+Lehrer\">Lobachevsky by Tom Lehrer</a>']\n",
      "    Correct :)   (2)\n",
      "  * youtube_query_links( 'snake-music' )  ...\n",
      "    returned: ['<a target=\"_blank\" href=\"https://www.youtube.com/results?search_query=The+Universe+Song+by+Monty+Python\">The Universe Song by Monty Python</a>', '<a target=\"_blank\" href=\"https://www.youtube.com/results?search_query=Crawling+King+Snake+by+The+Doors\">Crawling King Snake by The Doors</a>', '<a target=\"_blank\" href=\"https://www.youtube.com/results?search_query=Ain\\'t+No+Love+In+the+Heart+of+the+City+by+Whitesnake\">Ain\\'t No Love In the Heart of the City by Whitesnake</a>', '<a target=\"_blank\" href=\"https://www.youtube.com/results?search_query=The+Serpent+by+Genesis\">The Serpent by Genesis</a>', '<a target=\"_blank\" href=\"https://www.youtube.com/results?search_query=Charm+the+Snake+by+Christopher+Cross\">Charm the Snake by Christopher Cross</a>', '<a target=\"_blank\" href=\"https://www.youtube.com/results?search_query=Slither+by+Velvet+Revolver\">Slither by Velvet Revolver</a>', '<a target=\"_blank\" href=\"https://www.youtube.com/results?search_query=Where\\'s+My+Snake+by+Bow+Wow+Wow\">Where\\'s My Snake by Bow Wow Wow</a>', '<a target=\"_blank\" href=\"https://www.youtube.com/results?search_query=The+Sidewinder+Sleeps+Tonight+by+R.E.M.\">The Sidewinder Sleeps Tonight by R.E.M.</a>', '<a target=\"_blank\" href=\"https://www.youtube.com/results?search_query=Tube+Snake+Boogie+by+ZZ+Top\">Tube Snake Boogie by ZZ Top</a>', '<a target=\"_blank\" href=\"https://www.youtube.com/results?search_query=Union+of+the+Snake+by+Duran+Duran\">Union of the Snake by Duran Duran</a>', '<a target=\"_blank\" href=\"https://www.youtube.com/results?search_query=Sneaky+Snake+by+Tom+T.+Hall\">Sneaky Snake by Tom T. Hall</a>', '<a target=\"_blank\" href=\"https://www.youtube.com/results?search_query=Snakebit+by+Kris+Kristofferson\">Snakebit by Kris Kristofferson</a>', '<a target=\"_blank\" href=\"https://www.youtube.com/results?search_query=Long+Come+a+Viper+by+Dan+Hicks+&+His+Hot+Licks\">Long Come a Viper by Dan Hicks & His Hot Licks</a>']\n",
      "    Correct :)   (1)\n",
      "Total marks for this function: 3 (of 3)\n",
      "\n",
      "FINAL TOTAL = 30  (of 30)\n",
      "\n",
      "Tests version: 15th October, 2020 (3rd edit)\n",
      "\n",
      "NOTE: This test set is for pre-testing of your code.\n",
      "The tests used for final grading will be different.\n",
      "Thus, your final grade may also be different from\n",
      "the grade given here.\n"
     ]
    }
   ],
   "source": [
    "from A1_Python_Programming_tests import do_all_tests\n",
    "functions = [ anagrams,\n",
    "              is_palindrome,\n",
    "              is_english_word,\n",
    "              find_all_anagrams,\n",
    "              find_palindromes_of_length,\n",
    "              password_strength,\n",
    "              total_play_time,\n",
    "              youtube_query_links,\n",
    "            ]\n",
    "\n",
    "do_all_tests( functions )"
   ]
  },
  {
   "cell_type": "markdown",
   "metadata": {},
   "source": [
    "# Submission\n",
    "\n",
    "* Coursework should be submitted via Gradescope.\n",
    "* An announcement will be made via Minerva and Email, to let you know when the assessement upload is available.\n",
    "* You should submit your edited version of this file \n",
    "  `A1_Python_Programming.ipynb`.\n",
    "* The deadline for submission will be posted on the Assessment page of the module's Minerva site."
   ]
  }
 ],
 "metadata": {
  "kernelspec": {
   "display_name": "Python 3",
   "language": "python",
   "name": "python3"
  },
  "language_info": {
   "codemirror_mode": {
    "name": "ipython",
    "version": 3
   },
   "file_extension": ".py",
   "mimetype": "text/x-python",
   "name": "python",
   "nbconvert_exporter": "python",
   "pygments_lexer": "ipython3",
   "version": "3.7.9"
  }
 },
 "nbformat": 4,
 "nbformat_minor": 4
}
