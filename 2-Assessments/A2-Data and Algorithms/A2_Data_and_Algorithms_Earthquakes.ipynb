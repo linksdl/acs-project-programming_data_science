{
 "cells": [
  {
   "cell_type": "markdown",
   "metadata": {},
   "source": [
    "\n",
    "## P4DS: Assignment 2 (Autumn 2020)\n",
    "\n",
    "# Data and Algorithms\n",
    "\n",
    "### Outline\n",
    "\n",
    "* Question 1: World cities\n",
    "* Question 2: Earthquakes\n",
    "* Question 3: Spell checker (in separate file)\n"
   ]
  },
  {
   "cell_type": "markdown",
   "metadata": {},
   "source": [
    "## Question 1: World Cities\n",
    "\n",
    "In this coursework exercise, you will download data from the provided link and read it in as a `CSV` file using the Pandas data analysis package for Python.\n",
    "\n",
    "The data we will use contains a variety of information about cities from around the world.\n",
    "\n",
    "**Questions Overview**\n",
    "\n",
    "* __Question 1a__ --- Read a `CSV` file into a `pandas` `DataFrame`. __[1 Mark]__\n",
    "\n",
    "* __Question 1b__ --- Generate a list of the largest cities (by population) in the world. __[2 Marks]__\n",
    "\n",
    "* __Question 1c__ --- Find all the cities of a given country. __[2 Marks]__\n",
    "\n",
    "* __Question 1d__ --- Create a DataFrame that contains\n",
    "    the largest cities in a given country. __[3 Marks]__\n",
    "\n",
    "* __Question 1e__ --- Find the total population of people living in cities in a given country. __[4 Marks]__"
   ]
  },
  {
   "cell_type": "markdown",
   "metadata": {},
   "source": [
    "Pandas provides many useful functions for accessing and manipulating information.\n",
    "For this question you are recommended to use the following:\n",
    "\n",
    "* ```pandas.read_csv(source)``` ---\n",
    "The  [read_csv function](https://pandas.pydata.org/pandas-docs/stable/generated/pandas.read_csv.html#pandas.read_csv) can accept a filename or URL as an argument.\n",
    "\n",
    "* ```df.head()``` ---\n",
    "  For a DataFrame object, ```df```, this method extracts the first 5 rows of data, so you can easily check what the data looks like.\n",
    "  \n",
    "* ```df.describe()``` --- for a DataFrame, ```df```, this method provides a table giving and overview of some basic statistical properties of the DataFrame.\n",
    "\n",
    "Note that the ```head()``` and ```describe()``` methods are actually operations that \n",
    "return a new DataFrame object. If this value is returned by the last line of a cell\n",
    "it will be displayed as a table, but if it is generated elsewhere in the code\n",
    "you will not see any output unless you use the ```display``` function from the\n",
    "```IPython.display``` module.\n",
    "\n",
    "### Question 1a\n",
    "Store the ```worldcities.csv``` file in a Pandas DataFrame. This `CSV` file can be downloaded from the \n",
    "module's [data repository](https://teaching.bb-ai.net/P4DS/data/index.html).\n",
    "\n",
    "More, specifically, you need to modify the following cell in order to set the \n",
    "global variable ```WC_DF``` to a DataFrame containing the information from ```worldcities.csv```. \n",
    "Be sure to keep to the same variable name `WC_DF` for this, otherwise you will \n",
    "break the autograder. **[1 Mark]** "
   ]
  },
  {
   "cell_type": "code",
   "execution_count": null,
   "metadata": {},
   "outputs": [],
   "source": [
    "# Complete Question 1a in this cell.\n",
    "import pandas  ## This is the module for creating and manipulating DataFrames\n",
    "\n",
    "WC_DF = None # Modify this line to import the data using Pandas"
   ]
  },
  {
   "cell_type": "markdown",
   "metadata": {},
   "source": [
    "### Examples of  Working with `DataFrame`s\n",
    "\n",
    "To complete these tasks you will need to access and filter a `DataFrame`. \n",
    "The `DataFrame` data structure has many convenient features for extracting and ordering information. Although conceptually it can be thought of as comptuational\n",
    "represention of a table, it is quite a complex data structure and takes a while\n",
    "to master. The following questions can be done with only a small but powerful\n",
    "set of `DataFrame` operations; and the following examples should be useful \n",
    "for coding your answers.\n",
    "\n",
    "#### Accessing DataFrame columns and rows\n",
    "\n",
    "Each column of a `DataFrame` is a list-like object called a\n",
    "`Series`. Elements, and slices of a `Series` can then be accessed in similar\n",
    "fashion to a list. The following illustrates how get the `Series` containing\n",
    "the first 5 elements of the `city` column of `WC_DF`:"
   ]
  },
  {
   "cell_type": "code",
   "execution_count": 2,
   "metadata": {},
   "outputs": [
    {
     "data": {
      "text/plain": [
       "0          Tokyo\n",
       "1       New York\n",
       "2    Mexico City\n",
       "3         Mumbai\n",
       "4      São Paulo\n",
       "Name: city, dtype: object"
      ]
     },
     "execution_count": 2,
     "metadata": {},
     "output_type": "execute_result"
    }
   ],
   "source": [
    "top_5_cities = WC_DF[\"city\"][:5]   ## selects the first 5 items of the \"city\" column.\n",
    "top_5_cities"
   ]
  },
  {
   "cell_type": "markdown",
   "metadata": {},
   "source": [
    "In the above output, the left hand column of the displayed value of `top_5_cities` \n",
    "shows the index label of each element. One of the differences between a `Series` and an ordinary list is that, whereas a list always has integers for its index labels, a `Series` can have different kinds of values for these. For instance (though there\n",
    "is no reason to do this for the current assignment) we could set the index values to alphabetic letters, as follows:"
   ]
  },
  {
   "cell_type": "code",
   "execution_count": 3,
   "metadata": {},
   "outputs": [
    {
     "data": {
      "text/plain": [
       "a          Tokyo\n",
       "b       New York\n",
       "c    Mexico City\n",
       "d         Mumbai\n",
       "e      São Paulo\n",
       "Name: city, dtype: object"
      ]
     },
     "execution_count": 3,
     "metadata": {},
     "output_type": "execute_result"
    }
   ],
   "source": [
    "top_5_cities.index = list(\"abcde\")\n",
    "top_5_cities"
   ]
  },
  {
   "cell_type": "code",
   "execution_count": 4,
   "metadata": {},
   "outputs": [
    {
     "data": {
      "text/plain": [
       "Index(['a', 'b', 'c', 'd', 'e'], dtype='object')"
      ]
     },
     "execution_count": 4,
     "metadata": {},
     "output_type": "execute_result"
    }
   ],
   "source": [
    "top_5_cities.index"
   ]
  },
  {
   "cell_type": "markdown",
   "metadata": {},
   "source": [
    "You can also use ```.values``` to return an `array` of the column values without\n",
    "the index:"
   ]
  },
  {
   "cell_type": "code",
   "execution_count": 5,
   "metadata": {},
   "outputs": [
    {
     "data": {
      "text/plain": [
       "array(['Tokyo', 'New York', 'Mexico City', 'Mumbai', 'São Paulo'],\n",
       "      dtype=object)"
      ]
     },
     "execution_count": 5,
     "metadata": {},
     "output_type": "execute_result"
    }
   ],
   "source": [
    "WC_DF[\"city\"][:5].values"
   ]
  },
  {
   "cell_type": "markdown",
   "metadata": {},
   "source": [
    "An `array` is also a list-like datastructure. It does not have an index. The main difference between a list and an `array` is that the list is optimised for\n",
    "storing large amounts of information and for efficiently applying numerical and\n",
    "other operations to all elements of the array. Hence, `array`s are usually preferred\n",
    "to lists when handling large amounts of information, or when storing numerical\n",
    "vectors."
   ]
  },
  {
   "cell_type": "markdown",
   "metadata": {},
   "source": [
    "You can also easily find the column names of the DataFrame using ```.columns```, for example:"
   ]
  },
  {
   "cell_type": "code",
   "execution_count": 6,
   "metadata": {},
   "outputs": [
    {
     "data": {
      "text/plain": [
       "Index(['city', 'city_ascii', 'lat', 'lng', 'country', 'iso2', 'iso3',\n",
       "       'admin_name', 'capital', 'population', 'id'],\n",
       "      dtype='object')"
      ]
     },
     "execution_count": 6,
     "metadata": {},
     "output_type": "execute_result"
    }
   ],
   "source": [
    "WC_DF.columns"
   ]
  },
  {
   "cell_type": "markdown",
   "metadata": {},
   "source": [
    "__Note:__ The `Index` returned here is yet another type of list-like, object. It is similar to an array,\n",
    "except that it is used for indexing a `Series` or `DataFrame`. You do not usually\n",
    "need to create or deal with `Index` objects directly, since this is done automatically when you create and minipulate `DataFrame`s. So you will normally only see one, when\n",
    "you want to look at the columns or rows of a `DataFrame`. But what you should be\n",
    "aware of, when dealing with `DataFrames`, is that the word _index_ can refer to\n",
    "several different types of thing.\n",
    "\n",
    "In many cases you can treat `Series`, `array` and `Index` objects like lists and if you want to change them to an ordinary list you can just use the `list` operator,\n",
    "as in the following:"
   ]
  },
  {
   "cell_type": "code",
   "execution_count": 7,
   "metadata": {},
   "outputs": [
    {
     "data": {
      "text/plain": [
       "['city',\n",
       " 'city_ascii',\n",
       " 'lat',\n",
       " 'lng',\n",
       " 'country',\n",
       " 'iso2',\n",
       " 'iso3',\n",
       " 'admin_name',\n",
       " 'capital',\n",
       " 'population',\n",
       " 'id']"
      ]
     },
     "execution_count": 7,
     "metadata": {},
     "output_type": "execute_result"
    }
   ],
   "source": [
    "list(WC_DF.columns)"
   ]
  },
  {
   "cell_type": "markdown",
   "metadata": {},
   "source": [
    "We can refer to rows of a `DataFrame` either by the expression `DF.loc[label]`, where `label` is the index label of the row we want, or by `DF.iloc[n]`,\n",
    "where `n` is an `int` giving the position of the row in the `DataFrame`.\n",
    "In the case of `WC_DF`, the labels are integers, so we would get the same result using either. You could test this. You could also see the difference if you try finding a row of `top_5_cities` `DataFrame` defined above, after its index labels have been replaced by letters. In this case you could access rows either using letters, using `loc`, or by `int`s, using `iloc`."
   ]
  },
  {
   "cell_type": "code",
   "execution_count": 8,
   "metadata": {},
   "outputs": [
    {
     "data": {
      "text/plain": [
       "city               New York\n",
       "city_ascii         New York\n",
       "lat                 40.6943\n",
       "lng                -73.9249\n",
       "country       United States\n",
       "iso2                     US\n",
       "iso3                    USA\n",
       "admin_name         New York\n",
       "capital                 NaN\n",
       "population      1.93549e+07\n",
       "id               1840034016\n",
       "Name: 1, dtype: object"
      ]
     },
     "execution_count": 8,
     "metadata": {},
     "output_type": "execute_result"
    }
   ],
   "source": [
    "WC_DF.iloc[1]"
   ]
  },
  {
   "cell_type": "markdown",
   "metadata": {},
   "source": [
    "### Iterrating through the rows of a DataFrame\n",
    "A convenient way of going through the rows of a `DataFrame` to perform some operation i by using the `iterrows` method in a `for` loop. This enables you to get both the index label and the row itself, for each successive row of the `DataFrame`. The following code is a simple example:"
   ]
  },
  {
   "cell_type": "code",
   "execution_count": 9,
   "metadata": {},
   "outputs": [
    {
     "name": "stdout",
     "output_type": "stream",
     "text": [
      "0 Tokyo 35.685 139.7514\n",
      "1 New York 40.6943 -73.9249\n",
      "2 Mexico City 19.4424 -99.131\n",
      "3 Mumbai 19.017 72.857\n",
      "4 Sao Paulo -23.5587 -46.625\n"
     ]
    }
   ],
   "source": [
    "for i, row in WC_DF.iterrows():\n",
    "    print(i, row['city_ascii'], row['lat'], row['lng'])\n",
    "    if i >3: break"
   ]
  },
  {
   "cell_type": "markdown",
   "metadata": {},
   "source": [
    "### Sorting the rows of a DataFrame\n",
    "\n",
    "It is easy, and often very useful, to sort the DataFrame by column values using ```.sort_values```, for example:"
   ]
  },
  {
   "cell_type": "code",
   "execution_count": 10,
   "metadata": {},
   "outputs": [
    {
     "data": {
      "text/html": [
       "<div>\n",
       "<style scoped>\n",
       "    .dataframe tbody tr th:only-of-type {\n",
       "        vertical-align: middle;\n",
       "    }\n",
       "\n",
       "    .dataframe tbody tr th {\n",
       "        vertical-align: top;\n",
       "    }\n",
       "\n",
       "    .dataframe thead th {\n",
       "        text-align: right;\n",
       "    }\n",
       "</style>\n",
       "<table border=\"1\" class=\"dataframe\">\n",
       "  <thead>\n",
       "    <tr style=\"text-align: right;\">\n",
       "      <th></th>\n",
       "      <th>city</th>\n",
       "      <th>city_ascii</th>\n",
       "      <th>lat</th>\n",
       "      <th>lng</th>\n",
       "      <th>country</th>\n",
       "      <th>iso2</th>\n",
       "      <th>iso3</th>\n",
       "      <th>admin_name</th>\n",
       "      <th>capital</th>\n",
       "      <th>population</th>\n",
       "      <th>id</th>\n",
       "    </tr>\n",
       "  </thead>\n",
       "  <tbody>\n",
       "    <tr>\n",
       "      <th>10235</th>\n",
       "      <td>Karukh</td>\n",
       "      <td>Karukh</td>\n",
       "      <td>34.4868</td>\n",
       "      <td>62.5918</td>\n",
       "      <td>Afghanistan</td>\n",
       "      <td>AF</td>\n",
       "      <td>AFG</td>\n",
       "      <td>Herāt</td>\n",
       "      <td>minor</td>\n",
       "      <td>17484.0</td>\n",
       "      <td>1004546127</td>\n",
       "    </tr>\n",
       "    <tr>\n",
       "      <th>8527</th>\n",
       "      <td>Kōṯah-ye ‘As̲h̲rō</td>\n",
       "      <td>Kotah-ye `Ashro</td>\n",
       "      <td>34.4500</td>\n",
       "      <td>68.8000</td>\n",
       "      <td>Afghanistan</td>\n",
       "      <td>AF</td>\n",
       "      <td>AFG</td>\n",
       "      <td>Wardak</td>\n",
       "      <td>NaN</td>\n",
       "      <td>35008.0</td>\n",
       "      <td>1004450357</td>\n",
       "    </tr>\n",
       "    <tr>\n",
       "      <th>3341</th>\n",
       "      <td>Shibirghān</td>\n",
       "      <td>Shibirghan</td>\n",
       "      <td>36.6580</td>\n",
       "      <td>65.7383</td>\n",
       "      <td>Afghanistan</td>\n",
       "      <td>AF</td>\n",
       "      <td>AFG</td>\n",
       "      <td>Jowzjān</td>\n",
       "      <td>admin</td>\n",
       "      <td>93241.0</td>\n",
       "      <td>1004805783</td>\n",
       "    </tr>\n",
       "    <tr>\n",
       "      <th>6050</th>\n",
       "      <td>Khōst</td>\n",
       "      <td>Khost</td>\n",
       "      <td>33.3395</td>\n",
       "      <td>69.9204</td>\n",
       "      <td>Afghanistan</td>\n",
       "      <td>AF</td>\n",
       "      <td>AFG</td>\n",
       "      <td>Khōst</td>\n",
       "      <td>admin</td>\n",
       "      <td>NaN</td>\n",
       "      <td>1004919977</td>\n",
       "    </tr>\n",
       "    <tr>\n",
       "      <th>5141</th>\n",
       "      <td>Maḩmūd-e Rāqī</td>\n",
       "      <td>Mahmud-e Raqi</td>\n",
       "      <td>35.0167</td>\n",
       "      <td>69.3333</td>\n",
       "      <td>Afghanistan</td>\n",
       "      <td>AF</td>\n",
       "      <td>AFG</td>\n",
       "      <td>Kāpīsā</td>\n",
       "      <td>admin</td>\n",
       "      <td>7407.0</td>\n",
       "      <td>1004151943</td>\n",
       "    </tr>\n",
       "    <tr>\n",
       "      <th>2088</th>\n",
       "      <td>Lashkar Gāh</td>\n",
       "      <td>Lashkar Gah</td>\n",
       "      <td>31.5830</td>\n",
       "      <td>64.3600</td>\n",
       "      <td>Afghanistan</td>\n",
       "      <td>AF</td>\n",
       "      <td>AFG</td>\n",
       "      <td>Helmand</td>\n",
       "      <td>admin</td>\n",
       "      <td>201546.0</td>\n",
       "      <td>1004765445</td>\n",
       "    </tr>\n",
       "    <tr>\n",
       "      <th>3210</th>\n",
       "      <td>Gardēz</td>\n",
       "      <td>Gardez</td>\n",
       "      <td>33.6001</td>\n",
       "      <td>69.2146</td>\n",
       "      <td>Afghanistan</td>\n",
       "      <td>AF</td>\n",
       "      <td>AFG</td>\n",
       "      <td>Paktiyā</td>\n",
       "      <td>admin</td>\n",
       "      <td>103601.0</td>\n",
       "      <td>1004468894</td>\n",
       "    </tr>\n",
       "    <tr>\n",
       "      <th>6249</th>\n",
       "      <td>Maīdān Shahr</td>\n",
       "      <td>Maidan Shahr</td>\n",
       "      <td>34.3956</td>\n",
       "      <td>68.8662</td>\n",
       "      <td>Afghanistan</td>\n",
       "      <td>AF</td>\n",
       "      <td>AFG</td>\n",
       "      <td>Wardak</td>\n",
       "      <td>admin</td>\n",
       "      <td>NaN</td>\n",
       "      <td>1004798735</td>\n",
       "    </tr>\n",
       "    <tr>\n",
       "      <th>2105</th>\n",
       "      <td>Maīmanah</td>\n",
       "      <td>Maimanah</td>\n",
       "      <td>35.9302</td>\n",
       "      <td>64.7701</td>\n",
       "      <td>Afghanistan</td>\n",
       "      <td>AF</td>\n",
       "      <td>AFG</td>\n",
       "      <td>Fāryāb</td>\n",
       "      <td>admin</td>\n",
       "      <td>199795.0</td>\n",
       "      <td>1004622920</td>\n",
       "    </tr>\n",
       "    <tr>\n",
       "      <th>7399</th>\n",
       "      <td>Andkhōy</td>\n",
       "      <td>Andkhoy</td>\n",
       "      <td>36.9317</td>\n",
       "      <td>65.1015</td>\n",
       "      <td>Afghanistan</td>\n",
       "      <td>AF</td>\n",
       "      <td>AFG</td>\n",
       "      <td>Fāryāb</td>\n",
       "      <td>minor</td>\n",
       "      <td>71730.0</td>\n",
       "      <td>1004472345</td>\n",
       "    </tr>\n",
       "  </tbody>\n",
       "</table>\n",
       "</div>"
      ],
      "text/plain": [
       "                    city       city_ascii      lat      lng      country iso2  \\\n",
       "10235             Karukh           Karukh  34.4868  62.5918  Afghanistan   AF   \n",
       "8527   Kōṯah-ye ‘As̲h̲rō  Kotah-ye `Ashro  34.4500  68.8000  Afghanistan   AF   \n",
       "3341          Shibirghān       Shibirghan  36.6580  65.7383  Afghanistan   AF   \n",
       "6050               Khōst            Khost  33.3395  69.9204  Afghanistan   AF   \n",
       "5141       Maḩmūd-e Rāqī    Mahmud-e Raqi  35.0167  69.3333  Afghanistan   AF   \n",
       "2088         Lashkar Gāh      Lashkar Gah  31.5830  64.3600  Afghanistan   AF   \n",
       "3210              Gardēz           Gardez  33.6001  69.2146  Afghanistan   AF   \n",
       "6249        Maīdān Shahr     Maidan Shahr  34.3956  68.8662  Afghanistan   AF   \n",
       "2105            Maīmanah         Maimanah  35.9302  64.7701  Afghanistan   AF   \n",
       "7399             Andkhōy          Andkhoy  36.9317  65.1015  Afghanistan   AF   \n",
       "\n",
       "      iso3 admin_name capital  population          id  \n",
       "10235  AFG      Herāt   minor     17484.0  1004546127  \n",
       "8527   AFG     Wardak     NaN     35008.0  1004450357  \n",
       "3341   AFG    Jowzjān   admin     93241.0  1004805783  \n",
       "6050   AFG      Khōst   admin         NaN  1004919977  \n",
       "5141   AFG     Kāpīsā   admin      7407.0  1004151943  \n",
       "2088   AFG    Helmand   admin    201546.0  1004765445  \n",
       "3210   AFG    Paktiyā   admin    103601.0  1004468894  \n",
       "6249   AFG     Wardak   admin         NaN  1004798735  \n",
       "2105   AFG     Fāryāb   admin    199795.0  1004622920  \n",
       "7399   AFG     Fāryāb   minor     71730.0  1004472345  "
      ]
     },
     "execution_count": 10,
     "metadata": {},
     "output_type": "execute_result"
    }
   ],
   "source": [
    "WC_DF.sort_values(by=[\"country\"], ascending=True)[:10] # Sorts countries by alphabet"
   ]
  },
  {
   "cell_type": "markdown",
   "metadata": {},
   "source": [
    "#### Note on __encodings__ of the city name\n",
    "there are two columns that hold the city name. The first column name is `'city'` and\n",
    "the second is `city_ascii`. There are various different ways in which textual\n",
    "information can be encoded into bytes. These days [Unicode characters](https://home.unicode.org/)\n",
    "encoded using [UTF-8](https://en.wikipedia.org/wiki/UTF-8) are pretty standard.\n",
    "But the older [ASCII](https://en.wikipedia.org/wiki/ASCII) code, which uses\n",
    "a single byte per character is still commonly used. Unicode provides a huge\n",
    "variaty of text characters and other symbols, whereas ASCII is quite \n",
    "limited (mainly to characters and symbols found in standard English). \n",
    "But ASCII and is simpler and in \n",
    "some ways easier to deal with than UTF-8. In the following questions you\n",
    "will be asked to use the ASCII version of the city name (from the `city_ascii` column). This mainly just to make you aware that there are different encodings\n",
    "of text strings, but it will also prevent cerain problems that could occur in the\n",
    "Autograder, if different people used different encodings."
   ]
  },
  {
   "cell_type": "markdown",
   "metadata": {},
   "source": [
    "### Filtering DataFrames\n",
    "By _filtering_ we mean keeping some parts that we want and throwing away others.\n",
    "Typically, we look for rows that match some condition; and the filter condition\n",
    "is often some constraint involving the values for that row in one or more\n",
    "columns.\n",
    "`pandas` `DataFrame`s can  be filtered according values of a column by using a boolean expression, for example:"
   ]
  },
  {
   "cell_type": "code",
   "execution_count": 11,
   "metadata": {
    "scrolled": true
   },
   "outputs": [
    {
     "data": {
      "text/html": [
       "<div>\n",
       "<style scoped>\n",
       "    .dataframe tbody tr th:only-of-type {\n",
       "        vertical-align: middle;\n",
       "    }\n",
       "\n",
       "    .dataframe tbody tr th {\n",
       "        vertical-align: top;\n",
       "    }\n",
       "\n",
       "    .dataframe thead th {\n",
       "        text-align: right;\n",
       "    }\n",
       "</style>\n",
       "<table border=\"1\" class=\"dataframe\">\n",
       "  <thead>\n",
       "    <tr style=\"text-align: right;\">\n",
       "      <th></th>\n",
       "      <th>city</th>\n",
       "      <th>city_ascii</th>\n",
       "      <th>lat</th>\n",
       "      <th>lng</th>\n",
       "      <th>country</th>\n",
       "      <th>iso2</th>\n",
       "      <th>iso3</th>\n",
       "      <th>admin_name</th>\n",
       "      <th>capital</th>\n",
       "      <th>population</th>\n",
       "      <th>id</th>\n",
       "    </tr>\n",
       "  </thead>\n",
       "  <tbody>\n",
       "    <tr>\n",
       "      <th>3</th>\n",
       "      <td>Mumbai</td>\n",
       "      <td>Mumbai</td>\n",
       "      <td>19.0170</td>\n",
       "      <td>72.8570</td>\n",
       "      <td>India</td>\n",
       "      <td>IN</td>\n",
       "      <td>IND</td>\n",
       "      <td>Mahārāshtra</td>\n",
       "      <td>admin</td>\n",
       "      <td>18978000.0</td>\n",
       "      <td>1356226629</td>\n",
       "    </tr>\n",
       "    <tr>\n",
       "      <th>4</th>\n",
       "      <td>São Paulo</td>\n",
       "      <td>Sao Paulo</td>\n",
       "      <td>-23.5587</td>\n",
       "      <td>-46.6250</td>\n",
       "      <td>Brazil</td>\n",
       "      <td>BR</td>\n",
       "      <td>BRA</td>\n",
       "      <td>São Paulo</td>\n",
       "      <td>admin</td>\n",
       "      <td>18845000.0</td>\n",
       "      <td>1076532519</td>\n",
       "    </tr>\n",
       "    <tr>\n",
       "      <th>5</th>\n",
       "      <td>Delhi</td>\n",
       "      <td>Delhi</td>\n",
       "      <td>28.6700</td>\n",
       "      <td>77.2300</td>\n",
       "      <td>India</td>\n",
       "      <td>IN</td>\n",
       "      <td>IND</td>\n",
       "      <td>Delhi</td>\n",
       "      <td>admin</td>\n",
       "      <td>15926000.0</td>\n",
       "      <td>1356872604</td>\n",
       "    </tr>\n",
       "    <tr>\n",
       "      <th>6</th>\n",
       "      <td>Shanghai</td>\n",
       "      <td>Shanghai</td>\n",
       "      <td>31.2165</td>\n",
       "      <td>121.4365</td>\n",
       "      <td>China</td>\n",
       "      <td>CN</td>\n",
       "      <td>CHN</td>\n",
       "      <td>Shanghai</td>\n",
       "      <td>admin</td>\n",
       "      <td>14987000.0</td>\n",
       "      <td>1156073548</td>\n",
       "    </tr>\n",
       "    <tr>\n",
       "      <th>7</th>\n",
       "      <td>Kolkata</td>\n",
       "      <td>Kolkata</td>\n",
       "      <td>22.4950</td>\n",
       "      <td>88.3247</td>\n",
       "      <td>India</td>\n",
       "      <td>IN</td>\n",
       "      <td>IND</td>\n",
       "      <td>West Bengal</td>\n",
       "      <td>admin</td>\n",
       "      <td>14787000.0</td>\n",
       "      <td>1356060520</td>\n",
       "    </tr>\n",
       "  </tbody>\n",
       "</table>\n",
       "</div>"
      ],
      "text/plain": [
       "        city city_ascii      lat       lng country iso2 iso3   admin_name  \\\n",
       "3     Mumbai     Mumbai  19.0170   72.8570   India   IN  IND  Mahārāshtra   \n",
       "4  São Paulo  Sao Paulo -23.5587  -46.6250  Brazil   BR  BRA    São Paulo   \n",
       "5      Delhi      Delhi  28.6700   77.2300   India   IN  IND        Delhi   \n",
       "6   Shanghai   Shanghai  31.2165  121.4365   China   CN  CHN     Shanghai   \n",
       "7    Kolkata    Kolkata  22.4950   88.3247   India   IN  IND  West Bengal   \n",
       "\n",
       "  capital  population          id  \n",
       "3   admin  18978000.0  1356226629  \n",
       "4   admin  18845000.0  1076532519  \n",
       "5   admin  15926000.0  1356872604  \n",
       "6   admin  14987000.0  1156073548  \n",
       "7   admin  14787000.0  1356060520  "
      ]
     },
     "execution_count": 11,
     "metadata": {},
     "output_type": "execute_result"
    }
   ],
   "source": [
    "filtered_DF = WC_DF[ WC_DF['capital'] == 'admin'] # This keeps only administrative capitals\n",
    "filtered_DF.head()"
   ]
  },
  {
   "cell_type": "markdown",
   "metadata": {},
   "source": [
    "This way of filtering is a very powerful and useful aspect of `DataFrames`. \n",
    "However, the\n",
    "syntax of the filter operation is rather unusual and a bit difficult to understand.\n",
    "\n",
    "What is happening can be explained by these steps in the way a filter expression\n",
    "is evaluated:\n",
    "*  `DF['label']` (where `DF` is any `DataFrame`), gives a `Series` corresponding\n",
    "    to    the `'label'` column of `DF.\n",
    "    \n",
    "*  `a_series == val` is a special use of `==`. When a Boolean operator\n",
    "    (such `==`, `<` etc.) is applied to a `Series` object\n",
    "   the result is actually a `Series` of Boolean values (not a single Boolean).\n",
    "   The new `Series` obtained will have the value `True` for each element where\n",
    "   the original `Series` satisfies `element == val`, and `False` for the rest.\n",
    "   \n",
    "* `DF[ bool_series ]`, is a special kind of slice-like operation, where a boolean\n",
    "   series is given as a selection argument to the `DataFrame`. It will return \n",
    "   a new DF, containing all the rows of `DF` for which `bool_series` has the \n",
    "   value `True`. (These rows can be quickly found because the `DataFrame` and\n",
    "   the Boolean series both have the same `Index`.)\n",
    "   \n",
    "You do not necessarily need to follow all of that precise desciption of filtering\n",
    "but it will be extremely helpful if you are able to construct filtering\n",
    "operations similar to the above example. You will see another example below,\n",
    "in relation to the earthquake data you will be processing."
   ]
  },
  {
   "cell_type": "markdown",
   "metadata": {},
   "source": [
    "### Question 1b \n",
    "Write a function `find_largest_cites` that takes an `int` argument `n`  and uses the\n",
    "pandas DataFrame WC_DF to derive and return a `list` of the `n` largest cities, in terms of population size. The list should contain the `ascii` names of the cities in order of population size, with the largest first.  "
   ]
  },
  {
   "cell_type": "code",
   "execution_count": null,
   "metadata": {},
   "outputs": [],
   "source": [
    "# Question 1b answer cell\n",
    "\n",
    "def find_largest_cities(n):\n",
    "    pass\n",
    "    # Modify to return a list of the n cities with the largest population"
   ]
  },
  {
   "cell_type": "markdown",
   "metadata": {},
   "source": [
    "__NOTE:__ In answering __1b__ you may assume that no two cities have exactly the same population, which is almost but not quite certain, when dealing with large numbers like this. But, of course, when dealing with quantites where multiple data records could have the same value, we need to be careful, because this may not be the case.\n",
    "For example, if we are interested in what equipement students own, we might think it would be informative\n",
    "to find 'the top 10 students owning the most laptops'. In this case there could be: 1 student with 3 laptops, 23 students with 2 laptops, 160 with 1 laptop and 3 who do not own a laptop. In such a case it is not meaningful to pick the 'top 10' in terms of laptop ownership. A similar problem could potentiall occur with the earthquake data that we will look at later, because the earthquake magnitudes are only recorded to 1 decimal place."
   ]
  },
  {
   "cell_type": "markdown",
   "metadata": {},
   "source": [
    "### Question 1c\n",
    "Define a function that returns a `list` _in alphabetical order_ of all the cities of a certain country. Make sure this function is case insensitive to the string input and that the output list contains\n",
    "the `ascii` version of the city names. "
   ]
  },
  {
   "cell_type": "code",
   "execution_count": null,
   "metadata": {},
   "outputs": [],
   "source": [
    "# Question 1c answer cell\n",
    "\n",
    "def find_cities_in_country(country):\n",
    "    \"\"\"country is a string input\"\"\"\n",
    "    pass # Edit this function to return an array of the cities belonging to given country"
   ]
  },
  {
   "cell_type": "markdown",
   "metadata": {},
   "source": [
    "### Question 1d\n",
    "Use the function you created in Question 1c and some of code from Question 1b to create a new function that  returns a `DataFrame` containing `n` largest cities (by population) of a given country, in descending order of population (i.e. highest population first).\n",
    "\n",
    "__Note:__ For this question, you must return a `DataFrame` (not a list). You could test this function with a command such as ```display(largest_cities(5, japan))```, which should show a table of city data for these\n",
    "cities. Note also that the `display` function produces the same output as you get from its argument expression when it is on its own as the last line of a code cell. "
   ]
  },
  {
   "cell_type": "code",
   "execution_count": null,
   "metadata": {},
   "outputs": [],
   "source": [
    "# Complete question 1d in this cell\n",
    "\n",
    "def largest_cities(n, country): # country is a string argument\n",
    "    \n",
    "    pass # Edit this function to return the largest cities of a country"
   ]
  },
  {
   "cell_type": "markdown",
   "metadata": {},
   "source": [
    "### Question 1e\n",
    "Create a function that given a country name, returns an `int` which is the total population of \n",
    "that country living in the cities in that country, as given in `WC_DF`. \n",
    "\n",
    "**Hints:** \n",
    "* Use the function you created in Question 1c to find the cities of a country.\n",
    "* You can ignore cities for which no population value is recorded in `WC_DF`."
   ]
  },
  {
   "cell_type": "code",
   "execution_count": 32,
   "metadata": {},
   "outputs": [],
   "source": [
    "## Question 1e Answer Code Cell\n",
    "\n",
    "def country_city_population(country):\n",
    "    pass"
   ]
  },
  {
   "cell_type": "markdown",
   "metadata": {},
   "source": [
    "### Question 2: Earthquakes - Web Access and Pandas DataFrames\n",
    "\n",
    "In this coursework exercise, you will learn how to download live information\n",
    "from the web and procress it using the Pandas data analysis package for Python.\n",
    "\n",
    "The data we will use as an example is from the \n",
    "[United States Geological Survey (USGS)](https://www.usgs.gov/), which \n",
    "provides a wide range of geographic and geological information and data.\n",
    "We shall be using their data relating to seismological \n",
    "events (i.e. Earthquakes) from around the world, which is published in the \n",
    "form of continually updated CSV files.\n",
    "\n",
    "Questions Overview\n",
    "\n",
    "* __Q2a__ --- Initialise a Pandas DataFrame by downloading earthquake data from the web. __[1 mark]__\n",
    "* __Q2b__ --- Find earthquakes of a given magnitude or higher.           __[2 marks]__\n",
    "* __Q2c__ --- Make a DataFrame showing the most powerful quakes          __[3 marks]__\n",
    "* __Q2d__ --- Identify large cities endangered by powerful earthquakes   __[4 makrs]__"
   ]
  },
  {
   "cell_type": "markdown",
   "metadata": {},
   "source": [
    "### Question 2a: Read in data file\n",
    "Read earthquake data from the USGS live feed CSV ```all_day.csv``` into a Pandas DataFrame.\n",
    "The data can be obtained directly from  http://earthquake.usgs.gov/earthquakes/feed/v1.0/summary/all_day.csv and read into a Pandas DataFrame.\n",
    "\n",
    "__Note:__ For this question you do not need to download and save the file ```all_day.csv```. It should\n",
    "be loaded directly from the web feed. However, while testing, if you have no internet connection or\n",
    "a bad connection you could download a copy of the file. But remember to put it back to downloading\n",
    "the current one before you submit. Note also that ```all_day.csv``` is a live file, which lists\n",
    "quakes recorded during the past 24 hours, and is updated every minute, so of course,\n",
    "you will not always get the same file or the same results. More information about this and other\n",
    "earthquake feeds provided by USGS can be found [here](https://earthquake.usgs.gov/earthquakes/feed/v1.0/csv.php)."
   ]
  },
  {
   "cell_type": "code",
   "execution_count": null,
   "metadata": {},
   "outputs": [],
   "source": [
    "# Q2a answer code cell\n",
    "\n",
    "import pandas    ## This is the module for creating and manupulating DataFrames\n",
    "\n",
    "# Here we have assigned the url of the quake datasource to the global variable \n",
    "# 'QUAKE_SOURCE' for your convenience.\n",
    "QUAKE_SOURCE = ( \"http://earthquake.usgs.gov/\" +\n",
    "                 \"earthquakes/feed/v1.0/summary/all_day.csv\" )\n",
    "\n",
    "QUAKE_DF = None  ## Modify this line to import the data using Pandas"
   ]
  },
  {
   "cell_type": "markdown",
   "metadata": {},
   "source": [
    "#### You can use the following cell to test if you have read the quake data into `QUAKE_DF`"
   ]
  },
  {
   "cell_type": "code",
   "execution_count": null,
   "metadata": {},
   "outputs": [],
   "source": [
    "## If QUAKE_DF is a DataFrame, show the first 5 rows\n",
    "if type(QUAKE_DF) == pandas.DataFrame:\n",
    "    display(QUAKE_DF.head())\n",
    "else:\n",
    "    print(\"QUAKE_DF is not a DataFrame\")"
   ]
  },
  {
   "cell_type": "markdown",
   "metadata": {},
   "source": [
    "### More examples of useful `pandas` functions\n",
    "\n",
    "Here we show you some more pandas functions that you may find useful in this exercise. \n",
    "\n",
    "As we have seen, versatile filtering and sorting capabilities are provided by pandas. To get more understanding of these, you should look at tutorials of using Pandas DataFrames. But the following example illustrates how you can find and display quakes whose depth is greater than or equal to a given threshold:"
   ]
  },
  {
   "cell_type": "code",
   "execution_count": 28,
   "metadata": {},
   "outputs": [
    {
     "name": "stdout",
     "output_type": "stream",
     "text": [
      "Number of quakes of depth 150 or deeper: 4\n"
     ]
    },
    {
     "data": {
      "text/html": [
       "<div>\n",
       "<style scoped>\n",
       "    .dataframe tbody tr th:only-of-type {\n",
       "        vertical-align: middle;\n",
       "    }\n",
       "\n",
       "    .dataframe tbody tr th {\n",
       "        vertical-align: top;\n",
       "    }\n",
       "\n",
       "    .dataframe thead th {\n",
       "        text-align: right;\n",
       "    }\n",
       "</style>\n",
       "<table border=\"1\" class=\"dataframe\">\n",
       "  <thead>\n",
       "    <tr style=\"text-align: right;\">\n",
       "      <th></th>\n",
       "      <th>time</th>\n",
       "      <th>latitude</th>\n",
       "      <th>longitude</th>\n",
       "      <th>depth</th>\n",
       "      <th>mag</th>\n",
       "      <th>magType</th>\n",
       "      <th>nst</th>\n",
       "      <th>gap</th>\n",
       "      <th>dmin</th>\n",
       "      <th>rms</th>\n",
       "      <th>...</th>\n",
       "      <th>updated</th>\n",
       "      <th>place</th>\n",
       "      <th>type</th>\n",
       "      <th>horizontalError</th>\n",
       "      <th>depthError</th>\n",
       "      <th>magError</th>\n",
       "      <th>magNst</th>\n",
       "      <th>status</th>\n",
       "      <th>locationSource</th>\n",
       "      <th>magSource</th>\n",
       "    </tr>\n",
       "  </thead>\n",
       "  <tbody>\n",
       "    <tr>\n",
       "      <th>232</th>\n",
       "      <td>2020-11-11T00:48:43.951Z</td>\n",
       "      <td>-19.7409</td>\n",
       "      <td>-177.5517</td>\n",
       "      <td>416.93</td>\n",
       "      <td>6.0</td>\n",
       "      <td>mww</td>\n",
       "      <td>NaN</td>\n",
       "      <td>31.0</td>\n",
       "      <td>5.430</td>\n",
       "      <td>1.03</td>\n",
       "      <td>...</td>\n",
       "      <td>2020-11-11T02:51:39.381Z</td>\n",
       "      <td>289 km WNW of Haveluloto, Tonga</td>\n",
       "      <td>earthquake</td>\n",
       "      <td>9.9</td>\n",
       "      <td>3.6</td>\n",
       "      <td>0.063</td>\n",
       "      <td>24.0</td>\n",
       "      <td>reviewed</td>\n",
       "      <td>us</td>\n",
       "      <td>us</td>\n",
       "    </tr>\n",
       "    <tr>\n",
       "      <th>193</th>\n",
       "      <td>2020-11-11T03:27:16.084Z</td>\n",
       "      <td>-22.0585</td>\n",
       "      <td>-66.1015</td>\n",
       "      <td>272.30</td>\n",
       "      <td>4.1</td>\n",
       "      <td>mb</td>\n",
       "      <td>NaN</td>\n",
       "      <td>94.0</td>\n",
       "      <td>2.116</td>\n",
       "      <td>0.70</td>\n",
       "      <td>...</td>\n",
       "      <td>2020-11-11T03:35:44.040Z</td>\n",
       "      <td>52 km W of Villazón, Bolivia</td>\n",
       "      <td>earthquake</td>\n",
       "      <td>9.3</td>\n",
       "      <td>12.3</td>\n",
       "      <td>0.166</td>\n",
       "      <td>10.0</td>\n",
       "      <td>reviewed</td>\n",
       "      <td>us</td>\n",
       "      <td>us</td>\n",
       "    </tr>\n",
       "    <tr>\n",
       "      <th>199</th>\n",
       "      <td>2020-11-11T02:57:28.471Z</td>\n",
       "      <td>-4.5847</td>\n",
       "      <td>151.3425</td>\n",
       "      <td>252.68</td>\n",
       "      <td>4.5</td>\n",
       "      <td>mb</td>\n",
       "      <td>NaN</td>\n",
       "      <td>98.0</td>\n",
       "      <td>0.907</td>\n",
       "      <td>0.56</td>\n",
       "      <td>...</td>\n",
       "      <td>2020-11-11T03:21:33.040Z</td>\n",
       "      <td>100 km WSW of Rabaul, Papua New Guinea</td>\n",
       "      <td>earthquake</td>\n",
       "      <td>12.6</td>\n",
       "      <td>5.2</td>\n",
       "      <td>0.121</td>\n",
       "      <td>20.0</td>\n",
       "      <td>reviewed</td>\n",
       "      <td>us</td>\n",
       "      <td>us</td>\n",
       "    </tr>\n",
       "    <tr>\n",
       "      <th>229</th>\n",
       "      <td>2020-11-11T00:56:18.229Z</td>\n",
       "      <td>-24.1320</td>\n",
       "      <td>-67.0177</td>\n",
       "      <td>181.01</td>\n",
       "      <td>4.5</td>\n",
       "      <td>mb</td>\n",
       "      <td>NaN</td>\n",
       "      <td>42.0</td>\n",
       "      <td>1.585</td>\n",
       "      <td>1.25</td>\n",
       "      <td>...</td>\n",
       "      <td>2020-11-11T03:38:05.040Z</td>\n",
       "      <td>71 km W of San Antonio de los Cobres, Argentina</td>\n",
       "      <td>earthquake</td>\n",
       "      <td>7.6</td>\n",
       "      <td>5.8</td>\n",
       "      <td>0.075</td>\n",
       "      <td>52.0</td>\n",
       "      <td>reviewed</td>\n",
       "      <td>us</td>\n",
       "      <td>us</td>\n",
       "    </tr>\n",
       "  </tbody>\n",
       "</table>\n",
       "<p>4 rows × 22 columns</p>\n",
       "</div>"
      ],
      "text/plain": [
       "                         time  latitude  longitude   depth  mag magType  nst  \\\n",
       "232  2020-11-11T00:48:43.951Z  -19.7409  -177.5517  416.93  6.0     mww  NaN   \n",
       "193  2020-11-11T03:27:16.084Z  -22.0585   -66.1015  272.30  4.1      mb  NaN   \n",
       "199  2020-11-11T02:57:28.471Z   -4.5847   151.3425  252.68  4.5      mb  NaN   \n",
       "229  2020-11-11T00:56:18.229Z  -24.1320   -67.0177  181.01  4.5      mb  NaN   \n",
       "\n",
       "      gap   dmin   rms  ...                   updated  \\\n",
       "232  31.0  5.430  1.03  ...  2020-11-11T02:51:39.381Z   \n",
       "193  94.0  2.116  0.70  ...  2020-11-11T03:35:44.040Z   \n",
       "199  98.0  0.907  0.56  ...  2020-11-11T03:21:33.040Z   \n",
       "229  42.0  1.585  1.25  ...  2020-11-11T03:38:05.040Z   \n",
       "\n",
       "                                               place        type  \\\n",
       "232                  289 km WNW of Haveluloto, Tonga  earthquake   \n",
       "193                     52 km W of Villazón, Bolivia  earthquake   \n",
       "199           100 km WSW of Rabaul, Papua New Guinea  earthquake   \n",
       "229  71 km W of San Antonio de los Cobres, Argentina  earthquake   \n",
       "\n",
       "    horizontalError depthError  magError  magNst    status  locationSource  \\\n",
       "232             9.9        3.6     0.063    24.0  reviewed              us   \n",
       "193             9.3       12.3     0.166    10.0  reviewed              us   \n",
       "199            12.6        5.2     0.121    20.0  reviewed              us   \n",
       "229             7.6        5.8     0.075    52.0  reviewed              us   \n",
       "\n",
       "    magSource  \n",
       "232        us  \n",
       "193        us  \n",
       "199        us  \n",
       "229        us  \n",
       "\n",
       "[4 rows x 22 columns]"
      ]
     },
     "metadata": {},
     "output_type": "display_data"
    }
   ],
   "source": [
    "def show_deep_quakes( depth ):\n",
    "    # make deep_quakes DataFrame by selecting rows from QUAKE_DF\n",
    "    deep_quakes = QUAKE_DF[ QUAKE_DF[\"depth\"] >= depth ]  ## This is how you select rows by a condition\n",
    "                                                          ## on one of the column values.\n",
    "        \n",
    "    print(\"Number of quakes of depth {} or deeper:\".format(depth), \n",
    "           len(deep_quakes.index))     ## This finds the number of rows of the deep_quakes DataFrame\n",
    "    \n",
    "    display(deep_quakes.sort_values(\"depth\", ascending=False))  ## Sort by descending depth value\n",
    "    \n",
    "show_deep_quakes(150)"
   ]
  },
  {
   "cell_type": "markdown",
   "metadata": {},
   "source": [
    "You can also find ```max``` and ```min``` values in a column. Eg:"
   ]
  },
  {
   "cell_type": "code",
   "execution_count": 29,
   "metadata": {},
   "outputs": [
    {
     "data": {
      "text/plain": [
       "416.93"
      ]
     },
     "execution_count": 29,
     "metadata": {},
     "output_type": "execute_result"
    }
   ],
   "source": [
    "QUAKE_DF[\"depth\"].max()"
   ]
  },
  {
   "cell_type": "code",
   "execution_count": 30,
   "metadata": {},
   "outputs": [
    {
     "data": {
      "text/plain": [
       "6.0"
      ]
     },
     "execution_count": 30,
     "metadata": {},
     "output_type": "execute_result"
    }
   ],
   "source": [
    "QUAKE_DF[\"mag\"].max()"
   ]
  },
  {
   "cell_type": "markdown",
   "metadata": {},
   "source": [
    "### Question 2b: Find Powerful Quakes\n",
    "\n",
    "Write a function `powerful_quakes` that takes a numerical argument and returns a `DataFrame` including\n",
    "all the quakes in `QUAKE_DF` that have a magnitude greater than or equal to the given argument."
   ]
  },
  {
   "cell_type": "code",
   "execution_count": 41,
   "metadata": {},
   "outputs": [],
   "source": [
    "# Complete question 2b answer cell\n",
    "\n",
    "def powerful_quakes(mag):\n",
    "    ## This is just returning an empty DataFrame you need to code it to return\n",
    "    ## a DataFrame with all quakes of magnitude greater than or equal to mag\n",
    "    return pandas.DataFrame()"
   ]
  },
  {
   "cell_type": "markdown",
   "metadata": {},
   "source": [
    "### Question 2c: Find `n+` most powerful earthquakes\n",
    "\n",
    "Produce a DataFrame of the `n`(or maybe more) most powerful quakes. The ``DataFrame`` should show at least `n`\n",
    "quakes and may sometimes show more since we do not want to leave out any quake that is equally\n",
    "powerful as the last quake listed in the `DataFrame`.\n",
    "More specificially, we want the function to return a `DataFrame` that:\n",
    "* lists quakes in descending order of magnitude \n",
    "* contains all and only those quakes in `QUAKES_DF`, such that there are fewer than `n` other quakes in\n",
    "  `QUAKES_DF` that have a higher magnitude."
   ]
  },
  {
   "cell_type": "code",
   "execution_count": null,
   "metadata": {},
   "outputs": [],
   "source": [
    "# Question 2c answer cell\n",
    "\n",
    "def most_powerful_n_quakes():\n",
    "    pass # Edit this function to make it return a DataFrame of the 'top n' quakes of the all_day.csv file\n",
    "    return "
   ]
  },
  {
   "cell_type": "markdown",
   "metadata": {},
   "source": [
    "### Question 2d: Identifying Endangered Cities\n",
    "\n",
    "The general idea of this question is to identify possible emergency situations by finding\n",
    "cities over a given population that are within a certain distance of an earthquake of a given\n",
    "magnitude or higher. (The precise specification is after the next code cell.)\n",
    "\n",
    "To help answer this question you are provided with the function ```haversine_distance```, \n",
    "which will find the distance in metres between two locations, that are specified in terms of\n",
    "latitude and longitude values. When finding distances betwen points on the surface of the\n",
    "Earth We need to use this formula, rather than the simpler Pythagorean distance formula,\n",
    "because the Earth's surface is a sphere.\n"
   ]
  },
  {
   "cell_type": "code",
   "execution_count": 44,
   "metadata": {},
   "outputs": [],
   "source": [
    "## Function to compute distance between locations (metres) \n",
    "# Returns the distance in meters, according to the Haversine formula,\n",
    "# between two locations given as (latitude, longitude) coordinate pairs.\n",
    "\n",
    "import math\n",
    "def haversine_distance( loc1 , loc2 ): # add wiki link or something\n",
    "    '''finds the distance (m) between 2 locations, where locations are defined by\n",
    "    longitudes and latitudes'''\n",
    "    lat1, lon1 = loc1\n",
    "    lat2, lon2 = loc2\n",
    "    radius = 6371000  # meters\n",
    "    dlat = math.radians(lat2 - lat1)\n",
    "    dlon = math.radians(lon2 - lon1)\n",
    "    a = (math.sin(dlat / 2) * math.sin(dlat / 2) +\n",
    "         math.cos(math.radians(lat1)) * math.cos(math.radians(lat2)) *\n",
    "         math.sin(dlon / 2) * math.sin(dlon / 2))\n",
    "    c = 2 * math.atan2(math.sqrt(a), math.sqrt(1 - a))\n",
    "    d = radius * c\n",
    "    return d"
   ]
  },
  {
   "cell_type": "markdown",
   "metadata": {},
   "source": [
    "Using the `haversine_distance` function, write a function `engangered_cities` that takes \n",
    "three numerica arguments (`population`, `distance` and `magnitude`) and \n",
    "returns a `list` in alphabetical order of the `ascii` names of all cities listed in \n",
    "the 'WC_DF' such that:\n",
    "* they have a population greater than or equal to the given population \n",
    "* their location is at a distance of less than or equal to the given distance from\n",
    "  an earthquake of magnitude greater than or equal to the given magnitude."
   ]
  },
  {
   "cell_type": "code",
   "execution_count": 43,
   "metadata": {},
   "outputs": [],
   "source": [
    "## 2d Answer Code Cell\n",
    "def endangered_cities(population, distance, magnitude):\n",
    "    pass"
   ]
  },
  {
   "cell_type": "markdown",
   "metadata": {},
   "source": [
    "## Optional Exercises\n",
    "\n",
    "Having got this far, you may find it interesting and informative to do some more processing\n",
    "of the city and earthquake information.\n",
    "\n",
    "### Constructing a city risk status alert `DataFrame`\n",
    "\n",
    "A government or other organisation may want to monitor a certain list of cities with regard to whether\n",
    "they may be at risk of earthquake damage. To answer this question you should create a function\n",
    "that uses the `endangered_cities` function you have defined above to create such a `DataFrame`.\n",
    "\n",
    "Your function `city_risk_alert` should return a pandas DataFrame that includes the status of ```'ENDANGERED'``` or ```'SAFE'``` for a certain city. The dataframe should also contain the city name, country and status for each city input. You could also extend this to add more columns showing\n",
    "things like the distance and magnitude of the nearest earthquake. And you could perhaps make it\n",
    "so any endangered cities were put at the top of the list.\n",
    "\n",
    "For example:\n",
    "```\n",
    "display( city_risk_alert( ['Rome', 'Milan', 'Pisa'] )\n",
    "```\n",
    "\n",
    "might give the following output:\n",
    "\n",
    " \n",
    "| city  | country|status|\n",
    "|-------|-------|-----|\n",
    "| Pisa  | Italy | ENDANGERED |\n",
    "| Rome  | Italy | SAFE |\n",
    "| Milan | Italy | SAFE |\n",
    " "
   ]
  },
  {
   "cell_type": "markdown",
   "metadata": {},
   "source": [
    "## Visualisation Exercise: display endangered cities on a map\n",
    "\n",
    "The code below creates a Map object using the ```ipyleaflet``` module and uses this to\n",
    "display powerful quakes on the map. If you have coded the `powerful_quakes` function for\n",
    "Question 2b above, the code in the cell below the map should draw the detected powerful\n",
    "quakes onto the map at their correct locations.\n",
    "\n",
    "To install the ```ipyleaflet``` module use ```!pip3 install ipyleaflet```. If the map does not display after installation be sure to restart the kernel, and close and reopen this file. We provide the ```draw_circle_on_map``` function, this add circles to a specified location on the map, where the location is defined by longitudes and latitudes.\n",
    "\n"
   ]
  },
  {
   "cell_type": "code",
   "execution_count": 25,
   "metadata": {
    "scrolled": false
   },
   "outputs": [
    {
     "data": {
      "application/vnd.jupyter.widget-view+json": {
       "model_id": "ce89a368dd464c98a0e459a508159969",
       "version_major": 2,
       "version_minor": 0
      },
      "text/plain": [
       "Map(center=[53.8008, -1.5491], controls=(ZoomControl(options=['position', 'zoom_in_text', 'zoom_in_title', 'zo…"
      ]
     },
     "metadata": {},
     "output_type": "display_data"
    }
   ],
   "source": [
    "from ipyleaflet import Map, basemaps, basemap_to_tiles, Circle, Polyline\n",
    "from ipywidgets import Layout\n",
    "\n",
    "LEEDS_LOC  = ( 53.8008,  -1.5491  ) # Here we define the longitude and latitude of Leeds\n",
    "WORLD_MAP = Map(basemap=basemaps.OpenTopoMap, center=LEEDS_LOC, zoom=1.5,\n",
    "                layout=Layout(height=\"500px\")) # Here we create a map object centred on Leeds\n",
    "\n",
    "WORLD_MAP"
   ]
  },
  {
   "cell_type": "code",
   "execution_count": 26,
   "metadata": {},
   "outputs": [],
   "source": [
    "def draw_circle_on_map( a_map, location, radius = 1000, color=\"red\", fill_color=None ):\n",
    "    if not fill_color:\n",
    "        fill_color = color\n",
    "    circle = Circle()\n",
    "    circle.location = location\n",
    "    circle.radius = radius\n",
    "    circle.color = color\n",
    "    circle.fill_color = fill_color\n",
    "    a_map.add_layer(circle)\n",
    "    \n",
    "draw_circle_on_map(WORLD_MAP, LEEDS_LOC, color=\"green\" ) # This will edit your previous map rather than produce a new one\n",
    "\n",
    "def display_powerful_quakes_on_map(mag):\n",
    "    powerful = powerful_quakes(3)\n",
    "    for i, quake in powerful.iterrows():\n",
    "        draw_circle_on_map( WORLD_MAP,\n",
    "                            (quake[\"latitude\"],quake[\"longitude\"]), \n",
    "                            radius= 20000*int(quake[\"mag\"]) )\n",
    "\n",
    "display_powerful_quakes_on_map(3)"
   ]
  },
  {
   "cell_type": "markdown",
   "metadata": {},
   "source": [
    "### More Ideas for Graphical Display\n",
    "It would be nice to also see the endangered cities on the map. For an ambitious exercise you\n",
    "could see if you can draw lines on the map running from from the locations of powerful\n",
    "earthquakes to the cities that are endangered by them."
   ]
  },
  {
   "cell_type": "code",
   "execution_count": null,
   "metadata": {},
   "outputs": [],
   "source": []
  }
 ],
 "metadata": {
  "kernelspec": {
   "display_name": "Python 3",
   "language": "python",
   "name": "python3"
  },
  "language_info": {
   "codemirror_mode": {
    "name": "ipython",
    "version": 3
   },
   "file_extension": ".py",
   "mimetype": "text/x-python",
   "name": "python",
   "nbconvert_exporter": "python",
   "pygments_lexer": "ipython3",
   "version": "3.7.8"
  }
 },
 "nbformat": 4,
 "nbformat_minor": 4
}
