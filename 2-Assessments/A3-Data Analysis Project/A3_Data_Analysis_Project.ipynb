{
 "cells": [
  {
   "cell_type": "markdown",
   "metadata": {},
   "source": [
    "## P4DS: Assignment 3 (Autumn 2020)\n",
    "\n",
    "# Data Analysis Project\n",
    "\n",
    "#### Notebook template design: Brandon Bennett (2020/11/3)\n",
    "\n",
    "# _Project Title_\n",
    "\n",
    "\n",
    "### Project participants:\n",
    "\n",
    "* A. Daolin Sheng (ml192ds@leeds.ac.uk)\n",
    "* B. Student (bstudent@leeds.ac.uk)"
   ]
  },
  {
   "cell_type": "markdown",
   "metadata": {},
   "source": [
    "# Project Plan\n",
    "\n",
    "## The Data (10 marks)\n",
    "(around 300-400 words)\n",
    "The dataset belongs to \"The Bread Basket\" a bakery located in Edinburgh. The dataset has 20507 entries, over 9000 transactions, and 4 columns.\n",
    "\n",
    "comes from [The Bread Basket](https://www.kaggle.com/mittalvasu95/the-bread-basket)\n",
    "transactionId, Item, data_time, period_day, weekday_weekend, date from 30-10-2016 to 09-04-2017\n",
    "\n",
    "The dataset has transactions of customers who ordered different items from this bakery online and the time period of the data is from 26-01-11 to 27-12-03.\n",
    "no Nan value.\n",
    "\n",
    "\n",
    "## Project Aim and Objectives (5 marks)\n",
    "(around 200-300 words)\n",
    "\n",
    "1,\n",
    "\n",
    "### Specific Objective(s)\n",
    "\n",
    "* __Objective 1:__ _最受欢迎商品top(n)_\n",
    "* __Objective 2:__ _交易趋势图_\n",
    "* __Objective 3:__ _商品推荐_\n",
    "\n",
    "## System Design (5 marks)\n",
    "\n",
    "\n",
    "### Architecture\n",
    "\n",
    "a simple architecture + 100-150words\n",
    "  \n",
    "### Processing Modules and Algorithms\n",
    "\n",
    "1,date convert\n",
    "2,item vector"
   ]
  },
  {
   "cell_type": "markdown",
   "metadata": {},
   "source": [
    "# Program Code (15 marks)"
   ]
  },
  {
   "cell_type": "markdown",
   "metadata": {},
   "source": [
    "#### _Brief Explanation of following code cell_\n",
    "\n",
    "a simple explanation"
   ]
  },
  {
   "cell_type": "code",
   "execution_count": 60,
   "metadata": {},
   "outputs": [],
   "source": [
    "import numpy as np\n",
    "import pandas as pd\n",
    "import matplotlib.pyplot as plt\n",
    "import seaborn as sns\n",
    "import warnings\n",
    "warnings.filterwarnings(\"ignore\")"
   ]
  },
  {
   "cell_type": "code",
   "execution_count": 61,
   "metadata": {},
   "outputs": [
    {
     "data": {
      "text/html": [
       "<div>\n",
       "<style scoped>\n",
       "    .dataframe tbody tr th:only-of-type {\n",
       "        vertical-align: middle;\n",
       "    }\n",
       "\n",
       "    .dataframe tbody tr th {\n",
       "        vertical-align: top;\n",
       "    }\n",
       "\n",
       "    .dataframe thead th {\n",
       "        text-align: right;\n",
       "    }\n",
       "</style>\n",
       "<table border=\"1\" class=\"dataframe\">\n",
       "  <thead>\n",
       "    <tr style=\"text-align: right;\">\n",
       "      <th></th>\n",
       "      <th>Transaction</th>\n",
       "      <th>Item</th>\n",
       "      <th>date_time</th>\n",
       "      <th>period_day</th>\n",
       "      <th>weekday_weekend</th>\n",
       "    </tr>\n",
       "  </thead>\n",
       "  <tbody>\n",
       "    <tr>\n",
       "      <th>0</th>\n",
       "      <td>1</td>\n",
       "      <td>Bread</td>\n",
       "      <td>30-10-2016 09:58</td>\n",
       "      <td>morning</td>\n",
       "      <td>weekend</td>\n",
       "    </tr>\n",
       "    <tr>\n",
       "      <th>1</th>\n",
       "      <td>2</td>\n",
       "      <td>Scandinavian</td>\n",
       "      <td>30-10-2016 10:05</td>\n",
       "      <td>morning</td>\n",
       "      <td>weekend</td>\n",
       "    </tr>\n",
       "    <tr>\n",
       "      <th>2</th>\n",
       "      <td>2</td>\n",
       "      <td>Scandinavian</td>\n",
       "      <td>30-10-2016 10:05</td>\n",
       "      <td>morning</td>\n",
       "      <td>weekend</td>\n",
       "    </tr>\n",
       "    <tr>\n",
       "      <th>3</th>\n",
       "      <td>3</td>\n",
       "      <td>Hot chocolate</td>\n",
       "      <td>30-10-2016 10:07</td>\n",
       "      <td>morning</td>\n",
       "      <td>weekend</td>\n",
       "    </tr>\n",
       "    <tr>\n",
       "      <th>4</th>\n",
       "      <td>3</td>\n",
       "      <td>Jam</td>\n",
       "      <td>30-10-2016 10:07</td>\n",
       "      <td>morning</td>\n",
       "      <td>weekend</td>\n",
       "    </tr>\n",
       "    <tr>\n",
       "      <th>5</th>\n",
       "      <td>3</td>\n",
       "      <td>Cookies</td>\n",
       "      <td>30-10-2016 10:07</td>\n",
       "      <td>morning</td>\n",
       "      <td>weekend</td>\n",
       "    </tr>\n",
       "    <tr>\n",
       "      <th>6</th>\n",
       "      <td>4</td>\n",
       "      <td>Muffin</td>\n",
       "      <td>30-10-2016 10:08</td>\n",
       "      <td>morning</td>\n",
       "      <td>weekend</td>\n",
       "    </tr>\n",
       "    <tr>\n",
       "      <th>7</th>\n",
       "      <td>5</td>\n",
       "      <td>Coffee</td>\n",
       "      <td>30-10-2016 10:13</td>\n",
       "      <td>morning</td>\n",
       "      <td>weekend</td>\n",
       "    </tr>\n",
       "    <tr>\n",
       "      <th>8</th>\n",
       "      <td>5</td>\n",
       "      <td>Pastry</td>\n",
       "      <td>30-10-2016 10:13</td>\n",
       "      <td>morning</td>\n",
       "      <td>weekend</td>\n",
       "    </tr>\n",
       "    <tr>\n",
       "      <th>9</th>\n",
       "      <td>5</td>\n",
       "      <td>Bread</td>\n",
       "      <td>30-10-2016 10:13</td>\n",
       "      <td>morning</td>\n",
       "      <td>weekend</td>\n",
       "    </tr>\n",
       "  </tbody>\n",
       "</table>\n",
       "</div>"
      ],
      "text/plain": [
       "   Transaction           Item         date_time period_day weekday_weekend\n",
       "0            1          Bread  30-10-2016 09:58    morning         weekend\n",
       "1            2   Scandinavian  30-10-2016 10:05    morning         weekend\n",
       "2            2   Scandinavian  30-10-2016 10:05    morning         weekend\n",
       "3            3  Hot chocolate  30-10-2016 10:07    morning         weekend\n",
       "4            3            Jam  30-10-2016 10:07    morning         weekend\n",
       "5            3        Cookies  30-10-2016 10:07    morning         weekend\n",
       "6            4         Muffin  30-10-2016 10:08    morning         weekend\n",
       "7            5         Coffee  30-10-2016 10:13    morning         weekend\n",
       "8            5         Pastry  30-10-2016 10:13    morning         weekend\n",
       "9            5          Bread  30-10-2016 10:13    morning         weekend"
      ]
     },
     "execution_count": 61,
     "metadata": {},
     "output_type": "execute_result"
    }
   ],
   "source": [
    "df = pd.read_csv('./bread basket.csv')\n",
    "df.head(10)"
   ]
  },
  {
   "cell_type": "code",
   "execution_count": 62,
   "metadata": {},
   "outputs": [
    {
     "data": {
      "text/html": [
       "<div>\n",
       "<style scoped>\n",
       "    .dataframe tbody tr th:only-of-type {\n",
       "        vertical-align: middle;\n",
       "    }\n",
       "\n",
       "    .dataframe tbody tr th {\n",
       "        vertical-align: top;\n",
       "    }\n",
       "\n",
       "    .dataframe thead th {\n",
       "        text-align: right;\n",
       "    }\n",
       "</style>\n",
       "<table border=\"1\" class=\"dataframe\">\n",
       "  <thead>\n",
       "    <tr style=\"text-align: right;\">\n",
       "      <th></th>\n",
       "      <th>Transaction</th>\n",
       "    </tr>\n",
       "  </thead>\n",
       "  <tbody>\n",
       "    <tr>\n",
       "      <th>count</th>\n",
       "      <td>20507.000000</td>\n",
       "    </tr>\n",
       "    <tr>\n",
       "      <th>mean</th>\n",
       "      <td>4976.202370</td>\n",
       "    </tr>\n",
       "    <tr>\n",
       "      <th>std</th>\n",
       "      <td>2796.203001</td>\n",
       "    </tr>\n",
       "    <tr>\n",
       "      <th>min</th>\n",
       "      <td>1.000000</td>\n",
       "    </tr>\n",
       "    <tr>\n",
       "      <th>25%</th>\n",
       "      <td>2552.000000</td>\n",
       "    </tr>\n",
       "    <tr>\n",
       "      <th>50%</th>\n",
       "      <td>5137.000000</td>\n",
       "    </tr>\n",
       "    <tr>\n",
       "      <th>75%</th>\n",
       "      <td>7357.000000</td>\n",
       "    </tr>\n",
       "    <tr>\n",
       "      <th>max</th>\n",
       "      <td>9684.000000</td>\n",
       "    </tr>\n",
       "  </tbody>\n",
       "</table>\n",
       "</div>"
      ],
      "text/plain": [
       "        Transaction\n",
       "count  20507.000000\n",
       "mean    4976.202370\n",
       "std     2796.203001\n",
       "min        1.000000\n",
       "25%     2552.000000\n",
       "50%     5137.000000\n",
       "75%     7357.000000\n",
       "max     9684.000000"
      ]
     },
     "execution_count": 62,
     "metadata": {},
     "output_type": "execute_result"
    }
   ],
   "source": [
    "df.describe()"
   ]
  },
  {
   "cell_type": "code",
   "execution_count": 63,
   "metadata": {},
   "outputs": [
    {
     "name": "stdout",
     "output_type": "stream",
     "text": [
      "<class 'pandas.core.frame.DataFrame'>\n",
      "RangeIndex: 20507 entries, 0 to 20506\n",
      "Data columns (total 5 columns):\n",
      " #   Column           Non-Null Count  Dtype \n",
      "---  ------           --------------  ----- \n",
      " 0   Transaction      20507 non-null  int64 \n",
      " 1   Item             20507 non-null  object\n",
      " 2   date_time        20507 non-null  object\n",
      " 3   period_day       20507 non-null  object\n",
      " 4   weekday_weekend  20507 non-null  object\n",
      "dtypes: int64(1), object(4)\n",
      "memory usage: 801.2+ KB\n"
     ]
    }
   ],
   "source": [
    "df.info()"
   ]
  },
  {
   "cell_type": "code",
   "execution_count": 64,
   "metadata": {},
   "outputs": [
    {
     "data": {
      "text/html": [
       "<div>\n",
       "<style scoped>\n",
       "    .dataframe tbody tr th:only-of-type {\n",
       "        vertical-align: middle;\n",
       "    }\n",
       "\n",
       "    .dataframe tbody tr th {\n",
       "        vertical-align: top;\n",
       "    }\n",
       "\n",
       "    .dataframe thead th {\n",
       "        text-align: right;\n",
       "    }\n",
       "</style>\n",
       "<table border=\"1\" class=\"dataframe\">\n",
       "  <thead>\n",
       "    <tr style=\"text-align: right;\">\n",
       "      <th></th>\n",
       "      <th>Transaction</th>\n",
       "      <th>Item</th>\n",
       "      <th>date_time</th>\n",
       "      <th>period_day</th>\n",
       "      <th>weekday_weekend</th>\n",
       "      <th>date</th>\n",
       "      <th>time</th>\n",
       "      <th>month</th>\n",
       "      <th>rhour</th>\n",
       "      <th>weekday</th>\n",
       "    </tr>\n",
       "  </thead>\n",
       "  <tbody>\n",
       "    <tr>\n",
       "      <th>0</th>\n",
       "      <td>1</td>\n",
       "      <td>Bread</td>\n",
       "      <td>2016-10-30 09:58:00</td>\n",
       "      <td>morning</td>\n",
       "      <td>weekend</td>\n",
       "      <td>2016-10-30</td>\n",
       "      <td>09:58:00</td>\n",
       "      <td>Oct.</td>\n",
       "      <td>08-09</td>\n",
       "      <td>6</td>\n",
       "    </tr>\n",
       "    <tr>\n",
       "      <th>1</th>\n",
       "      <td>2</td>\n",
       "      <td>Scandinavian</td>\n",
       "      <td>2016-10-30 10:05:00</td>\n",
       "      <td>morning</td>\n",
       "      <td>weekend</td>\n",
       "      <td>2016-10-30</td>\n",
       "      <td>10:05:00</td>\n",
       "      <td>Oct.</td>\n",
       "      <td>09-10</td>\n",
       "      <td>6</td>\n",
       "    </tr>\n",
       "    <tr>\n",
       "      <th>2</th>\n",
       "      <td>2</td>\n",
       "      <td>Scandinavian</td>\n",
       "      <td>2016-10-30 10:05:00</td>\n",
       "      <td>morning</td>\n",
       "      <td>weekend</td>\n",
       "      <td>2016-10-30</td>\n",
       "      <td>10:05:00</td>\n",
       "      <td>Oct.</td>\n",
       "      <td>09-10</td>\n",
       "      <td>6</td>\n",
       "    </tr>\n",
       "    <tr>\n",
       "      <th>3</th>\n",
       "      <td>3</td>\n",
       "      <td>Hot chocolate</td>\n",
       "      <td>2016-10-30 10:07:00</td>\n",
       "      <td>morning</td>\n",
       "      <td>weekend</td>\n",
       "      <td>2016-10-30</td>\n",
       "      <td>10:07:00</td>\n",
       "      <td>Oct.</td>\n",
       "      <td>09-10</td>\n",
       "      <td>6</td>\n",
       "    </tr>\n",
       "    <tr>\n",
       "      <th>4</th>\n",
       "      <td>3</td>\n",
       "      <td>Jam</td>\n",
       "      <td>2016-10-30 10:07:00</td>\n",
       "      <td>morning</td>\n",
       "      <td>weekend</td>\n",
       "      <td>2016-10-30</td>\n",
       "      <td>10:07:00</td>\n",
       "      <td>Oct.</td>\n",
       "      <td>09-10</td>\n",
       "      <td>6</td>\n",
       "    </tr>\n",
       "    <tr>\n",
       "      <th>5</th>\n",
       "      <td>3</td>\n",
       "      <td>Cookies</td>\n",
       "      <td>2016-10-30 10:07:00</td>\n",
       "      <td>morning</td>\n",
       "      <td>weekend</td>\n",
       "      <td>2016-10-30</td>\n",
       "      <td>10:07:00</td>\n",
       "      <td>Oct.</td>\n",
       "      <td>09-10</td>\n",
       "      <td>6</td>\n",
       "    </tr>\n",
       "    <tr>\n",
       "      <th>6</th>\n",
       "      <td>4</td>\n",
       "      <td>Muffin</td>\n",
       "      <td>2016-10-30 10:08:00</td>\n",
       "      <td>morning</td>\n",
       "      <td>weekend</td>\n",
       "      <td>2016-10-30</td>\n",
       "      <td>10:08:00</td>\n",
       "      <td>Oct.</td>\n",
       "      <td>09-10</td>\n",
       "      <td>6</td>\n",
       "    </tr>\n",
       "    <tr>\n",
       "      <th>7</th>\n",
       "      <td>5</td>\n",
       "      <td>Coffee</td>\n",
       "      <td>2016-10-30 10:13:00</td>\n",
       "      <td>morning</td>\n",
       "      <td>weekend</td>\n",
       "      <td>2016-10-30</td>\n",
       "      <td>10:13:00</td>\n",
       "      <td>Oct.</td>\n",
       "      <td>09-10</td>\n",
       "      <td>6</td>\n",
       "    </tr>\n",
       "    <tr>\n",
       "      <th>8</th>\n",
       "      <td>5</td>\n",
       "      <td>Pastry</td>\n",
       "      <td>2016-10-30 10:13:00</td>\n",
       "      <td>morning</td>\n",
       "      <td>weekend</td>\n",
       "      <td>2016-10-30</td>\n",
       "      <td>10:13:00</td>\n",
       "      <td>Oct.</td>\n",
       "      <td>09-10</td>\n",
       "      <td>6</td>\n",
       "    </tr>\n",
       "    <tr>\n",
       "      <th>9</th>\n",
       "      <td>5</td>\n",
       "      <td>Bread</td>\n",
       "      <td>2016-10-30 10:13:00</td>\n",
       "      <td>morning</td>\n",
       "      <td>weekend</td>\n",
       "      <td>2016-10-30</td>\n",
       "      <td>10:13:00</td>\n",
       "      <td>Oct.</td>\n",
       "      <td>09-10</td>\n",
       "      <td>6</td>\n",
       "    </tr>\n",
       "  </tbody>\n",
       "</table>\n",
       "</div>"
      ],
      "text/plain": [
       "   Transaction           Item           date_time period_day weekday_weekend  \\\n",
       "0            1          Bread 2016-10-30 09:58:00    morning         weekend   \n",
       "1            2   Scandinavian 2016-10-30 10:05:00    morning         weekend   \n",
       "2            2   Scandinavian 2016-10-30 10:05:00    morning         weekend   \n",
       "3            3  Hot chocolate 2016-10-30 10:07:00    morning         weekend   \n",
       "4            3            Jam 2016-10-30 10:07:00    morning         weekend   \n",
       "5            3        Cookies 2016-10-30 10:07:00    morning         weekend   \n",
       "6            4         Muffin 2016-10-30 10:08:00    morning         weekend   \n",
       "7            5         Coffee 2016-10-30 10:13:00    morning         weekend   \n",
       "8            5         Pastry 2016-10-30 10:13:00    morning         weekend   \n",
       "9            5          Bread 2016-10-30 10:13:00    morning         weekend   \n",
       "\n",
       "         date      time month  rhour  weekday  \n",
       "0  2016-10-30  09:58:00  Oct.  08-09        6  \n",
       "1  2016-10-30  10:05:00  Oct.  09-10        6  \n",
       "2  2016-10-30  10:05:00  Oct.  09-10        6  \n",
       "3  2016-10-30  10:07:00  Oct.  09-10        6  \n",
       "4  2016-10-30  10:07:00  Oct.  09-10        6  \n",
       "5  2016-10-30  10:07:00  Oct.  09-10        6  \n",
       "6  2016-10-30  10:08:00  Oct.  09-10        6  \n",
       "7  2016-10-30  10:13:00  Oct.  09-10        6  \n",
       "8  2016-10-30  10:13:00  Oct.  09-10        6  \n",
       "9  2016-10-30  10:13:00  Oct.  09-10        6  "
      ]
     },
     "execution_count": 64,
     "metadata": {},
     "output_type": "execute_result"
    }
   ],
   "source": [
    "# date convert\n",
    "df['date_time'] = pd.to_datetime(df['date_time'])\n",
    "# df.head()\n",
    "df['date'] = df['date_time'].dt.date\n",
    "df['time'] = df['date_time'].dt.time\n",
    "df['month'] = df['date_time'].dt.month\n",
    "df['month'] = df['month'].replace((1, 2, 3, 4, 5, 6, 7, 8, 9, 10,11, 12), \n",
    "        ('Jan.','Feb.', 'Mar.', 'Apri.', 'May.', 'Jun.', 'Jul.', 'Aug.', 'Sep.', 'Oct.', 'Nov.', 'Dec.'))\n",
    "df['rhour'] = df['date_time'].dt.hour\n",
    "df['rhour'] = df['rhour'].replace((1, 2, 3, 4, 5, 6, 7, 8, 9, 10, 11, 12, 13, 14, 15, 16, 17, 18, 19, 20, 21, 22, 23,0),\n",
    "                                      ('00-01', '01-02', '02-03', '03-04', '04-05', '05-06', '06-07', '07-08', \n",
    "                                       '08-09', '09-10', '10-11', '11-12', '12-13', '13-14', '14-15', '15-16', \n",
    "                                       '16-17', '17-18', '18-19', '19-20', '20-21', '21-22', '22-23', '23-00'))\n",
    "df['weekday'] = df['date_time'].dt.weekday\n",
    "\n",
    "df.head(10)"
   ]
  },
  {
   "cell_type": "code",
   "execution_count": 65,
   "metadata": {},
   "outputs": [
    {
     "data": {
      "text/html": [
       "<div>\n",
       "<style scoped>\n",
       "    .dataframe tbody tr th:only-of-type {\n",
       "        vertical-align: middle;\n",
       "    }\n",
       "\n",
       "    .dataframe tbody tr th {\n",
       "        vertical-align: top;\n",
       "    }\n",
       "\n",
       "    .dataframe thead th {\n",
       "        text-align: right;\n",
       "    }\n",
       "</style>\n",
       "<table border=\"1\" class=\"dataframe\">\n",
       "  <thead>\n",
       "    <tr style=\"text-align: right;\">\n",
       "      <th></th>\n",
       "      <th>Transaction</th>\n",
       "      <th>Item</th>\n",
       "      <th>date_time</th>\n",
       "      <th>period_day</th>\n",
       "      <th>weekday_weekend</th>\n",
       "      <th>date</th>\n",
       "      <th>time</th>\n",
       "      <th>month</th>\n",
       "      <th>rhour</th>\n",
       "      <th>weekday</th>\n",
       "    </tr>\n",
       "  </thead>\n",
       "  <tbody>\n",
       "    <tr>\n",
       "      <th>0</th>\n",
       "      <td>1</td>\n",
       "      <td>bread</td>\n",
       "      <td>2016-10-30 09:58:00</td>\n",
       "      <td>morning</td>\n",
       "      <td>weekend</td>\n",
       "      <td>2016-10-30</td>\n",
       "      <td>09:58:00</td>\n",
       "      <td>Oct.</td>\n",
       "      <td>08-09</td>\n",
       "      <td>6</td>\n",
       "    </tr>\n",
       "    <tr>\n",
       "      <th>1</th>\n",
       "      <td>2</td>\n",
       "      <td>scandinavian</td>\n",
       "      <td>2016-10-30 10:05:00</td>\n",
       "      <td>morning</td>\n",
       "      <td>weekend</td>\n",
       "      <td>2016-10-30</td>\n",
       "      <td>10:05:00</td>\n",
       "      <td>Oct.</td>\n",
       "      <td>09-10</td>\n",
       "      <td>6</td>\n",
       "    </tr>\n",
       "    <tr>\n",
       "      <th>2</th>\n",
       "      <td>2</td>\n",
       "      <td>scandinavian</td>\n",
       "      <td>2016-10-30 10:05:00</td>\n",
       "      <td>morning</td>\n",
       "      <td>weekend</td>\n",
       "      <td>2016-10-30</td>\n",
       "      <td>10:05:00</td>\n",
       "      <td>Oct.</td>\n",
       "      <td>09-10</td>\n",
       "      <td>6</td>\n",
       "    </tr>\n",
       "    <tr>\n",
       "      <th>3</th>\n",
       "      <td>3</td>\n",
       "      <td>hot chocolate</td>\n",
       "      <td>2016-10-30 10:07:00</td>\n",
       "      <td>morning</td>\n",
       "      <td>weekend</td>\n",
       "      <td>2016-10-30</td>\n",
       "      <td>10:07:00</td>\n",
       "      <td>Oct.</td>\n",
       "      <td>09-10</td>\n",
       "      <td>6</td>\n",
       "    </tr>\n",
       "    <tr>\n",
       "      <th>4</th>\n",
       "      <td>3</td>\n",
       "      <td>jam</td>\n",
       "      <td>2016-10-30 10:07:00</td>\n",
       "      <td>morning</td>\n",
       "      <td>weekend</td>\n",
       "      <td>2016-10-30</td>\n",
       "      <td>10:07:00</td>\n",
       "      <td>Oct.</td>\n",
       "      <td>09-10</td>\n",
       "      <td>6</td>\n",
       "    </tr>\n",
       "  </tbody>\n",
       "</table>\n",
       "</div>"
      ],
      "text/plain": [
       "   Transaction           Item           date_time period_day weekday_weekend  \\\n",
       "0            1          bread 2016-10-30 09:58:00    morning         weekend   \n",
       "1            2   scandinavian 2016-10-30 10:05:00    morning         weekend   \n",
       "2            2   scandinavian 2016-10-30 10:05:00    morning         weekend   \n",
       "3            3  hot chocolate 2016-10-30 10:07:00    morning         weekend   \n",
       "4            3            jam 2016-10-30 10:07:00    morning         weekend   \n",
       "\n",
       "         date      time month  rhour  weekday  \n",
       "0  2016-10-30  09:58:00  Oct.  08-09        6  \n",
       "1  2016-10-30  10:05:00  Oct.  09-10        6  \n",
       "2  2016-10-30  10:05:00  Oct.  09-10        6  \n",
       "3  2016-10-30  10:07:00  Oct.  09-10        6  \n",
       "4  2016-10-30  10:07:00  Oct.  09-10        6  "
      ]
     },
     "execution_count": 65,
     "metadata": {},
     "output_type": "execute_result"
    }
   ],
   "source": [
    "df['Item'] = df['Item'].str.strip()\n",
    "df['Item'] = df['Item'].str.lower()\n",
    "df.head()"
   ]
  },
  {
   "cell_type": "code",
   "execution_count": 66,
   "metadata": {},
   "outputs": [
    {
     "data": {
      "text/plain": [
       "9465"
      ]
     },
     "execution_count": 66,
     "metadata": {},
     "output_type": "execute_result"
    }
   ],
   "source": [
    "# count of uique cunstomers\n",
    "df['Transaction'].nunique()"
   ]
  },
  {
   "cell_type": "markdown",
   "metadata": {},
   "source": [
    "#### _Comment on previous cell output (optional)_\n",
    "a simple explantion"
   ]
  },
  {
   "cell_type": "code",
   "execution_count": 73,
   "metadata": {},
   "outputs": [
    {
     "name": "stdout",
     "output_type": "stream",
     "text": [
      "Index(['coffee', 'bread', 'tea', 'cake', 'pastry', 'sandwich', 'medialuna',\n",
      "       'hot chocolate', 'cookies', 'brownie', 'farm house', 'muffin', 'juice',\n",
      "       'alfajores', 'soup', 'scone', 'toast', 'scandinavian', 'truffles',\n",
      "       'coke', 'spanish brunch', 'fudge', 'baguette', 'jam', 'tiffin'],\n",
      "      dtype='object') [5471 3325 1435 1025  856  771  616  590  540  379  374  370  369  369\n",
      "  342  327  318  277  193  185  172  159  152  149  146]\n"
     ]
    }
   ],
   "source": [
    "def most_top_n_items(n):\n",
    "    x = df.Item.value_counts().head(n).index\n",
    "    y = df.Item.value_counts().head(n).values\n",
    "    \n",
    "    return x, y\n",
    "\n",
    "x, y = most_top_n_items(25)\n",
    "print(x, y)"
   ]
  },
  {
   "cell_type": "code",
   "execution_count": 76,
   "metadata": {},
   "outputs": [
    {
     "data": {
      "image/png": "[encoded data removed]",
      "text/plain": [
       "<Figure size 1080x360 with 1 Axes>"
      ]
     },
     "metadata": {
      "needs_background": "light"
     },
     "output_type": "display_data"
    }
   ],
   "source": [
    "plt.figure(figsize=(15,5))\n",
    "sns.barplot(x, y, palette='gnuplot')\n",
    "plt.xlabel('Items', size = 15)\n",
    "plt.xticks(rotation=45)\n",
    "plt.ylabel('count of items')\n",
    "plt.title('The most top n propular Items', color = 'black')\n",
    "plt.show()"
   ]
  },
  {
   "cell_type": "markdown",
   "metadata": {},
   "source": [
    "# Project Outcome (10 + 10 marks)\n",
    "(200-400 words explanation for each objective)"
   ]
  },
  {
   "cell_type": "markdown",
   "metadata": {
    "slideshow": {
     "slide_type": "fragment"
    }
   },
   "source": [
    "## Overview of Results\n",
    "_Give a general overview of the results (around 200 words)._"
   ]
  },
  {
   "cell_type": "markdown",
   "metadata": {},
   "source": [
    "## Objective 1\n",
    "\n",
    "### Explanation of Results\n",
    "\n",
    "_200-400 words_\n",
    "\n",
    "### Visualisation\n",
    "_The following bar chart gives a vivid representation of the distribution\n",
    "of fridge magnet types, in which the dominance of 'meme' type magnets\n",
    "is dramatically illustrated._"
   ]
  },
  {
   "cell_type": "code",
   "execution_count": 3,
   "metadata": {},
   "outputs": [],
   "source": [
    "# plot"
   ]
  },
  {
   "cell_type": "markdown",
   "metadata": {},
   "source": [
    "## Objective 2 _(if present)_\n",
    "### Explanation of Results\n",
    "\n",
    "200-400 Words\n",
    "\n",
    "### Visualisation"
   ]
  },
  {
   "cell_type": "code",
   "execution_count": 4,
   "metadata": {},
   "outputs": [],
   "source": [
    "# plot"
   ]
  },
  {
   "cell_type": "markdown",
   "metadata": {},
   "source": [
    "## Objective 3 _(if present)_\n",
    "### Explanation of Results\n",
    "\n",
    "200-400 Words\n",
    "\n",
    "### Visualisation"
   ]
  },
  {
   "cell_type": "code",
   "execution_count": 5,
   "metadata": {},
   "outputs": [],
   "source": [
    "# plot"
   ]
  },
  {
   "cell_type": "markdown",
   "metadata": {},
   "source": [
    "# Conclusion (5 marks)\n",
    "\n",
    "(around 200-400 words)\n",
    "\n",
    "### Acheivements\n",
    "\n",
    "\n",
    "### Limitations\n",
    "\n",
    "\n",
    "### Future Work\n"
   ]
  },
  {
   "cell_type": "markdown",
   "metadata": {},
   "source": [
    "# Grading\n",
    "\n",
    "_Feedback and marks will be given here._\n",
    "\n",
    "### Feedback\n",
    "\n",
    "### Marks"
   ]
  },
  {
   "cell_type": "code",
   "execution_count": 56,
   "metadata": {},
   "outputs": [
    {
     "data": {
      "text/plain": [
       "60"
      ]
     },
     "execution_count": 56,
     "metadata": {},
     "output_type": "execute_result"
    }
   ],
   "source": [
    "DATA   = 10\n",
    "AIMS   =  5\n",
    "DESIGN = 5\n",
    "\n",
    "CODE = 15\n",
    "\n",
    "OUTCOME_EXPLANATION   = 10\n",
    "OUTCOME_VISUALISATION = 10\n",
    "\n",
    "CONCLUSION = 5\n",
    "\n",
    "TOTAL = ( DATA + AIMS + DESIGN + CODE \n",
    "          + OUTCOME_VISUALISATION + OUTCOME_VISUALISATION\n",
    "          + CONCLUSION )\n",
    "TOTAL"
   ]
  },
  {
   "cell_type": "code",
   "execution_count": null,
   "metadata": {},
   "outputs": [],
   "source": []
  }
 ],
 "metadata": {
  "kernelspec": {
   "display_name": "Python 3",
   "language": "python",
   "name": "python3"
  },
  "language_info": {
   "codemirror_mode": {
    "name": "ipython",
    "version": 3
   },
   "file_extension": ".py",
   "mimetype": "text/x-python",
   "name": "python",
   "nbconvert_exporter": "python",
   "pygments_lexer": "ipython3",
   "version": "3.7.9"
  }
 },
 "nbformat": 4,
 "nbformat_minor": 4
}
