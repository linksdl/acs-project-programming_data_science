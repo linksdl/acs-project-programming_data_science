{
 "cells": [
  {
   "cell_type": "markdown",
   "metadata": {},
   "source": [
    "# Write a function that translates a string into Morse Code\n",
    "\n",
    "https://en.wikipedia.org/wiki/Morse_code"
   ]
  },
  {
   "cell_type": "code",
   "execution_count": 15,
   "metadata": {},
   "outputs": [],
   "source": [
    "morse_code = {\n",
    "    \"A\" : \".-\"    ,     \n",
    "    \"B\" : \"-...\"  ,\n",
    "    \"C\" : \"-.-.\"  ,\n",
    "    \"D\" : \"-.-.\"  ,\n",
    "    \"E\" : \"-xx\"   ,\n",
    "    \"F\" : \"..-.\"  ,\n",
    "    \"G\" : \"--.\"   ,\n",
    "    \"H\" : \"....\"  ,\n",
    "    \"I\" : \"..\"    ,\n",
    "    \"J\" : \".---\"  ,\n",
    "    \"K\" : \"-.-\"   ,\n",
    "    \"L\" : \".-..\"  ,\n",
    "    \"M\" : \"--\"    ,\n",
    "    \"N\" : \"-.\"    ,\n",
    "    \"O\" : \"---\"   ,\n",
    "    \"P\" : \".--.\"  ,\n",
    "    \"Q\" : \"--.-\"  ,\n",
    "    \"R\" : \".-.\"   ,\n",
    "    \"S\" : \"...\"   ,\n",
    "    \"T\" : \"-\"     ,\n",
    "    \"U\" : \"..-\"   ,\n",
    "    \"V\" : \"...-\"  ,\n",
    "    \"W\" : \".--\"   ,\n",
    "    \"X\" : \"-..-\"  ,\n",
    "    \"Y\" : \"-.--\"  ,\n",
    "    \"Z\" : \"--..\"  ,\n",
    "}"
   ]
  },
  {
   "cell_type": "code",
   "execution_count": 10,
   "metadata": {},
   "outputs": [
    {
     "data": {
      "text/plain": [
       "'-...'"
      ]
     },
     "execution_count": 10,
     "metadata": {},
     "output_type": "execute_result"
    }
   ],
   "source": [
    "morse_code[\"B\"]"
   ]
  },
  {
   "cell_type": "code",
   "execution_count": null,
   "metadata": {},
   "outputs": [],
   "source": []
  },
  {
   "cell_type": "code",
   "execution_count": 39,
   "metadata": {},
   "outputs": [],
   "source": [
    "def translate_string_to_morse( str ):\n",
    "    str = str.upper()\n",
    "    code = \"\"\n",
    "    for c in str:\n",
    "        if (c >= \"A\" and c <= \"Z\"):\n",
    "           code = code + morse_code[c] + \" \"\n",
    "    return code[:-1]\n",
    "\n",
    "def test_morse():\n",
    "    trans1 = translate_string_to_morse(\"SOS\")\n",
    "    print( trans1 )\n",
    "    trans2 = translate_string_to_morse(\"hello\")\n",
    "    print( trans2 )\n",
    "    trans3 = translate_string_to_morse(\"Hello!\")\n",
    "    print( trans3 )\n",
    "    trans4 = translate_string_to_morse(\"\")\n",
    "    print( trans5 )\n",
    "    \n",
    "#test_morse()\n"
   ]
  },
  {
   "cell_type": "code",
   "execution_count": 40,
   "metadata": {},
   "outputs": [
    {
     "data": {
      "text/plain": [
       "'- .... .- - ... .- .-.. .-.. ..-. --- .-.. -.- ...'"
      ]
     },
     "execution_count": 40,
     "metadata": {},
     "output_type": "execute_result"
    }
   ],
   "source": [
    "translate_string_to_morse(\"That's all folks!\")\n"
   ]
  }
 ],
 "metadata": {
  "kernelspec": {
   "display_name": "Python 3",
   "language": "python",
   "name": "python3"
  },
  "language_info": {
   "codemirror_mode": {
    "name": "ipython",
    "version": 3
   },
   "file_extension": ".py",
   "mimetype": "text/x-python",
   "name": "python",
   "nbconvert_exporter": "python",
   "pygments_lexer": "ipython3",
   "version": "3.7.1"
  }
 },
 "nbformat": 4,
 "nbformat_minor": 2
}
