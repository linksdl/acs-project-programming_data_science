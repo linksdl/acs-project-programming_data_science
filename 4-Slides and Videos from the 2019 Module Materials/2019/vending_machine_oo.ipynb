{
 "cells": [
  {
   "cell_type": "markdown",
   "metadata": {},
   "source": [
    "# Object Oriented Vending Machine"
   ]
  },
  {
   "cell_type": "code",
   "execution_count": 1,
   "metadata": {},
   "outputs": [
    {
     "name": "stdout",
     "output_type": "stream",
     "text": [
      "* * * * * * * Buys drink * Buys drink * Buys drink * * * * Buys drink * * * * * * Buys biscuits, drink * * * Buys crisps * * * Buys drink * * * * * * * * * * * * * * * * * Buys drink * * * * * * * * * * * Buys drink * * Buys crisps * * * * * * Buys drink * * * * * * Buys drink * * * * Buys drink * * * * Buys crisps * * * * * * * Buys crisps * Buys crisps * * * * * * * * * * * Buys drink * * * Buys drink * * * * Buys crisps * * * * * * Buys biscuits * * * * * * * * Buys drink * * * * * Buys crisps * * * * * * * * * * Buys crisps * * * * Buys drink * * * * * * * * * * * * * * * * * * * * Buys drink * * Buys crisps * * * Buys crisps, drink * * Buys drink * * * * * * * Buys biscuits * * * * * * * * Buys crisps, drink * Buys crisps * Buys drink * * * * * Buys biscuits * * * * * * Buys drink * * * * * Buys drink * Buys drink * * * * * * * * * * * Buys drink * * Buys drink * * * * Buys drink * * * * * * * * Buys drink * * * * * Buys drink * * Buys drink * * * * * * * * * * Buys crisps * * Buys crisps * Buys biscuits * * * * * * Buys drink * * * * * * * Buys drink * * * * * * * * Buys crisps * Buys biscuits * * Buys drink * * * * * * * * Buys drink * * * * * * Buys biscuits * * Buys crisps * * * Buys drink * * * * * * * * * * * * * * * * Buys drink * * * * * * Buys drink * * * * * Buys drink * * * * * * * Buys drink * * Buys drink * * Buys crisps * * * Buys drink * * * * * * * * * * Buys crisps * * * * * * * * * * * * * Can't buy drink! * * * * * * * * Can't buy drink! * Buys crisps * * * * * Can't buy drink! * * Can't buy drink! * * * * * * * * Can't buy drink! * * * Can't buy drink! * * Buys biscuits * * Can't buy drink! * * * * * * Buys crisps * * * * * * * * Can't buy drink! * * * * * * * * Buys biscuits, crisps * Can't buy drink! * * * * * * * Can't buy drink! * * * * * * Buys crisps * * * * Passers: 418\n",
      "Cash taken: 2155\n"
     ]
    }
   ],
   "source": [
    "import random\n",
    "\n",
    "class Item:\n",
    "    def __init__(self, name, cost, popularity):\n",
    "        self.name = name\n",
    "        self.cost = cost\n",
    "        self.popularity = popularity\n",
    "\n",
    "        \n",
    "class StockEntry:\n",
    "    def __init__(self, item, number ):\n",
    "        self.item = item\n",
    "        self.number = number\n",
    "        \n",
    "           \n",
    "class VendingMachine:\n",
    "    def __init__(self, stock):\n",
    "        self.passers = 0\n",
    "        self.cash_taken = 0\n",
    "        self.stock = stock\n",
    " \n",
    "    def simulate( self, days, footfall ):\n",
    "        minutes = days * 24 * 60\n",
    "        for x in range(minutes):\n",
    "            # test whether someone passes machine\n",
    "            if random.random() < footfall: \n",
    "               self.passers += 1\n",
    "               print(\"*\", end=\" \")\n",
    "               self.make_purchases()   \n",
    "        \n",
    "    def make_purchases(self):\n",
    "        buys = []\n",
    "        for entry in self.stock:\n",
    "            if random.random() < entry.item.popularity:\n",
    "               if entry.number > 0:\n",
    "                  entry.number -= 1\n",
    "                  buys.append(entry.item.name)\n",
    "                  self.cash_taken += entry.item.cost\n",
    "               else:\n",
    "                  print(\"Can't buy\", entry.item.name, end =\"! \")\n",
    "        if buys:\n",
    "              print(\"Buys\", \", \".join(buys) , end=\" \")\n",
    "                \n",
    "\n",
    "                \n",
    "STOCK = [ StockEntry( Item( \"biscuits\", 45, 0.02 ), 50 ),\n",
    "          StockEntry( Item( \"crisps\",   25, 0.06), 30 ),\n",
    "          StockEntry( Item( \"drink\",    30, 0.1 ), 40 )\n",
    "        ]                     \n",
    "      \n",
    "                        \n",
    "vm = VendingMachine( STOCK )  \n",
    "vm.simulate(3, 0.1)\n",
    "print(\"Passers:\", vm.passers)\n",
    "print(\"Cash taken:\", vm.cash_taken)\n",
    "\n",
    "#print(\"--- First test finished\")\n",
    "\n",
    "#vm.simulate(3, 0.1)\n",
    "#print(\"Passers:\", vm.passers)\n",
    "#print(\"Cash taken:\", vm.cash_taken)\n",
    "\n"
   ]
  },
  {
   "cell_type": "code",
   "execution_count": 5,
   "metadata": {},
   "outputs": [
    {
     "name": "stdout",
     "output_type": "stream",
     "text": [
      "* * Buys crisps * * * Can't buy drink! * Buys crisps * Buys crisps * Buys crisps * * Can't buy drink! * * * * * * * * * * * * * * * Can't buy drink! * * * * Buys crisps * * * * * * * * * Buys crisps * Buys crisps * * * * * * * * * * * * * * Buys biscuits * * * * * * * * * * * * Can't buy drink! * * * * * * * * * * * * * * * * Can't buy drink! * * * Can't buy drink! * * * * * * Can't buy drink! * * * * * * * * * * * * * Can't buy drink! * * * * * Can't buy drink! * * * * * * Buys crisps * Can't buy drink! * * * * * * Can't buy crisps! * * Can't buy drink! * * * Can't buy drink! * * Can't buy crisps! * * * * * * * * * * * * Can't buy crisps! * * * * * * * * * * * Can't buy crisps! Can't buy drink! * * * * * * * * * * Can't buy drink! * * * * Can't buy drink! * * * * * * * * * * * * Can't buy drink! * * * * * * * * * * * * Can't buy drink! * * * Can't buy drink! * * * Can't buy crisps! Can't buy drink! * * * * * * Can't buy crisps! * * Can't buy drink! * Can't buy drink! * * * * * * * * * * * * * * * * * * * * * * Can't buy crisps! * * * Can't buy drink! * * * * * * * Can't buy drink! * * * * * Can't buy drink! * * * * Can't buy drink! * * * * * * * * * * * * * * * * * * * Can't buy drink! * * * * * Can't buy drink! * Can't buy drink! * Can't buy crisps! * * Can't buy drink! * * * * * * * * * * * * * * * * * * * * * * * * * * * * Can't buy drink! * * * Can't buy crisps! * * Can't buy crisps! * * * * Can't buy drink! * * * * * * * * * * * * Can't buy drink! * * * * * * * * * * * * * * * * * * * * * * * * * Can't buy crisps! * Can't buy crisps! * * * * * Can't buy crisps! Can't buy drink! * * Can't buy drink! * * * * Can't buy crisps! * Can't buy drink! * * * Can't buy drink! * * Can't buy drink! * * * * * * * * * * * * * * Can't buy crisps! * * * * * * * * Can't buy drink! * * * * * * * Can't buy drink! * * * * * * * * * * Can't buy crisps! * * * * * * * Can't buy crisps! * * * * Can't buy crisps! * Buys biscuits * * * * * * * Can't buy crisps! * * * * * * * * * Can't buy crisps! * * * * * * * * * * Buys biscuits * * * Can't buy drink! * * * * * Can't buy crisps! * Can't buy crisps! * * * * * * * Can't buy drink! * * * * * Can't buy crisps! * * * * * * * * * * * * Can't buy drink! * * * * * * * Can't buy drink! * * * * * * * Can't buy drink! * * * * Can't buy crisps! * Can't buy drink! * * * * * Can't buy crisps! Can't buy drink! * * * * * * * * * Can't buy drink! * * * * * * * * * * * Can't buy drink! * Buys biscuits * * * Can't buy drink! * Can't buy drink! * Can't buy drink! * Can't buy drink! * * * * * * * * Can't buy crisps! * * * Can't buy drink! * * * * Can't buy crisps! * * * * * * Can't buy drink! * Can't buy drink! * * * * Buys biscuits * * Can't buy crisps! * * * * * * * * Can't buy drink! * * * * * Can't buy crisps! * * * * * Can't buy drink! * Can't buy drink! * * * Can't buy drink! * * * * * * * * * Can't buy drink! * * * * Can't buy crisps! * * * * * * * * * * * * * * * * * * * * * * * Can't buy drink! * Can't buy crisps! Can't buy drink! * * * * * * * * * * * * * * * * * * * * * * * Can't buy crisps! * * Buys biscuits * * * * * Can't buy crisps! Can't buy drink! * * * * * Can't buy drink! * * Buys biscuits * * Can't buy drink! * * Can't buy crisps! * * * * * * Can't buy drink! * Can't buy drink! * * * * * * * Can't buy drink! * * * * Can't buy crisps! * * * * * * * Can't buy drink! * * Can't buy crisps! * * * * * * * Can't buy crisps! * * * * * * * * * * * * * * * * * * * * * * * * * * Can't buy drink! * * * * * Can't buy crisps! * * * * * Can't buy drink! * * * * * * * * * * * * * * * * * * * * * * * * * * * * * * * * Can't buy drink! * Buys biscuits * * * * Can't buy drink! * * * * * * * * Can't buy crisps! * * * * * * * * * * * * * Buys biscuits * * * * * * * Buys biscuits * * * * Buys biscuits * * * * * * * * Can't buy drink! * * * * * * * * * * * * * * * * * * * * Can't buy crisps! Can't buy drink! * * * Can't buy drink! * * * * * * * Can't buy drink! * * * * * * * Can't buy crisps! * * * Can't buy drink! * * * * * * * * * * * * * * * * * * * * * * * * Can't buy crisps! * * * * * Can't buy drink! * * * * * * Can't buy drink! * Can't buy drink! * * * * * * * * * Buys biscuits * Can't buy crisps! * * * * * * Can't buy crisps! * Buys biscuits * * * * Buys biscuits * * * * * * * * * * * * * * Can't buy drink! * * * Can't buy drink! * * Can't buy drink! * * Can't buy crisps! * * * Can't buy crisps! * * * * * * * Can't buy drink! * * * * * * * * * * * * * * * * * * * * * * * * * * * * * * * * * Can't buy crisps! * * * * * * * * Can't buy crisps! * Can't buy drink! * * * * Can't buy crisps! * Can't buy drink! * * * * Can't buy drink! * Can't buy drink! * * * Can't buy crisps! * * * Can't buy drink! * * * * * * * * * * * * * * * * * * * * * * * * * * * * Can't buy drink! * * * Can't buy drink! * * * * * Can't buy drink! * * Can't buy crisps! * Buys biscuits * * * * * * * * * * Can't buy drink! * * * * * * * * * * * * Can't buy crisps! * * * * * * * Can't buy crisps! * * Can't buy drink! * * * Can't buy drink! * Can't buy drink! * * * * Buys biscuits * * * * * * * Can't buy crisps! * Can't buy drink! * * * * * Can't buy crisps! * * * * * * * * * * * * * * * * * * * Can't buy drink! * * * * * * * * * * * Can't buy crisps! Can't buy drink! * * * Can't buy crisps! * * * Can't buy crisps! * * * * * Can't buy drink! * * * * * * * * Buys biscuits * * Can't buy crisps! * * * * * Can't buy crisps! * * * * Can't buy crisps! * * * * Can't buy crisps! * * * * * Buys biscuits * Can't buy crisps! * * Can't buy drink! * * * * * Can't buy crisps! * * * * * * * * * * * * * * * * * * * * * * * * Can't buy crisps! * Can't buy drink! * * * * * * * * * * * * * * * * * * * * * * * * * * * * * * * Can't buy drink! * * * * * * * * Can't buy drink! * * * * * Can't buy drink! * * * * * * * * * Can't buy crisps! * * * * * * Can't buy drink! * * Can't buy drink! * * * * * * * * Can't buy crisps! * * * * Can't buy drink! * * * * * Can't buy drink! * * * Can't buy crisps! * * Can't buy crisps! Can't buy drink! * * * * * * * * * * * * Buys biscuits * * Can't buy crisps! * Can't buy drink! * * * * * Can't buy drink! * * Can't buy crisps! * * * * * * * * * * * Can't buy drink! * * * * * Can't buy drink! * * * * * * * * * * Can't buy drink! * * * * * * * * Can't buy drink! * * * * * * * Buys biscuits * * * * Buys biscuits * * * Can't buy crisps! * * Can't buy drink! * * * * * Can't buy crisps! * * * * * * * Can't buy drink! * Can't buy crisps! Can't buy drink! * * * * * Can't buy crisps! * * Can't buy drink! * * * * * * * * Can't buy drink! * * Can't buy drink! * * * * Can't buy crisps! * * Can't buy crisps! * * Can't buy drink! * * * * * * Can't buy crisps! * * * * Can't buy crisps! * * * * * * * * * * * * * Can't buy drink! * Can't buy crisps! Buys biscuits * * * * * * * Can't buy drink! * * * * * Can't buy drink! * * * * * * * * * * * Can't buy drink! * Can't buy crisps! Can't buy drink! * * Can't buy drink! * * * * * * * * * * * * * * * * * * * * * * * * Can't buy crisps! * Can't buy drink! * * * * * * * * Can't buy drink! * * * * * * * * * * * * * Buys biscuits * Can't buy crisps! * * * * * * * * * * * Can't buy drink! * * * * * * * * * * * * * * * * * * Can't buy crisps! * * * Buys biscuits * * * * Can't buy crisps! * * * * * * * * Can't buy drink! * * * * * * Can't buy crisps! * * * Can't buy drink! Buys biscuits * * * Can't buy crisps! * * * * Can't buy crisps! * * Can't buy drink! * * Can't buy drink! * * * Can't buy drink! * * * * * * * * Can't buy drink! * * * * * * * Can't buy crisps! * Can't buy crisps! * * * * * * Can't buy drink! * * * * * * Can't buy drink! * * * * * * * * * * * * * * * * * Can't buy crisps! * Can't buy crisps! Can't buy drink! * * Can't buy drink! * * * * * * * Can't buy drink! * Buys biscuits * * * * * * * * * * * * * * Can't buy crisps! * * Can't buy drink! * * * * * * * * * * * * * * * * Can't buy crisps! * * * Can't buy crisps! * * * * * * * * * * * * Can't buy crisps! * * * * Can't buy drink! * * * * Can't buy crisps! * * * * Can't buy drink! * Can't buy drink! * * * * * * * * Can't buy crisps! * * * * * Can't buy drink! * * * * * * * * * * * * * * * Can't buy crisps! * * * * * * * * * * * * * * * * * Can't buy drink! * * Can't buy crisps! * * * * * * * * Can't buy drink! * * * * Can't buy drink! * * * * * Can't buy drink! * * * * * * * * * * * * Can't buy drink! * * * Can't buy crisps! * * * * * * * * * * * * * * Can't buy drink! * * * * * * * * * * Can't buy drink! * * * * * * * * * * * Can't buy drink! * * * * * * * * * * * Can't buy crisps! * * * * * * Buys biscuits * * * * Can't buy crisps! * * Can't buy drink! * Can't buy drink! * * * * * * * Can't buy drink! * * * * * * * * * * * * * Can't buy crisps! * * * * Can't buy drink! * * Can't buy crisps! * * * Can't buy crisps! * * * * * Buys biscuits * * * * * * * * * * * * * * * * * * * * * Can't buy crisps! * * * * * * * * * Can't buy crisps! Can't buy drink! * * * * * * Can't buy crisps! * Can't buy crisps! * Can't buy drink! * * * * * * * * * * * * * * Can't buy crisps! * * * * * * Can't buy drink! * Can't buy drink! * * Can't buy crisps! * Can't buy drink! * * * * * * * * * * * * * * Can't buy crisps! * * * * * * * * * * * Can't buy drink! * * Can't buy drink! * Can't buy crisps! * * Buys biscuits * * * * * Can't buy drink! * * * * * * * * * * * * * * Can't buy drink! * * * * * * * Can't buy drink! * * * * Can't buy crisps! * * * * * * * * * * Can't buy drink! * Can't buy crisps! * * * Can't buy drink! * * * * * * * * * Can't buy crisps! * Can't buy drink! * * Can't buy crisps! * * * * * Buys biscuits * * * * * * * * * * Can't buy drink! * * Can't buy crisps! * * * * * * Can't buy drink! * Can't buy crisps! * * Can't buy crisps! * * * Can't buy crisps! * * Can't buy crisps! * * * * * Can't buy crisps! * * * * * Can't buy crisps! * * * Can't buy drink! * * * * * * * * Can't buy crisps! * * * * * Can't buy drink! * * * Can't buy crisps! * * Can't buy drink! * * * * * * * * * * * * * * * * * * * * * * Can't buy crisps! * Can't buy crisps! * * Can't buy drink! * * * * Can't buy drink! * * * * * * * * * * * * * * * * * * * * "
     ]
    }
   ],
   "source": [
    "#vm.stock[0].number\n",
    "vm.simulate(5, 0.3)"
   ]
  },
  {
   "cell_type": "code",
   "execution_count": null,
   "metadata": {},
   "outputs": [],
   "source": []
  }
 ],
 "metadata": {
  "kernelspec": {
   "display_name": "Python 3",
   "language": "python",
   "name": "python3"
  },
  "language_info": {
   "codemirror_mode": {
    "name": "ipython",
    "version": 3
   },
   "file_extension": ".py",
   "mimetype": "text/x-python",
   "name": "python",
   "nbconvert_exporter": "python",
   "pygments_lexer": "ipython3",
   "version": "3.7.1"
  }
 },
 "nbformat": 4,
 "nbformat_minor": 2
}
