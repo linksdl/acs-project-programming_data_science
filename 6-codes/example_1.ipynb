{
 "cells": [
  {
   "cell_type": "code",
   "execution_count": null,
   "metadata": {},
   "outputs": [],
   "source": [
    "print(\"Hello world!\")"
   ]
  },
  {
   "cell_type": "code",
   "execution_count": null,
   "metadata": {},
   "outputs": [],
   "source": [
    "print(\"Hello world again\")"
   ]
  },
  {
   "cell_type": "code",
   "execution_count": null,
   "metadata": {},
   "outputs": [],
   "source": [
    "for x in range(10):\n",
    "    print(x ** 3)"
   ]
  },
  {
   "cell_type": "markdown",
   "metadata": {},
   "source": [
    "## Hyperlinks\n",
    "* [this is a link](https://www.baidu.com)\n",
    "\n",
    "## Tables\n",
    "\n",
    "Name | Id | Age\n",
    "----| ----|----\n",
    "sdl  | 2  | 30\n",
    "\n",
    "## HTML\n",
    "<i> Italic  </i>\n",
    "\n",
    "\n",
    "## LaTex\n",
    "\n",
    "$$ f(x) = ax^2 + bx + c $$\n",
    "\n",
    "$$ \\exists x | P(x) \\wedge Q(x) |$$\n"
   ]
  },
  {
   "cell_type": "code",
   "execution_count": 13,
   "metadata": {},
   "outputs": [
    {
     "name": "stdout",
     "output_type": "stream",
     "text": [
      "3\n",
      "27\n",
      "81\n",
      "the miximum in this numbers is : 81\n"
     ]
    }
   ],
   "source": [
    "numbers = [1,3,27,4,81,65,4,-2,7]\n",
    "\n",
    "highest_so_far = numbers[0]\n",
    "\n",
    "## print(highest_so_far)\n",
    "\n",
    "for n in numbers:\n",
    "    if n > highest_so_far:\n",
    "        highest_so_far = n\n",
    "        print(n, end = '\\n')\n",
    "    #else:\n",
    "        #print(n, end = ',')\n",
    "        \n",
    "        \n",
    "print(\"the miximum in this numbers is :\",highest_so_far)"
   ]
  },
  {
   "cell_type": "code",
   "execution_count": null,
   "metadata": {},
   "outputs": [],
   "source": []
  }
 ],
 "metadata": {
  "kernelspec": {
   "display_name": "Python 3",
   "language": "python",
   "name": "python3"
  },
  "language_info": {
   "codemirror_mode": {
    "name": "ipython",
    "version": 3
   },
   "file_extension": ".py",
   "mimetype": "text/x-python",
   "name": "python",
   "nbconvert_exporter": "python",
   "pygments_lexer": "ipython3",
   "version": "3.7.4"
  }
 },
 "nbformat": 4,
 "nbformat_minor": 2
}
